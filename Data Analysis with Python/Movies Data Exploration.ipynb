{
 "cells": [
  {
   "cell_type": "markdown",
   "metadata": {},
   "source": [
    "# Movie Metadata Data Analysis"
   ]
  },
  {
   "cell_type": "code",
   "execution_count": 1,
   "metadata": {
    "scrolled": false
   },
   "outputs": [
    {
     "name": "stdout",
     "output_type": "stream",
     "text": [
      "Populating the interactive namespace from numpy and matplotlib\n"
     ]
    }
   ],
   "source": [
    "import pandas as pd\n",
    "import numpy as np\n",
    "import seaborn as sns\n",
    "%pylab inline\n",
    "\n",
    "import sklearn as sk\n",
    "import sklearn.tree as tree\n",
    "from IPython.display import Image \n",
    "import pydotplus\n",
    "import pandas as pd\n",
    "import numpy as np\n",
    "import plotly.express as px\n",
    "import warnings\n",
    "warnings.filterwarnings(\"ignore\")\n",
    "# print all the outputs in a cell\n",
    "from IPython.core.interactiveshell import InteractiveShell\n",
    "InteractiveShell.ast_node_interactivity = \"all\""
   ]
  },
  {
   "cell_type": "markdown",
   "metadata": {},
   "source": [
    "# Cleaning"
   ]
  },
  {
   "cell_type": "code",
   "execution_count": 4,
   "metadata": {
    "scrolled": true
   },
   "outputs": [],
   "source": [
    "df = pd.read_csv(\"movies.csv\")"
   ]
  },
  {
   "cell_type": "code",
   "execution_count": 5,
   "metadata": {},
   "outputs": [
    {
     "data": {
      "text/html": [
       "<div>\n",
       "<style scoped>\n",
       "    .dataframe tbody tr th:only-of-type {\n",
       "        vertical-align: middle;\n",
       "    }\n",
       "\n",
       "    .dataframe tbody tr th {\n",
       "        vertical-align: top;\n",
       "    }\n",
       "\n",
       "    .dataframe thead th {\n",
       "        text-align: right;\n",
       "    }\n",
       "</style>\n",
       "<table border=\"1\" class=\"dataframe\">\n",
       "  <thead>\n",
       "    <tr style=\"text-align: right;\">\n",
       "      <th></th>\n",
       "      <th>adult</th>\n",
       "      <th>belongs_to_collection</th>\n",
       "      <th>budget</th>\n",
       "      <th>genres</th>\n",
       "      <th>homepage</th>\n",
       "      <th>id</th>\n",
       "      <th>imdb_id</th>\n",
       "      <th>original_language</th>\n",
       "      <th>original_title</th>\n",
       "      <th>overview</th>\n",
       "      <th>...</th>\n",
       "      <th>release_date</th>\n",
       "      <th>revenue</th>\n",
       "      <th>runtime</th>\n",
       "      <th>spoken_languages</th>\n",
       "      <th>status</th>\n",
       "      <th>tagline</th>\n",
       "      <th>title</th>\n",
       "      <th>video</th>\n",
       "      <th>vote_average</th>\n",
       "      <th>vote_count</th>\n",
       "    </tr>\n",
       "  </thead>\n",
       "  <tbody>\n",
       "    <tr>\n",
       "      <th>0</th>\n",
       "      <td>False</td>\n",
       "      <td>{'id': 10194, 'name': 'Toy Story Collection', ...</td>\n",
       "      <td>30000000</td>\n",
       "      <td>[{'id': 16, 'name': 'Animation'}, {'id': 35, '...</td>\n",
       "      <td>http://toystory.disney.com/toy-story</td>\n",
       "      <td>862</td>\n",
       "      <td>tt0114709</td>\n",
       "      <td>en</td>\n",
       "      <td>Toy Story</td>\n",
       "      <td>Led by Woody, Andy's toys live happily in his ...</td>\n",
       "      <td>...</td>\n",
       "      <td>10/30/1995</td>\n",
       "      <td>373554033.0</td>\n",
       "      <td>81.0</td>\n",
       "      <td>[{'iso_639_1': 'en', 'name': 'English'}]</td>\n",
       "      <td>Released</td>\n",
       "      <td>NaN</td>\n",
       "      <td>Toy Story</td>\n",
       "      <td>False</td>\n",
       "      <td>7.7</td>\n",
       "      <td>5415.0</td>\n",
       "    </tr>\n",
       "  </tbody>\n",
       "</table>\n",
       "<p>1 rows × 24 columns</p>\n",
       "</div>"
      ],
      "text/plain": [
       "   adult                              belongs_to_collection    budget  \\\n",
       "0  False  {'id': 10194, 'name': 'Toy Story Collection', ...  30000000   \n",
       "\n",
       "                                              genres  \\\n",
       "0  [{'id': 16, 'name': 'Animation'}, {'id': 35, '...   \n",
       "\n",
       "                               homepage   id    imdb_id original_language  \\\n",
       "0  http://toystory.disney.com/toy-story  862  tt0114709                en   \n",
       "\n",
       "  original_title                                           overview  ...  \\\n",
       "0      Toy Story  Led by Woody, Andy's toys live happily in his ...  ...   \n",
       "\n",
       "   release_date      revenue runtime  \\\n",
       "0    10/30/1995  373554033.0    81.0   \n",
       "\n",
       "                           spoken_languages    status  tagline      title  \\\n",
       "0  [{'iso_639_1': 'en', 'name': 'English'}]  Released      NaN  Toy Story   \n",
       "\n",
       "   video vote_average vote_count  \n",
       "0  False          7.7     5415.0  \n",
       "\n",
       "[1 rows x 24 columns]"
      ]
     },
     "execution_count": 5,
     "metadata": {},
     "output_type": "execute_result"
    }
   ],
   "source": [
    "df.head(1)"
   ]
  },
  {
   "cell_type": "code",
   "execution_count": 6,
   "metadata": {},
   "outputs": [
    {
     "data": {
      "text/plain": [
       "Index(['adult', 'belongs_to_collection', 'budget', 'genres', 'homepage', 'id',\n",
       "       'imdb_id', 'original_language', 'original_title', 'overview',\n",
       "       'popularity', 'poster_path', 'production_companies',\n",
       "       'production_countries', 'release_date', 'revenue', 'runtime',\n",
       "       'spoken_languages', 'status', 'tagline', 'title', 'video',\n",
       "       'vote_average', 'vote_count'],\n",
       "      dtype='object')"
      ]
     },
     "execution_count": 6,
     "metadata": {},
     "output_type": "execute_result"
    }
   ],
   "source": [
    "df.columns"
   ]
  },
  {
   "cell_type": "markdown",
   "metadata": {},
   "source": [
    "Drop Unecessary Columns"
   ]
  },
  {
   "cell_type": "code",
   "execution_count": 7,
   "metadata": {},
   "outputs": [],
   "source": [
    "df.drop(columns=['overview','spoken_languages','tagline','belongs_to_collection',\\\n",
    "                    'homepage','id','imdb_id','poster_path','video'],inplace=True)"
   ]
  },
  {
   "cell_type": "markdown",
   "metadata": {},
   "source": [
    "Let's start cleaning. We need to clean 'genres', 'production_companies', and 'production_countries'."
   ]
  },
  {
   "cell_type": "markdown",
   "metadata": {},
   "source": [
    "Clean 'genres'. Remove special characters and numbers. Numbers have no meaning, it's just for identification."
   ]
  },
  {
   "cell_type": "code",
   "execution_count": 8,
   "metadata": {},
   "outputs": [
    {
     "data": {
      "text/plain": [
       "0       id      name    Animation      id      name...\n",
       "1       id      name    Adventure      id      name...\n",
       "2       id      name    Romance      id      name  ...\n",
       "3       id      name    Comedy      id      name   ...\n",
       "4                            id      name    Comedy   \n",
       "Name: genres, dtype: object"
      ]
     },
     "execution_count": 8,
     "metadata": {},
     "output_type": "execute_result"
    }
   ],
   "source": [
    "df['genres'] = df['genres'].str.replace(r'\\W',\" \")\n",
    "df['genres'] = df['genres'].str.replace('\\d+',\"\")\n",
    "df['genres'].head(5)"
   ]
  },
  {
   "cell_type": "markdown",
   "metadata": {},
   "source": [
    "We also want to remove the words 'id' and 'name' as those are not needed when looking for genres."
   ]
  },
  {
   "cell_type": "code",
   "execution_count": 9,
   "metadata": {},
   "outputs": [],
   "source": [
    "uselesswords = ['id' , 'name']\n",
    "f = lambda x:([item for item in x.split()\\\n",
    "               if item not in uselesswords])"
   ]
  },
  {
   "cell_type": "code",
   "execution_count": 10,
   "metadata": {},
   "outputs": [],
   "source": [
    "df[\"Genres2\"] = df[\"genres\"].apply(f)"
   ]
  },
  {
   "cell_type": "markdown",
   "metadata": {},
   "source": [
    "Clean up 'production_countries'. Many cells have multiple countries. We will use only the first one as it seems most relevant."
   ]
  },
  {
   "cell_type": "code",
   "execution_count": 11,
   "metadata": {},
   "outputs": [],
   "source": [
    "df['production_countries'].fillna(\"Unknown\",inplace=True)"
   ]
  },
  {
   "cell_type": "code",
   "execution_count": 12,
   "metadata": {},
   "outputs": [],
   "source": [
    "df['production_countries2'] = df['production_countries'].apply(lambda x: x.split(':')[-1])"
   ]
  },
  {
   "cell_type": "code",
   "execution_count": 13,
   "metadata": {},
   "outputs": [],
   "source": [
    "df['production_countries3'] = df['production_countries2'].apply(lambda x : x[:-2])"
   ]
  },
  {
   "cell_type": "code",
   "execution_count": 14,
   "metadata": {},
   "outputs": [],
   "source": [
    "df['production_countries3'] = df['production_countries3'].str.replace(r\"[^a-zA-Z\\d\\_]+\", \"\") \n",
    "df['production_countries3'] = df['production_countries3'].str.replace(r\"([A-Z])\", r\" \\1\").str.strip()\n",
    "df.replace('United Statesof America','USA',inplace=True)"
   ]
  },
  {
   "cell_type": "markdown",
   "metadata": {},
   "source": [
    "Clean up \"production_companies. Same as production_countries. We only want the first production company"
   ]
  },
  {
   "cell_type": "code",
   "execution_count": 15,
   "metadata": {},
   "outputs": [],
   "source": [
    "df['production_companies'].fillna(\"Unknown\",inplace=True)"
   ]
  },
  {
   "cell_type": "code",
   "execution_count": 16,
   "metadata": {},
   "outputs": [],
   "source": [
    "df['production_companies_first'] = df['production_companies'].apply(lambda x: x.split(',')[0])"
   ]
  },
  {
   "cell_type": "code",
   "execution_count": 17,
   "metadata": {},
   "outputs": [],
   "source": [
    "df['production_companies_first'] = df['production_companies_first'].apply(lambda x: x.split(':')[-1])"
   ]
  },
  {
   "cell_type": "code",
   "execution_count": 18,
   "metadata": {},
   "outputs": [],
   "source": [
    "df['production_companies_first'] = df['production_companies_first'].str.replace(r\"[^a-zA-Z\\d\\_]+\", \"\") \n",
    "df['production_companies_first'] = df['production_companies_first'].str.replace(r\"([A-Z])\", r\" \\1\").str.strip()"
   ]
  },
  {
   "cell_type": "markdown",
   "metadata": {},
   "source": [
    "Check to see if production countries, production companies and languages have been cleaned up."
   ]
  },
  {
   "cell_type": "code",
   "execution_count": 19,
   "metadata": {
    "scrolled": true
   },
   "outputs": [
    {
     "data": {
      "text/html": [
       "<div>\n",
       "<style scoped>\n",
       "    .dataframe tbody tr th:only-of-type {\n",
       "        vertical-align: middle;\n",
       "    }\n",
       "\n",
       "    .dataframe tbody tr th {\n",
       "        vertical-align: top;\n",
       "    }\n",
       "\n",
       "    .dataframe thead th {\n",
       "        text-align: right;\n",
       "    }\n",
       "</style>\n",
       "<table border=\"1\" class=\"dataframe\">\n",
       "  <thead>\n",
       "    <tr style=\"text-align: right;\">\n",
       "      <th></th>\n",
       "      <th>adult</th>\n",
       "      <th>budget</th>\n",
       "      <th>genres</th>\n",
       "      <th>original_language</th>\n",
       "      <th>original_title</th>\n",
       "      <th>popularity</th>\n",
       "      <th>production_companies</th>\n",
       "      <th>production_countries</th>\n",
       "      <th>release_date</th>\n",
       "      <th>revenue</th>\n",
       "      <th>runtime</th>\n",
       "      <th>status</th>\n",
       "      <th>title</th>\n",
       "      <th>vote_average</th>\n",
       "      <th>vote_count</th>\n",
       "      <th>Genres2</th>\n",
       "      <th>production_countries2</th>\n",
       "      <th>production_countries3</th>\n",
       "      <th>production_companies_first</th>\n",
       "    </tr>\n",
       "  </thead>\n",
       "  <tbody>\n",
       "    <tr>\n",
       "      <th>0</th>\n",
       "      <td>False</td>\n",
       "      <td>30000000</td>\n",
       "      <td>id      name    Animation      id      name...</td>\n",
       "      <td>en</td>\n",
       "      <td>Toy Story</td>\n",
       "      <td>21.946943</td>\n",
       "      <td>[{'name': 'Pixar Animation Studios', 'id': 3}]</td>\n",
       "      <td>[{'iso_3166_1': 'US', 'name': 'United States o...</td>\n",
       "      <td>10/30/1995</td>\n",
       "      <td>373554033.0</td>\n",
       "      <td>81.0</td>\n",
       "      <td>Released</td>\n",
       "      <td>Toy Story</td>\n",
       "      <td>7.7</td>\n",
       "      <td>5415.0</td>\n",
       "      <td>[Animation, Comedy, Family]</td>\n",
       "      <td>'United States of America'}]</td>\n",
       "      <td>USA</td>\n",
       "      <td>Pixar Animation Studios</td>\n",
       "    </tr>\n",
       "    <tr>\n",
       "      <th>1</th>\n",
       "      <td>False</td>\n",
       "      <td>65000000</td>\n",
       "      <td>id      name    Adventure      id      name...</td>\n",
       "      <td>en</td>\n",
       "      <td>Jumanji</td>\n",
       "      <td>17.015539</td>\n",
       "      <td>[{'name': 'TriStar Pictures', 'id': 559}, {'na...</td>\n",
       "      <td>[{'iso_3166_1': 'US', 'name': 'United States o...</td>\n",
       "      <td>12/15/1995</td>\n",
       "      <td>262797249.0</td>\n",
       "      <td>104.0</td>\n",
       "      <td>Released</td>\n",
       "      <td>Jumanji</td>\n",
       "      <td>6.9</td>\n",
       "      <td>2413.0</td>\n",
       "      <td>[Adventure, Fantasy, Family]</td>\n",
       "      <td>'United States of America'}]</td>\n",
       "      <td>USA</td>\n",
       "      <td>Tri Star Pictures</td>\n",
       "    </tr>\n",
       "    <tr>\n",
       "      <th>2</th>\n",
       "      <td>False</td>\n",
       "      <td>0</td>\n",
       "      <td>id      name    Romance      id      name  ...</td>\n",
       "      <td>en</td>\n",
       "      <td>Grumpier Old Men</td>\n",
       "      <td>11.712900</td>\n",
       "      <td>[{'name': 'Warner Bros.', 'id': 6194}, {'name'...</td>\n",
       "      <td>[{'iso_3166_1': 'US', 'name': 'United States o...</td>\n",
       "      <td>12/22/1995</td>\n",
       "      <td>0.0</td>\n",
       "      <td>101.0</td>\n",
       "      <td>Released</td>\n",
       "      <td>Grumpier Old Men</td>\n",
       "      <td>6.5</td>\n",
       "      <td>92.0</td>\n",
       "      <td>[Romance, Comedy]</td>\n",
       "      <td>'United States of America'}]</td>\n",
       "      <td>USA</td>\n",
       "      <td>Warner Bros</td>\n",
       "    </tr>\n",
       "    <tr>\n",
       "      <th>3</th>\n",
       "      <td>False</td>\n",
       "      <td>16000000</td>\n",
       "      <td>id      name    Comedy      id      name   ...</td>\n",
       "      <td>en</td>\n",
       "      <td>Waiting to Exhale</td>\n",
       "      <td>3.859495</td>\n",
       "      <td>[{'name': 'Twentieth Century Fox Film Corporat...</td>\n",
       "      <td>[{'iso_3166_1': 'US', 'name': 'United States o...</td>\n",
       "      <td>12/22/1995</td>\n",
       "      <td>81452156.0</td>\n",
       "      <td>127.0</td>\n",
       "      <td>Released</td>\n",
       "      <td>Waiting to Exhale</td>\n",
       "      <td>6.1</td>\n",
       "      <td>34.0</td>\n",
       "      <td>[Comedy, Drama, Romance]</td>\n",
       "      <td>'United States of America'}]</td>\n",
       "      <td>USA</td>\n",
       "      <td>Twentieth Century Fox Film Corporation</td>\n",
       "    </tr>\n",
       "    <tr>\n",
       "      <th>4</th>\n",
       "      <td>False</td>\n",
       "      <td>0</td>\n",
       "      <td>id      name    Comedy</td>\n",
       "      <td>en</td>\n",
       "      <td>Father of the Bride Part II</td>\n",
       "      <td>8.387519</td>\n",
       "      <td>[{'name': 'Sandollar Productions', 'id': 5842}...</td>\n",
       "      <td>[{'iso_3166_1': 'US', 'name': 'United States o...</td>\n",
       "      <td>2/10/1995</td>\n",
       "      <td>76578911.0</td>\n",
       "      <td>106.0</td>\n",
       "      <td>Released</td>\n",
       "      <td>Father of the Bride Part II</td>\n",
       "      <td>5.7</td>\n",
       "      <td>173.0</td>\n",
       "      <td>[Comedy]</td>\n",
       "      <td>'United States of America'}]</td>\n",
       "      <td>USA</td>\n",
       "      <td>Sandollar Productions</td>\n",
       "    </tr>\n",
       "  </tbody>\n",
       "</table>\n",
       "</div>"
      ],
      "text/plain": [
       "   adult    budget                                             genres  \\\n",
       "0  False  30000000     id      name    Animation      id      name...   \n",
       "1  False  65000000     id      name    Adventure      id      name...   \n",
       "2  False         0     id      name    Romance      id      name  ...   \n",
       "3  False  16000000     id      name    Comedy      id      name   ...   \n",
       "4  False         0                          id      name    Comedy      \n",
       "\n",
       "  original_language               original_title  popularity  \\\n",
       "0                en                    Toy Story   21.946943   \n",
       "1                en                      Jumanji   17.015539   \n",
       "2                en             Grumpier Old Men   11.712900   \n",
       "3                en            Waiting to Exhale    3.859495   \n",
       "4                en  Father of the Bride Part II    8.387519   \n",
       "\n",
       "                                production_companies  \\\n",
       "0     [{'name': 'Pixar Animation Studios', 'id': 3}]   \n",
       "1  [{'name': 'TriStar Pictures', 'id': 559}, {'na...   \n",
       "2  [{'name': 'Warner Bros.', 'id': 6194}, {'name'...   \n",
       "3  [{'name': 'Twentieth Century Fox Film Corporat...   \n",
       "4  [{'name': 'Sandollar Productions', 'id': 5842}...   \n",
       "\n",
       "                                production_countries release_date  \\\n",
       "0  [{'iso_3166_1': 'US', 'name': 'United States o...   10/30/1995   \n",
       "1  [{'iso_3166_1': 'US', 'name': 'United States o...   12/15/1995   \n",
       "2  [{'iso_3166_1': 'US', 'name': 'United States o...   12/22/1995   \n",
       "3  [{'iso_3166_1': 'US', 'name': 'United States o...   12/22/1995   \n",
       "4  [{'iso_3166_1': 'US', 'name': 'United States o...    2/10/1995   \n",
       "\n",
       "       revenue  runtime    status                        title  vote_average  \\\n",
       "0  373554033.0     81.0  Released                    Toy Story           7.7   \n",
       "1  262797249.0    104.0  Released                      Jumanji           6.9   \n",
       "2          0.0    101.0  Released             Grumpier Old Men           6.5   \n",
       "3   81452156.0    127.0  Released            Waiting to Exhale           6.1   \n",
       "4   76578911.0    106.0  Released  Father of the Bride Part II           5.7   \n",
       "\n",
       "   vote_count                       Genres2          production_countries2  \\\n",
       "0      5415.0   [Animation, Comedy, Family]   'United States of America'}]   \n",
       "1      2413.0  [Adventure, Fantasy, Family]   'United States of America'}]   \n",
       "2        92.0             [Romance, Comedy]   'United States of America'}]   \n",
       "3        34.0      [Comedy, Drama, Romance]   'United States of America'}]   \n",
       "4       173.0                      [Comedy]   'United States of America'}]   \n",
       "\n",
       "  production_countries3              production_companies_first  \n",
       "0                   USA                 Pixar Animation Studios  \n",
       "1                   USA                       Tri Star Pictures  \n",
       "2                   USA                             Warner Bros  \n",
       "3                   USA  Twentieth Century Fox Film Corporation  \n",
       "4                   USA                   Sandollar Productions  "
      ]
     },
     "execution_count": 19,
     "metadata": {},
     "output_type": "execute_result"
    }
   ],
   "source": [
    "df.head()"
   ]
  },
  {
   "cell_type": "markdown",
   "metadata": {},
   "source": [
    "Drop all the columns created."
   ]
  },
  {
   "cell_type": "code",
   "execution_count": 20,
   "metadata": {},
   "outputs": [],
   "source": [
    "df.drop(['genres','production_companies','production_countries',\\\n",
    "         'production_countries2'], axis=1, inplace=True)"
   ]
  },
  {
   "cell_type": "code",
   "execution_count": 21,
   "metadata": {},
   "outputs": [],
   "source": [
    "df.rename(columns={'Genres2':'genres', 'production_countries3':'production_country',\\\n",
    "                   'production_companies_first':'production_company'}, inplace=True)"
   ]
  },
  {
   "cell_type": "code",
   "execution_count": 22,
   "metadata": {},
   "outputs": [
    {
     "data": {
      "text/html": [
       "<div>\n",
       "<style scoped>\n",
       "    .dataframe tbody tr th:only-of-type {\n",
       "        vertical-align: middle;\n",
       "    }\n",
       "\n",
       "    .dataframe tbody tr th {\n",
       "        vertical-align: top;\n",
       "    }\n",
       "\n",
       "    .dataframe thead th {\n",
       "        text-align: right;\n",
       "    }\n",
       "</style>\n",
       "<table border=\"1\" class=\"dataframe\">\n",
       "  <thead>\n",
       "    <tr style=\"text-align: right;\">\n",
       "      <th></th>\n",
       "      <th>adult</th>\n",
       "      <th>budget</th>\n",
       "      <th>original_language</th>\n",
       "      <th>original_title</th>\n",
       "      <th>popularity</th>\n",
       "      <th>release_date</th>\n",
       "      <th>revenue</th>\n",
       "      <th>runtime</th>\n",
       "      <th>status</th>\n",
       "      <th>title</th>\n",
       "      <th>vote_average</th>\n",
       "      <th>vote_count</th>\n",
       "      <th>genres</th>\n",
       "      <th>production_country</th>\n",
       "      <th>production_company</th>\n",
       "    </tr>\n",
       "  </thead>\n",
       "  <tbody>\n",
       "    <tr>\n",
       "      <th>0</th>\n",
       "      <td>False</td>\n",
       "      <td>30000000</td>\n",
       "      <td>en</td>\n",
       "      <td>Toy Story</td>\n",
       "      <td>21.946943</td>\n",
       "      <td>10/30/1995</td>\n",
       "      <td>373554033.0</td>\n",
       "      <td>81.0</td>\n",
       "      <td>Released</td>\n",
       "      <td>Toy Story</td>\n",
       "      <td>7.7</td>\n",
       "      <td>5415.0</td>\n",
       "      <td>[Animation, Comedy, Family]</td>\n",
       "      <td>USA</td>\n",
       "      <td>Pixar Animation Studios</td>\n",
       "    </tr>\n",
       "  </tbody>\n",
       "</table>\n",
       "</div>"
      ],
      "text/plain": [
       "   adult    budget original_language original_title  popularity release_date  \\\n",
       "0  False  30000000                en      Toy Story   21.946943   10/30/1995   \n",
       "\n",
       "       revenue  runtime    status      title  vote_average  vote_count  \\\n",
       "0  373554033.0     81.0  Released  Toy Story           7.7      5415.0   \n",
       "\n",
       "                        genres production_country       production_company  \n",
       "0  [Animation, Comedy, Family]                USA  Pixar Animation Studios  "
      ]
     },
     "execution_count": 22,
     "metadata": {},
     "output_type": "execute_result"
    }
   ],
   "source": [
    "df.head(1)"
   ]
  },
  {
   "cell_type": "markdown",
   "metadata": {},
   "source": [
    "Fill out rest of columns with no value. Fill with 'Unknown'"
   ]
  },
  {
   "cell_type": "code",
   "execution_count": 23,
   "metadata": {
    "scrolled": true
   },
   "outputs": [],
   "source": [
    "df.dropna(how='any',subset=['revenue'],inplace=True)"
   ]
  },
  {
   "cell_type": "code",
   "execution_count": 24,
   "metadata": {},
   "outputs": [
    {
     "data": {
      "text/plain": [
       "adult                 False\n",
       "budget                False\n",
       "original_language      True\n",
       "original_title        False\n",
       "popularity            False\n",
       "release_date           True\n",
       "revenue               False\n",
       "runtime                True\n",
       "status                 True\n",
       "title                 False\n",
       "vote_average          False\n",
       "vote_count            False\n",
       "genres                False\n",
       "production_country    False\n",
       "production_company    False\n",
       "dtype: bool"
      ]
     },
     "execution_count": 24,
     "metadata": {},
     "output_type": "execute_result"
    }
   ],
   "source": [
    "df.isna().any()"
   ]
  },
  {
   "cell_type": "code",
   "execution_count": 25,
   "metadata": {},
   "outputs": [
    {
     "data": {
      "text/plain": [
       "(45460, 15)"
      ]
     },
     "execution_count": 25,
     "metadata": {},
     "output_type": "execute_result"
    }
   ],
   "source": [
    "df.shape"
   ]
  },
  {
   "cell_type": "markdown",
   "metadata": {},
   "source": [
    "## We will save the cleaned movie file to a new csv. From here we will start the analysis"
   ]
  },
  {
   "cell_type": "code",
   "execution_count": 26,
   "metadata": {},
   "outputs": [],
   "source": [
    "df.to_csv('movies_cleaned2.csv')"
   ]
  },
  {
   "cell_type": "code",
   "execution_count": 27,
   "metadata": {},
   "outputs": [],
   "source": [
    "df = pd.read_csv(\"movies_cleaned2.csv\")"
   ]
  },
  {
   "cell_type": "code",
   "execution_count": 28,
   "metadata": {},
   "outputs": [],
   "source": [
    "df2=df.copy()"
   ]
  },
  {
   "cell_type": "code",
   "execution_count": 29,
   "metadata": {},
   "outputs": [
    {
     "data": {
      "text/plain": [
       "pandas.core.series.Series"
      ]
     },
     "execution_count": 29,
     "metadata": {},
     "output_type": "execute_result"
    }
   ],
   "source": [
    "type(df2['genres'])"
   ]
  },
  {
   "cell_type": "code",
   "execution_count": 30,
   "metadata": {},
   "outputs": [],
   "source": [
    "df2['genres_1'] = df2['genres'].apply(lambda x: x.split(',')[0])"
   ]
  },
  {
   "cell_type": "code",
   "execution_count": 31,
   "metadata": {},
   "outputs": [],
   "source": [
    "df2['genres_1'] = df2['genres_1'].apply(lambda x: x.split(':')[-1])"
   ]
  },
  {
   "cell_type": "code",
   "execution_count": 32,
   "metadata": {},
   "outputs": [],
   "source": [
    "df2.drop(['genres'], axis=1, inplace=True)\n",
    "df2.rename(columns={'genres_1':'genres'}, inplace = True)"
   ]
  },
  {
   "cell_type": "code",
   "execution_count": 33,
   "metadata": {},
   "outputs": [],
   "source": [
    "df2['genres'] = df2['genres'].str.replace(r\"[^a-zA-Z\\d\\_]+\", \"\") \n",
    "df2['genres'] = df2['genres'].str.replace(r\"([A-Z])\", r\" \\1\").str.strip()"
   ]
  },
  {
   "cell_type": "code",
   "execution_count": 34,
   "metadata": {},
   "outputs": [],
   "source": [
    "df2.drop(['Unnamed: 0'], axis = 1, inplace=True)"
   ]
  },
  {
   "cell_type": "code",
   "execution_count": 35,
   "metadata": {
    "scrolled": true
   },
   "outputs": [
    {
     "data": {
      "text/html": [
       "<div>\n",
       "<style scoped>\n",
       "    .dataframe tbody tr th:only-of-type {\n",
       "        vertical-align: middle;\n",
       "    }\n",
       "\n",
       "    .dataframe tbody tr th {\n",
       "        vertical-align: top;\n",
       "    }\n",
       "\n",
       "    .dataframe thead th {\n",
       "        text-align: right;\n",
       "    }\n",
       "</style>\n",
       "<table border=\"1\" class=\"dataframe\">\n",
       "  <thead>\n",
       "    <tr style=\"text-align: right;\">\n",
       "      <th></th>\n",
       "      <th>adult</th>\n",
       "      <th>budget</th>\n",
       "      <th>original_language</th>\n",
       "      <th>original_title</th>\n",
       "      <th>popularity</th>\n",
       "      <th>release_date</th>\n",
       "      <th>revenue</th>\n",
       "      <th>runtime</th>\n",
       "      <th>status</th>\n",
       "      <th>title</th>\n",
       "      <th>vote_average</th>\n",
       "      <th>vote_count</th>\n",
       "      <th>production_country</th>\n",
       "      <th>production_company</th>\n",
       "      <th>genres</th>\n",
       "    </tr>\n",
       "  </thead>\n",
       "  <tbody>\n",
       "    <tr>\n",
       "      <th>0</th>\n",
       "      <td>False</td>\n",
       "      <td>30000000</td>\n",
       "      <td>en</td>\n",
       "      <td>Toy Story</td>\n",
       "      <td>21.946943</td>\n",
       "      <td>10/30/1995</td>\n",
       "      <td>373554033.0</td>\n",
       "      <td>81.0</td>\n",
       "      <td>Released</td>\n",
       "      <td>Toy Story</td>\n",
       "      <td>7.7</td>\n",
       "      <td>5415.0</td>\n",
       "      <td>USA</td>\n",
       "      <td>Pixar Animation Studios</td>\n",
       "      <td>Animation</td>\n",
       "    </tr>\n",
       "    <tr>\n",
       "      <th>1</th>\n",
       "      <td>False</td>\n",
       "      <td>65000000</td>\n",
       "      <td>en</td>\n",
       "      <td>Jumanji</td>\n",
       "      <td>17.015539</td>\n",
       "      <td>12/15/1995</td>\n",
       "      <td>262797249.0</td>\n",
       "      <td>104.0</td>\n",
       "      <td>Released</td>\n",
       "      <td>Jumanji</td>\n",
       "      <td>6.9</td>\n",
       "      <td>2413.0</td>\n",
       "      <td>USA</td>\n",
       "      <td>Tri Star Pictures</td>\n",
       "      <td>Adventure</td>\n",
       "    </tr>\n",
       "    <tr>\n",
       "      <th>2</th>\n",
       "      <td>False</td>\n",
       "      <td>0</td>\n",
       "      <td>en</td>\n",
       "      <td>Grumpier Old Men</td>\n",
       "      <td>11.712900</td>\n",
       "      <td>12/22/1995</td>\n",
       "      <td>0.0</td>\n",
       "      <td>101.0</td>\n",
       "      <td>Released</td>\n",
       "      <td>Grumpier Old Men</td>\n",
       "      <td>6.5</td>\n",
       "      <td>92.0</td>\n",
       "      <td>USA</td>\n",
       "      <td>Warner Bros</td>\n",
       "      <td>Romance</td>\n",
       "    </tr>\n",
       "    <tr>\n",
       "      <th>3</th>\n",
       "      <td>False</td>\n",
       "      <td>16000000</td>\n",
       "      <td>en</td>\n",
       "      <td>Waiting to Exhale</td>\n",
       "      <td>3.859495</td>\n",
       "      <td>12/22/1995</td>\n",
       "      <td>81452156.0</td>\n",
       "      <td>127.0</td>\n",
       "      <td>Released</td>\n",
       "      <td>Waiting to Exhale</td>\n",
       "      <td>6.1</td>\n",
       "      <td>34.0</td>\n",
       "      <td>USA</td>\n",
       "      <td>Twentieth Century Fox Film Corporation</td>\n",
       "      <td>Comedy</td>\n",
       "    </tr>\n",
       "    <tr>\n",
       "      <th>4</th>\n",
       "      <td>False</td>\n",
       "      <td>0</td>\n",
       "      <td>en</td>\n",
       "      <td>Father of the Bride Part II</td>\n",
       "      <td>8.387519</td>\n",
       "      <td>2/10/1995</td>\n",
       "      <td>76578911.0</td>\n",
       "      <td>106.0</td>\n",
       "      <td>Released</td>\n",
       "      <td>Father of the Bride Part II</td>\n",
       "      <td>5.7</td>\n",
       "      <td>173.0</td>\n",
       "      <td>USA</td>\n",
       "      <td>Sandollar Productions</td>\n",
       "      <td>Comedy</td>\n",
       "    </tr>\n",
       "  </tbody>\n",
       "</table>\n",
       "</div>"
      ],
      "text/plain": [
       "   adult    budget original_language               original_title  popularity  \\\n",
       "0  False  30000000                en                    Toy Story   21.946943   \n",
       "1  False  65000000                en                      Jumanji   17.015539   \n",
       "2  False         0                en             Grumpier Old Men   11.712900   \n",
       "3  False  16000000                en            Waiting to Exhale    3.859495   \n",
       "4  False         0                en  Father of the Bride Part II    8.387519   \n",
       "\n",
       "  release_date      revenue  runtime    status                        title  \\\n",
       "0   10/30/1995  373554033.0     81.0  Released                    Toy Story   \n",
       "1   12/15/1995  262797249.0    104.0  Released                      Jumanji   \n",
       "2   12/22/1995          0.0    101.0  Released             Grumpier Old Men   \n",
       "3   12/22/1995   81452156.0    127.0  Released            Waiting to Exhale   \n",
       "4    2/10/1995   76578911.0    106.0  Released  Father of the Bride Part II   \n",
       "\n",
       "   vote_average  vote_count production_country  \\\n",
       "0           7.7      5415.0                USA   \n",
       "1           6.9      2413.0                USA   \n",
       "2           6.5        92.0                USA   \n",
       "3           6.1        34.0                USA   \n",
       "4           5.7       173.0                USA   \n",
       "\n",
       "                       production_company     genres  \n",
       "0                 Pixar Animation Studios  Animation  \n",
       "1                       Tri Star Pictures  Adventure  \n",
       "2                             Warner Bros    Romance  \n",
       "3  Twentieth Century Fox Film Corporation     Comedy  \n",
       "4                   Sandollar Productions     Comedy  "
      ]
     },
     "execution_count": 35,
     "metadata": {},
     "output_type": "execute_result"
    }
   ],
   "source": [
    "df2.head(5)"
   ]
  },
  {
   "cell_type": "code",
   "execution_count": 36,
   "metadata": {},
   "outputs": [],
   "source": [
    "df2['vote_average'] = pd.to_numeric(df2['vote_average'])\n",
    "df2['vote_count'] = pd.to_numeric(df2['vote_count'])"
   ]
  },
  {
   "cell_type": "markdown",
   "metadata": {},
   "source": [
    "#### The mean rating for all the movies is approx 5.6 on a scale of 10."
   ]
  },
  {
   "cell_type": "code",
   "execution_count": 37,
   "metadata": {},
   "outputs": [
    {
     "data": {
      "text/plain": [
       "5.618207215133889"
      ]
     },
     "execution_count": 37,
     "metadata": {},
     "output_type": "execute_result"
    }
   ],
   "source": [
    "meanrating = df2.vote_average.mean()\n",
    "meanrating"
   ]
  },
  {
   "cell_type": "markdown",
   "metadata": {},
   "source": [
    "#### Graphical representation -  Half the movies have a rating of less than or equal to 6"
   ]
  },
  {
   "cell_type": "code",
   "execution_count": 38,
   "metadata": {},
   "outputs": [
    {
     "data": {
      "text/plain": [
       "<AxesSubplot:xlabel='vote_average', ylabel='Density'>"
      ]
     },
     "execution_count": 38,
     "metadata": {},
     "output_type": "execute_result"
    },
    {
     "data": {
      "image/png": "[encoded data removed]",
      "text/plain": [
       "<Figure size 432x288 with 1 Axes>"
      ]
     },
     "metadata": {
      "needs_background": "light"
     },
     "output_type": "display_data"
    }
   ],
   "source": [
    "sns.distplot(df2['vote_average'].fillna(df2['vote_average'].mean()))"
   ]
  },
  {
   "cell_type": "code",
   "execution_count": 39,
   "metadata": {},
   "outputs": [
    {
     "data": {
      "text/plain": [
       "<AxesSubplot:xlabel='budget', ylabel='Density'>"
      ]
     },
     "execution_count": 39,
     "metadata": {},
     "output_type": "execute_result"
    },
    {
     "data": {
      "image/png": "[encoded data removed]",
      "text/plain": [
       "<Figure size 432x288 with 1 Axes>"
      ]
     },
     "metadata": {
      "needs_background": "light"
     },
     "output_type": "display_data"
    }
   ],
   "source": [
    "sns.distplot(df2[df2['budget'].notnull()]['budget'])"
   ]
  },
  {
   "cell_type": "markdown",
   "metadata": {},
   "source": [
    "#### More than 75% of the movies have a budget smaller than 25 million dollars."
   ]
  },
  {
   "cell_type": "code",
   "execution_count": 40,
   "metadata": {},
   "outputs": [
    {
     "data": {
      "text/plain": [
       "<AxesSubplot:xlabel='revenue', ylabel='Density'>"
      ]
     },
     "execution_count": 40,
     "metadata": {},
     "output_type": "execute_result"
    },
    {
     "data": {
      "image/png": "[encoded data removed]",
      "text/plain": [
       "<Figure size 432x288 with 1 Axes>"
      ]
     },
     "metadata": {
      "needs_background": "light"
     },
     "output_type": "display_data"
    }
   ],
   "source": [
    "sns.distplot(df2[df2['revenue'].notnull()]['revenue'])"
   ]
  },
  {
   "cell_type": "markdown",
   "metadata": {},
   "source": [
    "#### It's also decreasing as budget"
   ]
  },
  {
   "cell_type": "code",
   "execution_count": 41,
   "metadata": {},
   "outputs": [
    {
     "data": {
      "text/plain": [
       "434.0"
      ]
     },
     "execution_count": 41,
     "metadata": {},
     "output_type": "execute_result"
    }
   ],
   "source": [
    "minvotes= df2['vote_count'].quantile(0.95)\n",
    "minvotes"
   ]
  },
  {
   "cell_type": "markdown",
   "metadata": {},
   "source": [
    "#### For a movie to feature in the charts, it must have more votes than at least 95% of the movies in the list."
   ]
  },
  {
   "cell_type": "code",
   "execution_count": 42,
   "metadata": {},
   "outputs": [
    {
     "data": {
      "text/plain": [
       "(2274, 15)"
      ]
     },
     "execution_count": 42,
     "metadata": {},
     "output_type": "execute_result"
    }
   ],
   "source": [
    "qualified = df2.loc[df2['vote_count'] >= minvotes]\n",
    "qualified.shape"
   ]
  },
  {
   "cell_type": "markdown",
   "metadata": {},
   "source": [
    "#### We see that there are 2274 movies which qualify to be in this list"
   ]
  },
  {
   "cell_type": "code",
   "execution_count": 43,
   "metadata": {},
   "outputs": [],
   "source": [
    "df2['revenue'] = pd.to_numeric(df2['revenue'], errors='coerce')\n",
    "df2['budget'] = pd.to_numeric(df2['budget'], errors='coerce')"
   ]
  },
  {
   "cell_type": "markdown",
   "metadata": {},
   "source": [
    "#### Calculating profit based on revenue and budget"
   ]
  },
  {
   "cell_type": "code",
   "execution_count": 44,
   "metadata": {},
   "outputs": [],
   "source": [
    "df2['Profit'] = df2['revenue'] - df2['budget']"
   ]
  },
  {
   "cell_type": "code",
   "execution_count": 45,
   "metadata": {},
   "outputs": [
    {
     "data": {
      "text/html": [
       "<div>\n",
       "<style scoped>\n",
       "    .dataframe tbody tr th:only-of-type {\n",
       "        vertical-align: middle;\n",
       "    }\n",
       "\n",
       "    .dataframe tbody tr th {\n",
       "        vertical-align: top;\n",
       "    }\n",
       "\n",
       "    .dataframe thead th {\n",
       "        text-align: right;\n",
       "    }\n",
       "</style>\n",
       "<table border=\"1\" class=\"dataframe\">\n",
       "  <thead>\n",
       "    <tr style=\"text-align: right;\">\n",
       "      <th></th>\n",
       "      <th>adult</th>\n",
       "      <th>budget</th>\n",
       "      <th>original_language</th>\n",
       "      <th>original_title</th>\n",
       "      <th>popularity</th>\n",
       "      <th>release_date</th>\n",
       "      <th>revenue</th>\n",
       "      <th>runtime</th>\n",
       "      <th>status</th>\n",
       "      <th>title</th>\n",
       "      <th>vote_average</th>\n",
       "      <th>vote_count</th>\n",
       "      <th>production_country</th>\n",
       "      <th>production_company</th>\n",
       "      <th>genres</th>\n",
       "      <th>Profit</th>\n",
       "    </tr>\n",
       "  </thead>\n",
       "  <tbody>\n",
       "    <tr>\n",
       "      <th>0</th>\n",
       "      <td>False</td>\n",
       "      <td>30000000</td>\n",
       "      <td>en</td>\n",
       "      <td>Toy Story</td>\n",
       "      <td>21.946943</td>\n",
       "      <td>10/30/1995</td>\n",
       "      <td>373554033.0</td>\n",
       "      <td>81.0</td>\n",
       "      <td>Released</td>\n",
       "      <td>Toy Story</td>\n",
       "      <td>7.7</td>\n",
       "      <td>5415.0</td>\n",
       "      <td>USA</td>\n",
       "      <td>Pixar Animation Studios</td>\n",
       "      <td>Animation</td>\n",
       "      <td>343554033.0</td>\n",
       "    </tr>\n",
       "    <tr>\n",
       "      <th>1</th>\n",
       "      <td>False</td>\n",
       "      <td>65000000</td>\n",
       "      <td>en</td>\n",
       "      <td>Jumanji</td>\n",
       "      <td>17.015539</td>\n",
       "      <td>12/15/1995</td>\n",
       "      <td>262797249.0</td>\n",
       "      <td>104.0</td>\n",
       "      <td>Released</td>\n",
       "      <td>Jumanji</td>\n",
       "      <td>6.9</td>\n",
       "      <td>2413.0</td>\n",
       "      <td>USA</td>\n",
       "      <td>Tri Star Pictures</td>\n",
       "      <td>Adventure</td>\n",
       "      <td>197797249.0</td>\n",
       "    </tr>\n",
       "    <tr>\n",
       "      <th>2</th>\n",
       "      <td>False</td>\n",
       "      <td>0</td>\n",
       "      <td>en</td>\n",
       "      <td>Grumpier Old Men</td>\n",
       "      <td>11.712900</td>\n",
       "      <td>12/22/1995</td>\n",
       "      <td>0.0</td>\n",
       "      <td>101.0</td>\n",
       "      <td>Released</td>\n",
       "      <td>Grumpier Old Men</td>\n",
       "      <td>6.5</td>\n",
       "      <td>92.0</td>\n",
       "      <td>USA</td>\n",
       "      <td>Warner Bros</td>\n",
       "      <td>Romance</td>\n",
       "      <td>0.0</td>\n",
       "    </tr>\n",
       "    <tr>\n",
       "      <th>3</th>\n",
       "      <td>False</td>\n",
       "      <td>16000000</td>\n",
       "      <td>en</td>\n",
       "      <td>Waiting to Exhale</td>\n",
       "      <td>3.859495</td>\n",
       "      <td>12/22/1995</td>\n",
       "      <td>81452156.0</td>\n",
       "      <td>127.0</td>\n",
       "      <td>Released</td>\n",
       "      <td>Waiting to Exhale</td>\n",
       "      <td>6.1</td>\n",
       "      <td>34.0</td>\n",
       "      <td>USA</td>\n",
       "      <td>Twentieth Century Fox Film Corporation</td>\n",
       "      <td>Comedy</td>\n",
       "      <td>65452156.0</td>\n",
       "    </tr>\n",
       "    <tr>\n",
       "      <th>4</th>\n",
       "      <td>False</td>\n",
       "      <td>0</td>\n",
       "      <td>en</td>\n",
       "      <td>Father of the Bride Part II</td>\n",
       "      <td>8.387519</td>\n",
       "      <td>2/10/1995</td>\n",
       "      <td>76578911.0</td>\n",
       "      <td>106.0</td>\n",
       "      <td>Released</td>\n",
       "      <td>Father of the Bride Part II</td>\n",
       "      <td>5.7</td>\n",
       "      <td>173.0</td>\n",
       "      <td>USA</td>\n",
       "      <td>Sandollar Productions</td>\n",
       "      <td>Comedy</td>\n",
       "      <td>76578911.0</td>\n",
       "    </tr>\n",
       "  </tbody>\n",
       "</table>\n",
       "</div>"
      ],
      "text/plain": [
       "   adult    budget original_language               original_title  popularity  \\\n",
       "0  False  30000000                en                    Toy Story   21.946943   \n",
       "1  False  65000000                en                      Jumanji   17.015539   \n",
       "2  False         0                en             Grumpier Old Men   11.712900   \n",
       "3  False  16000000                en            Waiting to Exhale    3.859495   \n",
       "4  False         0                en  Father of the Bride Part II    8.387519   \n",
       "\n",
       "  release_date      revenue  runtime    status                        title  \\\n",
       "0   10/30/1995  373554033.0     81.0  Released                    Toy Story   \n",
       "1   12/15/1995  262797249.0    104.0  Released                      Jumanji   \n",
       "2   12/22/1995          0.0    101.0  Released             Grumpier Old Men   \n",
       "3   12/22/1995   81452156.0    127.0  Released            Waiting to Exhale   \n",
       "4    2/10/1995   76578911.0    106.0  Released  Father of the Bride Part II   \n",
       "\n",
       "   vote_average  vote_count production_country  \\\n",
       "0           7.7      5415.0                USA   \n",
       "1           6.9      2413.0                USA   \n",
       "2           6.5        92.0                USA   \n",
       "3           6.1        34.0                USA   \n",
       "4           5.7       173.0                USA   \n",
       "\n",
       "                       production_company     genres       Profit  \n",
       "0                 Pixar Animation Studios  Animation  343554033.0  \n",
       "1                       Tri Star Pictures  Adventure  197797249.0  \n",
       "2                             Warner Bros    Romance          0.0  \n",
       "3  Twentieth Century Fox Film Corporation     Comedy   65452156.0  \n",
       "4                   Sandollar Productions     Comedy   76578911.0  "
      ]
     },
     "execution_count": 45,
     "metadata": {},
     "output_type": "execute_result"
    }
   ],
   "source": [
    "df2.head()"
   ]
  },
  {
   "cell_type": "code",
   "execution_count": 46,
   "metadata": {},
   "outputs": [
    {
     "data": {
      "text/html": [
       "<div>\n",
       "<style scoped>\n",
       "    .dataframe tbody tr th:only-of-type {\n",
       "        vertical-align: middle;\n",
       "    }\n",
       "\n",
       "    .dataframe tbody tr th {\n",
       "        vertical-align: top;\n",
       "    }\n",
       "\n",
       "    .dataframe thead th {\n",
       "        text-align: right;\n",
       "    }\n",
       "</style>\n",
       "<table border=\"1\" class=\"dataframe\">\n",
       "  <thead>\n",
       "    <tr style=\"text-align: right;\">\n",
       "      <th></th>\n",
       "      <th>popularity</th>\n",
       "      <th>revenue</th>\n",
       "      <th>budget</th>\n",
       "      <th>runtime</th>\n",
       "      <th>vote_average</th>\n",
       "      <th>vote_count</th>\n",
       "      <th>Profit</th>\n",
       "    </tr>\n",
       "  </thead>\n",
       "  <tbody>\n",
       "    <tr>\n",
       "      <th>count</th>\n",
       "      <td>45460.000000</td>\n",
       "      <td>4.546000e+04</td>\n",
       "      <td>4.546000e+04</td>\n",
       "      <td>45203.000000</td>\n",
       "      <td>45460.000000</td>\n",
       "      <td>45460.000000</td>\n",
       "      <td>4.546000e+04</td>\n",
       "    </tr>\n",
       "    <tr>\n",
       "      <th>mean</th>\n",
       "      <td>2.921478</td>\n",
       "      <td>1.120935e+07</td>\n",
       "      <td>4.224858e+06</td>\n",
       "      <td>94.128199</td>\n",
       "      <td>5.618207</td>\n",
       "      <td>109.897338</td>\n",
       "      <td>6.984491e+06</td>\n",
       "    </tr>\n",
       "    <tr>\n",
       "      <th>std</th>\n",
       "      <td>6.005414</td>\n",
       "      <td>6.433225e+07</td>\n",
       "      <td>1.742467e+07</td>\n",
       "      <td>38.407810</td>\n",
       "      <td>1.924216</td>\n",
       "      <td>491.310374</td>\n",
       "      <td>5.214125e+07</td>\n",
       "    </tr>\n",
       "    <tr>\n",
       "      <th>min</th>\n",
       "      <td>0.000000</td>\n",
       "      <td>0.000000e+00</td>\n",
       "      <td>0.000000e+00</td>\n",
       "      <td>0.000000</td>\n",
       "      <td>0.000000</td>\n",
       "      <td>0.000000</td>\n",
       "      <td>-1.657101e+08</td>\n",
       "    </tr>\n",
       "    <tr>\n",
       "      <th>25%</th>\n",
       "      <td>0.385948</td>\n",
       "      <td>0.000000e+00</td>\n",
       "      <td>0.000000e+00</td>\n",
       "      <td>85.000000</td>\n",
       "      <td>5.000000</td>\n",
       "      <td>3.000000</td>\n",
       "      <td>0.000000e+00</td>\n",
       "    </tr>\n",
       "    <tr>\n",
       "      <th>50%</th>\n",
       "      <td>1.127685</td>\n",
       "      <td>0.000000e+00</td>\n",
       "      <td>0.000000e+00</td>\n",
       "      <td>95.000000</td>\n",
       "      <td>6.000000</td>\n",
       "      <td>10.000000</td>\n",
       "      <td>0.000000e+00</td>\n",
       "    </tr>\n",
       "    <tr>\n",
       "      <th>75%</th>\n",
       "      <td>3.678902</td>\n",
       "      <td>0.000000e+00</td>\n",
       "      <td>0.000000e+00</td>\n",
       "      <td>107.000000</td>\n",
       "      <td>6.800000</td>\n",
       "      <td>34.000000</td>\n",
       "      <td>0.000000e+00</td>\n",
       "    </tr>\n",
       "    <tr>\n",
       "      <th>max</th>\n",
       "      <td>547.488298</td>\n",
       "      <td>2.787965e+09</td>\n",
       "      <td>3.800000e+08</td>\n",
       "      <td>1256.000000</td>\n",
       "      <td>10.000000</td>\n",
       "      <td>14075.000000</td>\n",
       "      <td>2.550965e+09</td>\n",
       "    </tr>\n",
       "  </tbody>\n",
       "</table>\n",
       "</div>"
      ],
      "text/plain": [
       "         popularity       revenue        budget       runtime  vote_average  \\\n",
       "count  45460.000000  4.546000e+04  4.546000e+04  45203.000000  45460.000000   \n",
       "mean       2.921478  1.120935e+07  4.224858e+06     94.128199      5.618207   \n",
       "std        6.005414  6.433225e+07  1.742467e+07     38.407810      1.924216   \n",
       "min        0.000000  0.000000e+00  0.000000e+00      0.000000      0.000000   \n",
       "25%        0.385948  0.000000e+00  0.000000e+00     85.000000      5.000000   \n",
       "50%        1.127685  0.000000e+00  0.000000e+00     95.000000      6.000000   \n",
       "75%        3.678902  0.000000e+00  0.000000e+00    107.000000      6.800000   \n",
       "max      547.488298  2.787965e+09  3.800000e+08   1256.000000     10.000000   \n",
       "\n",
       "         vote_count        Profit  \n",
       "count  45460.000000  4.546000e+04  \n",
       "mean     109.897338  6.984491e+06  \n",
       "std      491.310374  5.214125e+07  \n",
       "min        0.000000 -1.657101e+08  \n",
       "25%        3.000000  0.000000e+00  \n",
       "50%       10.000000  0.000000e+00  \n",
       "75%       34.000000  0.000000e+00  \n",
       "max    14075.000000  2.550965e+09  "
      ]
     },
     "execution_count": 46,
     "metadata": {},
     "output_type": "execute_result"
    }
   ],
   "source": [
    "df2[[\"popularity\", \"revenue\", \"budget\", \"runtime\", \"vote_average\", \"vote_count\", \"Profit\"]].describe()"
   ]
  },
  {
   "cell_type": "markdown",
   "metadata": {},
   "source": [
    "### Since difference between min and max values for budget, revenue and profit is not so small, we have normalized these. In order to preserve the signs of the parameters, the formula of normalization is applied as:\n",
    "\n",
    "### value / (max - min)"
   ]
  },
  {
   "cell_type": "code",
   "execution_count": 47,
   "metadata": {},
   "outputs": [],
   "source": [
    "min_val = df2[\"budget\"].min()\n",
    "max_val = df2[\"budget\"].max()\n",
    "df2[[\"budget\", \"revenue\", \"Profit\"]] = df2[[\"budget\", \"revenue\", \"Profit\"]].apply(lambda x: \n",
    "                                                            x / (max_val - min_val))"
   ]
  },
  {
   "cell_type": "markdown",
   "metadata": {},
   "source": [
    "#### We are defining a function, weighted_rating() to check which are the most trending movies by their rating"
   ]
  },
  {
   "cell_type": "code",
   "execution_count": 48,
   "metadata": {},
   "outputs": [
    {
     "data": {
      "text/html": [
       "<div>\n",
       "<style scoped>\n",
       "    .dataframe tbody tr th:only-of-type {\n",
       "        vertical-align: middle;\n",
       "    }\n",
       "\n",
       "    .dataframe tbody tr th {\n",
       "        vertical-align: top;\n",
       "    }\n",
       "\n",
       "    .dataframe thead th {\n",
       "        text-align: right;\n",
       "    }\n",
       "</style>\n",
       "<table border=\"1\" class=\"dataframe\">\n",
       "  <thead>\n",
       "    <tr style=\"text-align: right;\">\n",
       "      <th></th>\n",
       "      <th>adult</th>\n",
       "      <th>budget</th>\n",
       "      <th>original_language</th>\n",
       "      <th>original_title</th>\n",
       "      <th>popularity</th>\n",
       "      <th>release_date</th>\n",
       "      <th>revenue</th>\n",
       "      <th>runtime</th>\n",
       "      <th>status</th>\n",
       "      <th>title</th>\n",
       "      <th>vote_average</th>\n",
       "      <th>vote_count</th>\n",
       "      <th>production_country</th>\n",
       "      <th>production_company</th>\n",
       "      <th>genres</th>\n",
       "      <th>Profit</th>\n",
       "      <th>weighted_rating</th>\n",
       "    </tr>\n",
       "  </thead>\n",
       "  <tbody>\n",
       "    <tr>\n",
       "      <th>0</th>\n",
       "      <td>False</td>\n",
       "      <td>0.078947</td>\n",
       "      <td>en</td>\n",
       "      <td>Toy Story</td>\n",
       "      <td>21.946943</td>\n",
       "      <td>10/30/1995</td>\n",
       "      <td>0.983037</td>\n",
       "      <td>81.0</td>\n",
       "      <td>Released</td>\n",
       "      <td>Toy Story</td>\n",
       "      <td>7.7</td>\n",
       "      <td>5415.0</td>\n",
       "      <td>USA</td>\n",
       "      <td>Pixar Animation Studios</td>\n",
       "      <td>Animation</td>\n",
       "      <td>0.904090</td>\n",
       "      <td>7.545556</td>\n",
       "    </tr>\n",
       "    <tr>\n",
       "      <th>1</th>\n",
       "      <td>False</td>\n",
       "      <td>0.171053</td>\n",
       "      <td>en</td>\n",
       "      <td>Jumanji</td>\n",
       "      <td>17.015539</td>\n",
       "      <td>12/15/1995</td>\n",
       "      <td>0.691572</td>\n",
       "      <td>104.0</td>\n",
       "      <td>Released</td>\n",
       "      <td>Jumanji</td>\n",
       "      <td>6.9</td>\n",
       "      <td>2413.0</td>\n",
       "      <td>USA</td>\n",
       "      <td>Tri Star Pictures</td>\n",
       "      <td>Adventure</td>\n",
       "      <td>0.520519</td>\n",
       "      <td>6.704671</td>\n",
       "    </tr>\n",
       "    <tr>\n",
       "      <th>2</th>\n",
       "      <td>False</td>\n",
       "      <td>0.000000</td>\n",
       "      <td>en</td>\n",
       "      <td>Grumpier Old Men</td>\n",
       "      <td>11.712900</td>\n",
       "      <td>12/22/1995</td>\n",
       "      <td>0.000000</td>\n",
       "      <td>101.0</td>\n",
       "      <td>Released</td>\n",
       "      <td>Grumpier Old Men</td>\n",
       "      <td>6.5</td>\n",
       "      <td>92.0</td>\n",
       "      <td>USA</td>\n",
       "      <td>Warner Bros</td>\n",
       "      <td>Romance</td>\n",
       "      <td>0.000000</td>\n",
       "      <td>5.773818</td>\n",
       "    </tr>\n",
       "    <tr>\n",
       "      <th>3</th>\n",
       "      <td>False</td>\n",
       "      <td>0.042105</td>\n",
       "      <td>en</td>\n",
       "      <td>Waiting to Exhale</td>\n",
       "      <td>3.859495</td>\n",
       "      <td>12/22/1995</td>\n",
       "      <td>0.214348</td>\n",
       "      <td>127.0</td>\n",
       "      <td>Released</td>\n",
       "      <td>Waiting to Exhale</td>\n",
       "      <td>6.1</td>\n",
       "      <td>34.0</td>\n",
       "      <td>USA</td>\n",
       "      <td>Twentieth Century Fox Film Corporation</td>\n",
       "      <td>Comedy</td>\n",
       "      <td>0.172243</td>\n",
       "      <td>5.654162</td>\n",
       "    </tr>\n",
       "    <tr>\n",
       "      <th>4</th>\n",
       "      <td>False</td>\n",
       "      <td>0.000000</td>\n",
       "      <td>en</td>\n",
       "      <td>Father of the Bride Part II</td>\n",
       "      <td>8.387519</td>\n",
       "      <td>2/10/1995</td>\n",
       "      <td>0.201523</td>\n",
       "      <td>106.0</td>\n",
       "      <td>Released</td>\n",
       "      <td>Father of the Bride Part II</td>\n",
       "      <td>5.7</td>\n",
       "      <td>173.0</td>\n",
       "      <td>USA</td>\n",
       "      <td>Sandollar Productions</td>\n",
       "      <td>Comedy</td>\n",
       "      <td>0.201523</td>\n",
       "      <td>5.641615</td>\n",
       "    </tr>\n",
       "    <tr>\n",
       "      <th>...</th>\n",
       "      <td>...</td>\n",
       "      <td>...</td>\n",
       "      <td>...</td>\n",
       "      <td>...</td>\n",
       "      <td>...</td>\n",
       "      <td>...</td>\n",
       "      <td>...</td>\n",
       "      <td>...</td>\n",
       "      <td>...</td>\n",
       "      <td>...</td>\n",
       "      <td>...</td>\n",
       "      <td>...</td>\n",
       "      <td>...</td>\n",
       "      <td>...</td>\n",
       "      <td>...</td>\n",
       "      <td>...</td>\n",
       "      <td>...</td>\n",
       "    </tr>\n",
       "    <tr>\n",
       "      <th>45455</th>\n",
       "      <td>False</td>\n",
       "      <td>0.000000</td>\n",
       "      <td>fa</td>\n",
       "      <td>رگ خواب</td>\n",
       "      <td>0.072051</td>\n",
       "      <td>NaN</td>\n",
       "      <td>0.000000</td>\n",
       "      <td>90.0</td>\n",
       "      <td>Released</td>\n",
       "      <td>Subdue</td>\n",
       "      <td>4.0</td>\n",
       "      <td>1.0</td>\n",
       "      <td>Iran</td>\n",
       "      <td>NaN</td>\n",
       "      <td>Drama</td>\n",
       "      <td>0.000000</td>\n",
       "      <td>5.610784</td>\n",
       "    </tr>\n",
       "    <tr>\n",
       "      <th>45456</th>\n",
       "      <td>False</td>\n",
       "      <td>0.000000</td>\n",
       "      <td>tl</td>\n",
       "      <td>Siglo ng Pagluluwal</td>\n",
       "      <td>0.178241</td>\n",
       "      <td>11/17/2011</td>\n",
       "      <td>0.000000</td>\n",
       "      <td>360.0</td>\n",
       "      <td>Released</td>\n",
       "      <td>Century of Birthing</td>\n",
       "      <td>9.0</td>\n",
       "      <td>3.0</td>\n",
       "      <td>Philippines</td>\n",
       "      <td>Sine Olivia</td>\n",
       "      <td>Drama</td>\n",
       "      <td>0.000000</td>\n",
       "      <td>5.649091</td>\n",
       "    </tr>\n",
       "    <tr>\n",
       "      <th>45457</th>\n",
       "      <td>False</td>\n",
       "      <td>0.000000</td>\n",
       "      <td>en</td>\n",
       "      <td>Betrayal</td>\n",
       "      <td>0.903007</td>\n",
       "      <td>8/1/2003</td>\n",
       "      <td>0.000000</td>\n",
       "      <td>90.0</td>\n",
       "      <td>Released</td>\n",
       "      <td>Betrayal</td>\n",
       "      <td>3.8</td>\n",
       "      <td>6.0</td>\n",
       "      <td>USA</td>\n",
       "      <td>American World Pictures</td>\n",
       "      <td>Action</td>\n",
       "      <td>0.000000</td>\n",
       "      <td>5.589347</td>\n",
       "    </tr>\n",
       "    <tr>\n",
       "      <th>45458</th>\n",
       "      <td>False</td>\n",
       "      <td>0.000000</td>\n",
       "      <td>en</td>\n",
       "      <td>Satana likuyushchiy</td>\n",
       "      <td>0.003503</td>\n",
       "      <td>10/21/1917</td>\n",
       "      <td>0.000000</td>\n",
       "      <td>87.0</td>\n",
       "      <td>Released</td>\n",
       "      <td>Satan Triumphant</td>\n",
       "      <td>0.0</td>\n",
       "      <td>0.0</td>\n",
       "      <td>Russia</td>\n",
       "      <td>Yermoliev</td>\n",
       "      <td></td>\n",
       "      <td>0.000000</td>\n",
       "      <td>5.605292</td>\n",
       "    </tr>\n",
       "    <tr>\n",
       "      <th>45459</th>\n",
       "      <td>False</td>\n",
       "      <td>0.000000</td>\n",
       "      <td>en</td>\n",
       "      <td>Queerama</td>\n",
       "      <td>0.163015</td>\n",
       "      <td>6/9/2017</td>\n",
       "      <td>0.000000</td>\n",
       "      <td>75.0</td>\n",
       "      <td>Released</td>\n",
       "      <td>Queerama</td>\n",
       "      <td>0.0</td>\n",
       "      <td>0.0</td>\n",
       "      <td>United Kingdom</td>\n",
       "      <td>NaN</td>\n",
       "      <td></td>\n",
       "      <td>0.000000</td>\n",
       "      <td>5.605292</td>\n",
       "    </tr>\n",
       "  </tbody>\n",
       "</table>\n",
       "<p>45460 rows × 17 columns</p>\n",
       "</div>"
      ],
      "text/plain": [
       "       adult    budget original_language               original_title  \\\n",
       "0      False  0.078947                en                    Toy Story   \n",
       "1      False  0.171053                en                      Jumanji   \n",
       "2      False  0.000000                en             Grumpier Old Men   \n",
       "3      False  0.042105                en            Waiting to Exhale   \n",
       "4      False  0.000000                en  Father of the Bride Part II   \n",
       "...      ...       ...               ...                          ...   \n",
       "45455  False  0.000000                fa                      رگ خواب   \n",
       "45456  False  0.000000                tl          Siglo ng Pagluluwal   \n",
       "45457  False  0.000000                en                     Betrayal   \n",
       "45458  False  0.000000                en          Satana likuyushchiy   \n",
       "45459  False  0.000000                en                     Queerama   \n",
       "\n",
       "       popularity release_date   revenue  runtime    status  \\\n",
       "0       21.946943   10/30/1995  0.983037     81.0  Released   \n",
       "1       17.015539   12/15/1995  0.691572    104.0  Released   \n",
       "2       11.712900   12/22/1995  0.000000    101.0  Released   \n",
       "3        3.859495   12/22/1995  0.214348    127.0  Released   \n",
       "4        8.387519    2/10/1995  0.201523    106.0  Released   \n",
       "...           ...          ...       ...      ...       ...   \n",
       "45455    0.072051          NaN  0.000000     90.0  Released   \n",
       "45456    0.178241   11/17/2011  0.000000    360.0  Released   \n",
       "45457    0.903007     8/1/2003  0.000000     90.0  Released   \n",
       "45458    0.003503   10/21/1917  0.000000     87.0  Released   \n",
       "45459    0.163015     6/9/2017  0.000000     75.0  Released   \n",
       "\n",
       "                             title  vote_average  vote_count  \\\n",
       "0                        Toy Story           7.7      5415.0   \n",
       "1                          Jumanji           6.9      2413.0   \n",
       "2                 Grumpier Old Men           6.5        92.0   \n",
       "3                Waiting to Exhale           6.1        34.0   \n",
       "4      Father of the Bride Part II           5.7       173.0   \n",
       "...                            ...           ...         ...   \n",
       "45455                       Subdue           4.0         1.0   \n",
       "45456          Century of Birthing           9.0         3.0   \n",
       "45457                     Betrayal           3.8         6.0   \n",
       "45458             Satan Triumphant           0.0         0.0   \n",
       "45459                     Queerama           0.0         0.0   \n",
       "\n",
       "      production_country                      production_company     genres  \\\n",
       "0                    USA                 Pixar Animation Studios  Animation   \n",
       "1                    USA                       Tri Star Pictures  Adventure   \n",
       "2                    USA                             Warner Bros    Romance   \n",
       "3                    USA  Twentieth Century Fox Film Corporation     Comedy   \n",
       "4                    USA                   Sandollar Productions     Comedy   \n",
       "...                  ...                                     ...        ...   \n",
       "45455               Iran                                     NaN      Drama   \n",
       "45456        Philippines                             Sine Olivia      Drama   \n",
       "45457                USA                 American World Pictures     Action   \n",
       "45458             Russia                               Yermoliev              \n",
       "45459     United Kingdom                                     NaN              \n",
       "\n",
       "         Profit  weighted_rating  \n",
       "0      0.904090         7.545556  \n",
       "1      0.520519         6.704671  \n",
       "2      0.000000         5.773818  \n",
       "3      0.172243         5.654162  \n",
       "4      0.201523         5.641615  \n",
       "...         ...              ...  \n",
       "45455  0.000000         5.610784  \n",
       "45456  0.000000         5.649091  \n",
       "45457  0.000000         5.589347  \n",
       "45458  0.000000         5.605292  \n",
       "45459  0.000000         5.605292  \n",
       "\n",
       "[45460 rows x 17 columns]"
      ]
     },
     "execution_count": 48,
     "metadata": {},
     "output_type": "execute_result"
    }
   ],
   "source": [
    "def weighted_rating(data):\n",
    "    v = data['vote_count'] + 1 # added +1\n",
    "    R = data['vote_average']\n",
    "    return (v / (v + minvotes) * R) + (minvotes / (minvotes + v) * meanrating)\n",
    "\n",
    "df2['weighted_rating'] = df2.apply(weighted_rating, axis=1)\n",
    "df2"
   ]
  },
  {
   "cell_type": "markdown",
   "metadata": {},
   "source": [
    "#### Sorting values based on weighted_rating"
   ]
  },
  {
   "cell_type": "code",
   "execution_count": 49,
   "metadata": {},
   "outputs": [
    {
     "data": {
      "text/html": [
       "<div>\n",
       "<style scoped>\n",
       "    .dataframe tbody tr th:only-of-type {\n",
       "        vertical-align: middle;\n",
       "    }\n",
       "\n",
       "    .dataframe tbody tr th {\n",
       "        vertical-align: top;\n",
       "    }\n",
       "\n",
       "    .dataframe thead th {\n",
       "        text-align: right;\n",
       "    }\n",
       "</style>\n",
       "<table border=\"1\" class=\"dataframe\">\n",
       "  <thead>\n",
       "    <tr style=\"text-align: right;\">\n",
       "      <th></th>\n",
       "      <th>title</th>\n",
       "      <th>production_country</th>\n",
       "      <th>genres</th>\n",
       "      <th>Profit</th>\n",
       "      <th>popularity</th>\n",
       "      <th>weighted_rating</th>\n",
       "    </tr>\n",
       "  </thead>\n",
       "  <tbody>\n",
       "    <tr>\n",
       "      <th>314</th>\n",
       "      <td>The Shawshank Redemption</td>\n",
       "      <td>USA</td>\n",
       "      <td>Drama</td>\n",
       "      <td>0.008793</td>\n",
       "      <td>51.645403</td>\n",
       "      <td>8.357762</td>\n",
       "    </tr>\n",
       "    <tr>\n",
       "      <th>834</th>\n",
       "      <td>The Godfather</td>\n",
       "      <td>USA</td>\n",
       "      <td>Drama</td>\n",
       "      <td>0.629122</td>\n",
       "      <td>41.109264</td>\n",
       "      <td>8.306364</td>\n",
       "    </tr>\n",
       "    <tr>\n",
       "      <th>12481</th>\n",
       "      <td>The Dark Knight</td>\n",
       "      <td>USA</td>\n",
       "      <td>Drama</td>\n",
       "      <td>2.156733</td>\n",
       "      <td>123.167259</td>\n",
       "      <td>8.208383</td>\n",
       "    </tr>\n",
       "    <tr>\n",
       "      <th>2843</th>\n",
       "      <td>Fight Club</td>\n",
       "      <td>USA</td>\n",
       "      <td>Drama</td>\n",
       "      <td>0.099615</td>\n",
       "      <td>63.869599</td>\n",
       "      <td>8.184911</td>\n",
       "    </tr>\n",
       "    <tr>\n",
       "      <th>292</th>\n",
       "      <td>Pulp Fiction</td>\n",
       "      <td>USA</td>\n",
       "      <td>Thriller</td>\n",
       "      <td>0.541918</td>\n",
       "      <td>140.950236</td>\n",
       "      <td>8.172169</td>\n",
       "    </tr>\n",
       "    <tr>\n",
       "      <th>351</th>\n",
       "      <td>Forrest Gump</td>\n",
       "      <td>USA</td>\n",
       "      <td>Comedy</td>\n",
       "      <td>1.639330</td>\n",
       "      <td>48.307194</td>\n",
       "      <td>8.069436</td>\n",
       "    </tr>\n",
       "    <tr>\n",
       "      <th>522</th>\n",
       "      <td>Schindler's List</td>\n",
       "      <td>USA</td>\n",
       "      <td>Drama</td>\n",
       "      <td>0.787804</td>\n",
       "      <td>41.725123</td>\n",
       "      <td>8.061056</td>\n",
       "    </tr>\n",
       "    <tr>\n",
       "      <th>23671</th>\n",
       "      <td>Whiplash</td>\n",
       "      <td>USA</td>\n",
       "      <td>Drama</td>\n",
       "      <td>0.025768</td>\n",
       "      <td>64.299990</td>\n",
       "      <td>8.058076</td>\n",
       "    </tr>\n",
       "    <tr>\n",
       "      <th>5481</th>\n",
       "      <td>Spirited Away</td>\n",
       "      <td>Japan</td>\n",
       "      <td>Fantasy</td>\n",
       "      <td>0.684013</td>\n",
       "      <td>41.048867</td>\n",
       "      <td>8.035658</td>\n",
       "    </tr>\n",
       "    <tr>\n",
       "      <th>1154</th>\n",
       "      <td>The Empire Strikes Back</td>\n",
       "      <td>USA</td>\n",
       "      <td>Adventure</td>\n",
       "      <td>1.369474</td>\n",
       "      <td>19.470959</td>\n",
       "      <td>8.025820</td>\n",
       "    </tr>\n",
       "  </tbody>\n",
       "</table>\n",
       "</div>"
      ],
      "text/plain": [
       "                          title production_country     genres    Profit  \\\n",
       "314    The Shawshank Redemption                USA      Drama  0.008793   \n",
       "834               The Godfather                USA      Drama  0.629122   \n",
       "12481           The Dark Knight                USA      Drama  2.156733   \n",
       "2843                 Fight Club                USA      Drama  0.099615   \n",
       "292                Pulp Fiction                USA   Thriller  0.541918   \n",
       "351                Forrest Gump                USA     Comedy  1.639330   \n",
       "522            Schindler's List                USA      Drama  0.787804   \n",
       "23671                  Whiplash                USA      Drama  0.025768   \n",
       "5481              Spirited Away              Japan    Fantasy  0.684013   \n",
       "1154    The Empire Strikes Back                USA  Adventure  1.369474   \n",
       "\n",
       "       popularity  weighted_rating  \n",
       "314     51.645403         8.357762  \n",
       "834     41.109264         8.306364  \n",
       "12481  123.167259         8.208383  \n",
       "2843    63.869599         8.184911  \n",
       "292    140.950236         8.172169  \n",
       "351     48.307194         8.069436  \n",
       "522     41.725123         8.061056  \n",
       "23671   64.299990         8.058076  \n",
       "5481    41.048867         8.035658  \n",
       "1154    19.470959         8.025820  "
      ]
     },
     "execution_count": 49,
     "metadata": {},
     "output_type": "execute_result"
    }
   ],
   "source": [
    "df2.sort_values('weighted_rating', ascending=False)[[\"title\", \"production_country\", \"genres\", \"Profit\", \n",
    "                                                    \"popularity\", \"weighted_rating\"]].head(10)"
   ]
  },
  {
   "cell_type": "markdown",
   "metadata": {},
   "source": [
    "#### Sorting values based on Profit"
   ]
  },
  {
   "cell_type": "code",
   "execution_count": 50,
   "metadata": {},
   "outputs": [
    {
     "data": {
      "text/html": [
       "<div>\n",
       "<style scoped>\n",
       "    .dataframe tbody tr th:only-of-type {\n",
       "        vertical-align: middle;\n",
       "    }\n",
       "\n",
       "    .dataframe tbody tr th {\n",
       "        vertical-align: top;\n",
       "    }\n",
       "\n",
       "    .dataframe thead th {\n",
       "        text-align: right;\n",
       "    }\n",
       "</style>\n",
       "<table border=\"1\" class=\"dataframe\">\n",
       "  <thead>\n",
       "    <tr style=\"text-align: right;\">\n",
       "      <th></th>\n",
       "      <th>title</th>\n",
       "      <th>production_country</th>\n",
       "      <th>genres</th>\n",
       "      <th>Profit</th>\n",
       "      <th>popularity</th>\n",
       "      <th>weighted_rating</th>\n",
       "    </tr>\n",
       "  </thead>\n",
       "  <tbody>\n",
       "    <tr>\n",
       "      <th>14551</th>\n",
       "      <td>Avatar</td>\n",
       "      <td>United Kingdom</td>\n",
       "      <td>Action</td>\n",
       "      <td>6.713066</td>\n",
       "      <td>185.070892</td>\n",
       "      <td>7.145295</td>\n",
       "    </tr>\n",
       "    <tr>\n",
       "      <th>26553</th>\n",
       "      <td>Star Wars: The Force Awakens</td>\n",
       "      <td>USA</td>\n",
       "      <td>Action</td>\n",
       "      <td>4.797957</td>\n",
       "      <td>31.626013</td>\n",
       "      <td>7.403097</td>\n",
       "    </tr>\n",
       "    <tr>\n",
       "      <th>1639</th>\n",
       "      <td>Titanic</td>\n",
       "      <td>USA</td>\n",
       "      <td>Drama</td>\n",
       "      <td>4.329037</td>\n",
       "      <td>26.889070</td>\n",
       "      <td>7.400463</td>\n",
       "    </tr>\n",
       "    <tr>\n",
       "      <th>25082</th>\n",
       "      <td>Jurassic World</td>\n",
       "      <td>USA</td>\n",
       "      <td>Action</td>\n",
       "      <td>3.588234</td>\n",
       "      <td>32.790475</td>\n",
       "      <td>6.458748</td>\n",
       "    </tr>\n",
       "    <tr>\n",
       "      <th>28828</th>\n",
       "      <td>Furious 7</td>\n",
       "      <td>USA</td>\n",
       "      <td>Action</td>\n",
       "      <td>3.463814</td>\n",
       "      <td>27.275687</td>\n",
       "      <td>7.144305</td>\n",
       "    </tr>\n",
       "    <tr>\n",
       "      <th>17818</th>\n",
       "      <td>The Avengers</td>\n",
       "      <td>USA</td>\n",
       "      <td>Science</td>\n",
       "      <td>3.419889</td>\n",
       "      <td>89.887648</td>\n",
       "      <td>7.337813</td>\n",
       "    </tr>\n",
       "    <tr>\n",
       "      <th>17437</th>\n",
       "      <td>Harry Potter and the Deathly Hallows: Part 2</td>\n",
       "      <td>USA</td>\n",
       "      <td>Family</td>\n",
       "      <td>3.202632</td>\n",
       "      <td>24.990737</td>\n",
       "      <td>7.749407</td>\n",
       "    </tr>\n",
       "    <tr>\n",
       "      <th>26556</th>\n",
       "      <td>Avengers: Age of Ultron</td>\n",
       "      <td>USA</td>\n",
       "      <td>Action</td>\n",
       "      <td>2.961589</td>\n",
       "      <td>37.379420</td>\n",
       "      <td>7.200599</td>\n",
       "    </tr>\n",
       "    <tr>\n",
       "      <th>22108</th>\n",
       "      <td>Frozen</td>\n",
       "      <td>USA</td>\n",
       "      <td>Animation</td>\n",
       "      <td>2.958471</td>\n",
       "      <td>24.248243</td>\n",
       "      <td>7.175762</td>\n",
       "    </tr>\n",
       "    <tr>\n",
       "      <th>42216</th>\n",
       "      <td>Beauty and the Beast</td>\n",
       "      <td>USA</td>\n",
       "      <td>Family</td>\n",
       "      <td>2.902332</td>\n",
       "      <td>287.253654</td>\n",
       "      <td>6.714015</td>\n",
       "    </tr>\n",
       "  </tbody>\n",
       "</table>\n",
       "</div>"
      ],
      "text/plain": [
       "                                              title production_country  \\\n",
       "14551                                        Avatar     United Kingdom   \n",
       "26553                  Star Wars: The Force Awakens                USA   \n",
       "1639                                        Titanic                USA   \n",
       "25082                                Jurassic World                USA   \n",
       "28828                                     Furious 7                USA   \n",
       "17818                                  The Avengers                USA   \n",
       "17437  Harry Potter and the Deathly Hallows: Part 2                USA   \n",
       "26556                       Avengers: Age of Ultron                USA   \n",
       "22108                                        Frozen                USA   \n",
       "42216                          Beauty and the Beast                USA   \n",
       "\n",
       "          genres    Profit  popularity  weighted_rating  \n",
       "14551     Action  6.713066  185.070892         7.145295  \n",
       "26553     Action  4.797957   31.626013         7.403097  \n",
       "1639       Drama  4.329037   26.889070         7.400463  \n",
       "25082     Action  3.588234   32.790475         6.458748  \n",
       "28828     Action  3.463814   27.275687         7.144305  \n",
       "17818    Science  3.419889   89.887648         7.337813  \n",
       "17437     Family  3.202632   24.990737         7.749407  \n",
       "26556     Action  2.961589   37.379420         7.200599  \n",
       "22108  Animation  2.958471   24.248243         7.175762  \n",
       "42216     Family  2.902332  287.253654         6.714015  "
      ]
     },
     "execution_count": 50,
     "metadata": {},
     "output_type": "execute_result"
    }
   ],
   "source": [
    "df2.sort_values('Profit', ascending=False)[[\"title\", \"production_country\", \"genres\", \"Profit\", \n",
    "                                                    \"popularity\", \"weighted_rating\"]].head(10)"
   ]
  },
  {
   "cell_type": "markdown",
   "metadata": {},
   "source": [
    "#### Heatmap of correlations to find which numerical features influence the Profit feature most.\n"
   ]
  },
  {
   "cell_type": "code",
   "execution_count": 51,
   "metadata": {},
   "outputs": [
    {
     "data": {
      "text/plain": [
       "<AxesSubplot:>"
      ]
     },
     "execution_count": 51,
     "metadata": {},
     "output_type": "execute_result"
    },
    {
     "data": {
      "text/html": [
       "<div>\n",
       "<style scoped>\n",
       "    .dataframe tbody tr th:only-of-type {\n",
       "        vertical-align: middle;\n",
       "    }\n",
       "\n",
       "    .dataframe tbody tr th {\n",
       "        vertical-align: top;\n",
       "    }\n",
       "\n",
       "    .dataframe thead th {\n",
       "        text-align: right;\n",
       "    }\n",
       "</style>\n",
       "<table border=\"1\" class=\"dataframe\">\n",
       "  <thead>\n",
       "    <tr style=\"text-align: right;\">\n",
       "      <th></th>\n",
       "      <th>adult</th>\n",
       "      <th>budget</th>\n",
       "      <th>popularity</th>\n",
       "      <th>runtime</th>\n",
       "      <th>vote_average</th>\n",
       "      <th>vote_count</th>\n",
       "      <th>Profit</th>\n",
       "      <th>weighted_rating</th>\n",
       "    </tr>\n",
       "  </thead>\n",
       "  <tbody>\n",
       "    <tr>\n",
       "      <th>adult</th>\n",
       "      <td>1.000000</td>\n",
       "      <td>-0.003345</td>\n",
       "      <td>-0.003392</td>\n",
       "      <td>-0.009029</td>\n",
       "      <td>-0.012403</td>\n",
       "      <td>-0.002922</td>\n",
       "      <td>-0.001907</td>\n",
       "      <td>-0.005346</td>\n",
       "    </tr>\n",
       "    <tr>\n",
       "      <th>budget</th>\n",
       "      <td>-0.003345</td>\n",
       "      <td>1.000000</td>\n",
       "      <td>0.449645</td>\n",
       "      <td>0.134733</td>\n",
       "      <td>0.073494</td>\n",
       "      <td>0.676642</td>\n",
       "      <td>0.614339</td>\n",
       "      <td>0.382321</td>\n",
       "    </tr>\n",
       "    <tr>\n",
       "      <th>popularity</th>\n",
       "      <td>-0.003392</td>\n",
       "      <td>0.449645</td>\n",
       "      <td>1.000000</td>\n",
       "      <td>0.129927</td>\n",
       "      <td>0.154399</td>\n",
       "      <td>0.559965</td>\n",
       "      <td>0.474264</td>\n",
       "      <td>0.463614</td>\n",
       "    </tr>\n",
       "    <tr>\n",
       "      <th>runtime</th>\n",
       "      <td>-0.009029</td>\n",
       "      <td>0.134733</td>\n",
       "      <td>0.129927</td>\n",
       "      <td>1.000000</td>\n",
       "      <td>0.158146</td>\n",
       "      <td>0.113539</td>\n",
       "      <td>0.083189</td>\n",
       "      <td>0.157327</td>\n",
       "    </tr>\n",
       "    <tr>\n",
       "      <th>vote_average</th>\n",
       "      <td>-0.012403</td>\n",
       "      <td>0.073494</td>\n",
       "      <td>0.154399</td>\n",
       "      <td>0.158146</td>\n",
       "      <td>1.000000</td>\n",
       "      <td>0.123607</td>\n",
       "      <td>0.078916</td>\n",
       "      <td>0.305796</td>\n",
       "    </tr>\n",
       "    <tr>\n",
       "      <th>vote_count</th>\n",
       "      <td>-0.002922</td>\n",
       "      <td>0.676642</td>\n",
       "      <td>0.559965</td>\n",
       "      <td>0.113539</td>\n",
       "      <td>0.123607</td>\n",
       "      <td>1.000000</td>\n",
       "      <td>0.775756</td>\n",
       "      <td>0.694526</td>\n",
       "    </tr>\n",
       "    <tr>\n",
       "      <th>Profit</th>\n",
       "      <td>-0.001907</td>\n",
       "      <td>0.614339</td>\n",
       "      <td>0.474264</td>\n",
       "      <td>0.083189</td>\n",
       "      <td>0.078916</td>\n",
       "      <td>0.775756</td>\n",
       "      <td>1.000000</td>\n",
       "      <td>0.475858</td>\n",
       "    </tr>\n",
       "    <tr>\n",
       "      <th>weighted_rating</th>\n",
       "      <td>-0.005346</td>\n",
       "      <td>0.382321</td>\n",
       "      <td>0.463614</td>\n",
       "      <td>0.157327</td>\n",
       "      <td>0.305796</td>\n",
       "      <td>0.694526</td>\n",
       "      <td>0.475858</td>\n",
       "      <td>1.000000</td>\n",
       "    </tr>\n",
       "  </tbody>\n",
       "</table>\n",
       "</div>"
      ],
      "text/plain": [
       "                    adult    budget  popularity   runtime  vote_average  \\\n",
       "adult            1.000000 -0.003345   -0.003392 -0.009029     -0.012403   \n",
       "budget          -0.003345  1.000000    0.449645  0.134733      0.073494   \n",
       "popularity      -0.003392  0.449645    1.000000  0.129927      0.154399   \n",
       "runtime         -0.009029  0.134733    0.129927  1.000000      0.158146   \n",
       "vote_average    -0.012403  0.073494    0.154399  0.158146      1.000000   \n",
       "vote_count      -0.002922  0.676642    0.559965  0.113539      0.123607   \n",
       "Profit          -0.001907  0.614339    0.474264  0.083189      0.078916   \n",
       "weighted_rating -0.005346  0.382321    0.463614  0.157327      0.305796   \n",
       "\n",
       "                 vote_count    Profit  weighted_rating  \n",
       "adult             -0.002922 -0.001907        -0.005346  \n",
       "budget             0.676642  0.614339         0.382321  \n",
       "popularity         0.559965  0.474264         0.463614  \n",
       "runtime            0.113539  0.083189         0.157327  \n",
       "vote_average       0.123607  0.078916         0.305796  \n",
       "vote_count         1.000000  0.775756         0.694526  \n",
       "Profit             0.775756  1.000000         0.475858  \n",
       "weighted_rating    0.694526  0.475858         1.000000  "
      ]
     },
     "execution_count": 51,
     "metadata": {},
     "output_type": "execute_result"
    },
    {
     "data": {
      "image/png": "[encoded data removed]",
      "text/plain": [
       "<Figure size 432x288 with 2 Axes>"
      ]
     },
     "metadata": {
      "needs_background": "light"
     },
     "output_type": "display_data"
    }
   ],
   "source": [
    "sns.heatmap(df2.corr(), cmap = 'YlGnBu')\n",
    "df2.drop([\"revenue\"], axis=1).corr()"
   ]
  },
  {
   "cell_type": "markdown",
   "metadata": {},
   "source": [
    "#### Correlation"
   ]
  },
  {
   "cell_type": "code",
   "execution_count": 52,
   "metadata": {},
   "outputs": [
    {
     "data": {
      "text/html": [
       "<div>\n",
       "<style scoped>\n",
       "    .dataframe tbody tr th:only-of-type {\n",
       "        vertical-align: middle;\n",
       "    }\n",
       "\n",
       "    .dataframe tbody tr th {\n",
       "        vertical-align: top;\n",
       "    }\n",
       "\n",
       "    .dataframe thead th {\n",
       "        text-align: right;\n",
       "    }\n",
       "</style>\n",
       "<table border=\"1\" class=\"dataframe\">\n",
       "  <thead>\n",
       "    <tr style=\"text-align: right;\">\n",
       "      <th></th>\n",
       "      <th>adult</th>\n",
       "      <th>budget</th>\n",
       "      <th>popularity</th>\n",
       "      <th>revenue</th>\n",
       "      <th>runtime</th>\n",
       "      <th>vote_average</th>\n",
       "      <th>vote_count</th>\n",
       "      <th>Profit</th>\n",
       "      <th>weighted_rating</th>\n",
       "    </tr>\n",
       "  </thead>\n",
       "  <tbody>\n",
       "    <tr>\n",
       "      <th>adult</th>\n",
       "      <td>1.000000</td>\n",
       "      <td>-0.003345</td>\n",
       "      <td>-0.003392</td>\n",
       "      <td>-0.002452</td>\n",
       "      <td>-0.009029</td>\n",
       "      <td>-0.012403</td>\n",
       "      <td>-0.002922</td>\n",
       "      <td>-0.001907</td>\n",
       "      <td>-0.005346</td>\n",
       "    </tr>\n",
       "    <tr>\n",
       "      <th>budget</th>\n",
       "      <td>-0.003345</td>\n",
       "      <td>1.000000</td>\n",
       "      <td>0.449645</td>\n",
       "      <td>0.768776</td>\n",
       "      <td>0.134733</td>\n",
       "      <td>0.073494</td>\n",
       "      <td>0.676642</td>\n",
       "      <td>0.614339</td>\n",
       "      <td>0.382321</td>\n",
       "    </tr>\n",
       "    <tr>\n",
       "      <th>popularity</th>\n",
       "      <td>-0.003392</td>\n",
       "      <td>0.449645</td>\n",
       "      <td>1.000000</td>\n",
       "      <td>0.506179</td>\n",
       "      <td>0.129927</td>\n",
       "      <td>0.154399</td>\n",
       "      <td>0.559965</td>\n",
       "      <td>0.474264</td>\n",
       "      <td>0.463614</td>\n",
       "    </tr>\n",
       "    <tr>\n",
       "      <th>revenue</th>\n",
       "      <td>-0.002452</td>\n",
       "      <td>0.768776</td>\n",
       "      <td>0.506179</td>\n",
       "      <td>1.000000</td>\n",
       "      <td>0.103917</td>\n",
       "      <td>0.083868</td>\n",
       "      <td>0.812022</td>\n",
       "      <td>0.976896</td>\n",
       "      <td>0.489236</td>\n",
       "    </tr>\n",
       "    <tr>\n",
       "      <th>runtime</th>\n",
       "      <td>-0.009029</td>\n",
       "      <td>0.134733</td>\n",
       "      <td>0.129927</td>\n",
       "      <td>0.103917</td>\n",
       "      <td>1.000000</td>\n",
       "      <td>0.158146</td>\n",
       "      <td>0.113539</td>\n",
       "      <td>0.083189</td>\n",
       "      <td>0.157327</td>\n",
       "    </tr>\n",
       "    <tr>\n",
       "      <th>vote_average</th>\n",
       "      <td>-0.012403</td>\n",
       "      <td>0.073494</td>\n",
       "      <td>0.154399</td>\n",
       "      <td>0.083868</td>\n",
       "      <td>0.158146</td>\n",
       "      <td>1.000000</td>\n",
       "      <td>0.123607</td>\n",
       "      <td>0.078916</td>\n",
       "      <td>0.305796</td>\n",
       "    </tr>\n",
       "    <tr>\n",
       "      <th>vote_count</th>\n",
       "      <td>-0.002922</td>\n",
       "      <td>0.676642</td>\n",
       "      <td>0.559965</td>\n",
       "      <td>0.812022</td>\n",
       "      <td>0.113539</td>\n",
       "      <td>0.123607</td>\n",
       "      <td>1.000000</td>\n",
       "      <td>0.775756</td>\n",
       "      <td>0.694526</td>\n",
       "    </tr>\n",
       "    <tr>\n",
       "      <th>Profit</th>\n",
       "      <td>-0.001907</td>\n",
       "      <td>0.614339</td>\n",
       "      <td>0.474264</td>\n",
       "      <td>0.976896</td>\n",
       "      <td>0.083189</td>\n",
       "      <td>0.078916</td>\n",
       "      <td>0.775756</td>\n",
       "      <td>1.000000</td>\n",
       "      <td>0.475858</td>\n",
       "    </tr>\n",
       "    <tr>\n",
       "      <th>weighted_rating</th>\n",
       "      <td>-0.005346</td>\n",
       "      <td>0.382321</td>\n",
       "      <td>0.463614</td>\n",
       "      <td>0.489236</td>\n",
       "      <td>0.157327</td>\n",
       "      <td>0.305796</td>\n",
       "      <td>0.694526</td>\n",
       "      <td>0.475858</td>\n",
       "      <td>1.000000</td>\n",
       "    </tr>\n",
       "  </tbody>\n",
       "</table>\n",
       "</div>"
      ],
      "text/plain": [
       "                    adult    budget  popularity   revenue   runtime  \\\n",
       "adult            1.000000 -0.003345   -0.003392 -0.002452 -0.009029   \n",
       "budget          -0.003345  1.000000    0.449645  0.768776  0.134733   \n",
       "popularity      -0.003392  0.449645    1.000000  0.506179  0.129927   \n",
       "revenue         -0.002452  0.768776    0.506179  1.000000  0.103917   \n",
       "runtime         -0.009029  0.134733    0.129927  0.103917  1.000000   \n",
       "vote_average    -0.012403  0.073494    0.154399  0.083868  0.158146   \n",
       "vote_count      -0.002922  0.676642    0.559965  0.812022  0.113539   \n",
       "Profit          -0.001907  0.614339    0.474264  0.976896  0.083189   \n",
       "weighted_rating -0.005346  0.382321    0.463614  0.489236  0.157327   \n",
       "\n",
       "                 vote_average  vote_count    Profit  weighted_rating  \n",
       "adult               -0.012403   -0.002922 -0.001907        -0.005346  \n",
       "budget               0.073494    0.676642  0.614339         0.382321  \n",
       "popularity           0.154399    0.559965  0.474264         0.463614  \n",
       "revenue              0.083868    0.812022  0.976896         0.489236  \n",
       "runtime              0.158146    0.113539  0.083189         0.157327  \n",
       "vote_average         1.000000    0.123607  0.078916         0.305796  \n",
       "vote_count           0.123607    1.000000  0.775756         0.694526  \n",
       "Profit               0.078916    0.775756  1.000000         0.475858  \n",
       "weighted_rating      0.305796    0.694526  0.475858         1.000000  "
      ]
     },
     "execution_count": 52,
     "metadata": {},
     "output_type": "execute_result"
    }
   ],
   "source": [
    "df2.corr()"
   ]
  },
  {
   "cell_type": "markdown",
   "metadata": {},
   "source": [
    "#### we need to \"stack\" the result of cor.stack(), which means turning it into a Series with a \"Hierarchical index\" (that is, an index of two elements). Check relationship within different properties"
   ]
  },
  {
   "cell_type": "code",
   "execution_count": 53,
   "metadata": {},
   "outputs": [
    {
     "data": {
      "text/plain": [
       "adult            adult              1.000000\n",
       "                 budget            -0.003345\n",
       "                 popularity        -0.003392\n",
       "                 revenue           -0.002452\n",
       "                 runtime           -0.009029\n",
       "                                      ...   \n",
       "weighted_rating  runtime            0.157327\n",
       "                 vote_average       0.305796\n",
       "                 vote_count         0.694526\n",
       "                 Profit             0.475858\n",
       "                 weighted_rating    1.000000\n",
       "Length: 81, dtype: float64"
      ]
     },
     "execution_count": 53,
     "metadata": {},
     "output_type": "execute_result"
    }
   ],
   "source": [
    "cor = df2.corr()\n",
    "cor.stack()"
   ]
  },
  {
   "cell_type": "code",
   "execution_count": 54,
   "metadata": {},
   "outputs": [
    {
     "data": {
      "text/plain": [
       "revenue          Profit             0.976896\n",
       "Profit           revenue            0.976896\n",
       "revenue          vote_count         0.812022\n",
       "vote_count       revenue            0.812022\n",
       "                 Profit             0.775756\n",
       "Profit           vote_count         0.775756\n",
       "budget           revenue            0.768776\n",
       "revenue          budget             0.768776\n",
       "vote_count       weighted_rating    0.694526\n",
       "weighted_rating  vote_count         0.694526\n",
       "dtype: float64"
      ]
     },
     "execution_count": 54,
     "metadata": {},
     "output_type": "execute_result"
    }
   ],
   "source": [
    "cor[cor < 1].stack().nlargest(10)"
   ]
  },
  {
   "cell_type": "markdown",
   "metadata": {},
   "source": [
    "#### We can see that profit and revenue are highly correlated, let's remove the correlations equal to 1 and pick one correlation every two (as they are appearing twice"
   ]
  },
  {
   "cell_type": "code",
   "execution_count": 55,
   "metadata": {},
   "outputs": [
    {
     "data": {
      "text/plain": [
       "revenue     Profit             0.976896\n",
       "            vote_count         0.812022\n",
       "vote_count  Profit             0.775756\n",
       "budget      revenue            0.768776\n",
       "vote_count  weighted_rating    0.694526\n",
       "budget      vote_count         0.676642\n",
       "            Profit             0.614339\n",
       "popularity  vote_count         0.559965\n",
       "            revenue            0.506179\n",
       "revenue     weighted_rating    0.489236\n",
       "dtype: float64"
      ]
     },
     "execution_count": 55,
     "metadata": {},
     "output_type": "execute_result"
    }
   ],
   "source": [
    "cor[cor < 1].stack().nlargest(20)[::2]"
   ]
  },
  {
   "cell_type": "code",
   "execution_count": 56,
   "metadata": {},
   "outputs": [
    {
     "data": {
      "text/plain": [
       "adult         vote_average      -0.012403\n",
       "              runtime           -0.009029\n",
       "              weighted_rating   -0.005346\n",
       "              popularity        -0.003392\n",
       "              budget            -0.003345\n",
       "              vote_count        -0.002922\n",
       "              revenue           -0.002452\n",
       "              Profit            -0.001907\n",
       "budget        vote_average       0.073494\n",
       "vote_average  Profit             0.078916\n",
       "dtype: float64"
      ]
     },
     "execution_count": 56,
     "metadata": {},
     "output_type": "execute_result"
    }
   ],
   "source": [
    "cor[cor < 1].stack().nsmallest(20)[::2]"
   ]
  },
  {
   "cell_type": "code",
   "execution_count": 57,
   "metadata": {},
   "outputs": [
    {
     "data": {
      "text/plain": [
       "adult         Profit             0.001907\n",
       "              revenue            0.002452\n",
       "              vote_count         0.002922\n",
       "              budget             0.003345\n",
       "              popularity         0.003392\n",
       "              weighted_rating    0.005346\n",
       "              runtime            0.009029\n",
       "              vote_average       0.012403\n",
       "budget        vote_average       0.073494\n",
       "vote_average  Profit             0.078916\n",
       "dtype: float64"
      ]
     },
     "execution_count": 57,
     "metadata": {},
     "output_type": "execute_result"
    }
   ],
   "source": [
    "cor[cor<1].stack().abs().nsmallest(20)[::2]"
   ]
  },
  {
   "cell_type": "markdown",
   "metadata": {},
   "source": [
    "#### Least significant correlations"
   ]
  },
  {
   "cell_type": "code",
   "execution_count": 58,
   "metadata": {},
   "outputs": [],
   "source": [
    "LeastCorr = cor[cor<1].stack().abs().nsmallest(20)[::2]"
   ]
  },
  {
   "cell_type": "code",
   "execution_count": 59,
   "metadata": {},
   "outputs": [
    {
     "data": {
      "text/plain": [
       "adult         Profit            -0.001907\n",
       "              revenue           -0.002452\n",
       "              vote_count        -0.002922\n",
       "              budget            -0.003345\n",
       "              popularity        -0.003392\n",
       "              weighted_rating   -0.005346\n",
       "              runtime           -0.009029\n",
       "              vote_average      -0.012403\n",
       "budget        vote_average       0.073494\n",
       "vote_average  Profit             0.078916\n",
       "dtype: float64"
      ]
     },
     "execution_count": 59,
     "metadata": {},
     "output_type": "execute_result"
    }
   ],
   "source": [
    "cor[cor<1].stack()[LeastCorr.index]"
   ]
  },
  {
   "cell_type": "markdown",
   "metadata": {},
   "source": [
    "#### Below are the scatterplots of numeric data just for the data visualization\n",
    "#### Scatterplot of vote count and profit,for it to be credible, it needs a significant amount of votes. "
   ]
  },
  {
   "cell_type": "code",
   "execution_count": 60,
   "metadata": {},
   "outputs": [
    {
     "data": {
      "text/plain": [
       "<AxesSubplot:xlabel='vote_count', ylabel='Profit'>"
      ]
     },
     "execution_count": 60,
     "metadata": {},
     "output_type": "execute_result"
    },
    {
     "data": {
      "image/png": "[encoded data removed]",
      "text/plain": [
       "<Figure size 432x288 with 1 Axes>"
      ]
     },
     "metadata": {
      "needs_background": "light"
     },
     "output_type": "display_data"
    }
   ],
   "source": [
    "sns.scatterplot(x=\"vote_count\", y=\"Profit\", data=df2[[\"Profit\", \"vote_count\"]])"
   ]
  },
  {
   "cell_type": "code",
   "execution_count": 61,
   "metadata": {},
   "outputs": [
    {
     "data": {
      "text/plain": [
       "<AxesSubplot:xlabel='budget', ylabel='revenue'>"
      ]
     },
     "execution_count": 61,
     "metadata": {},
     "output_type": "execute_result"
    },
    {
     "data": {
      "image/png": "[encoded data removed]",
      "text/plain": [
       "<Figure size 432x288 with 1 Axes>"
      ]
     },
     "metadata": {
      "needs_background": "light"
     },
     "output_type": "display_data"
    }
   ],
   "source": [
    "sns.scatterplot(x=\"budget\", y=\"revenue\", data=df2[[\"budget\", \"revenue\"]])"
   ]
  },
  {
   "cell_type": "code",
   "execution_count": 62,
   "metadata": {},
   "outputs": [
    {
     "data": {
      "text/plain": [
       "<AxesSubplot:xlabel='vote_average'>"
      ]
     },
     "execution_count": 62,
     "metadata": {},
     "output_type": "execute_result"
    },
    {
     "data": {
      "image/png": "[encoded data removed]",
      "text/plain": [
       "<Figure size 432x288 with 1 Axes>"
      ]
     },
     "metadata": {
      "needs_background": "light"
     },
     "output_type": "display_data"
    }
   ],
   "source": [
    "df2.groupby('vote_average')['vote_average'].count().plot()"
   ]
  },
  {
   "cell_type": "markdown",
   "metadata": {},
   "source": [
    "#### The more revenue a movie has, the more profit the movie will have "
   ]
  },
  {
   "cell_type": "code",
   "execution_count": 63,
   "metadata": {},
   "outputs": [
    {
     "data": {
      "text/plain": [
       "<seaborn.axisgrid.PairGrid at 0x1d2fb9b6880>"
      ]
     },
     "execution_count": 63,
     "metadata": {},
     "output_type": "execute_result"
    },
    {
     "data": {
      "image/png": "[encoded data removed]",
      "text/plain": [
       "<Figure size 720x720 with 20 Axes>"
      ]
     },
     "metadata": {
      "needs_background": "light"
     },
     "output_type": "display_data"
    }
   ],
   "source": [
    "sns.pairplot(df2[['vote_count','vote_average', 'budget', 'revenue']])"
   ]
  },
  {
   "cell_type": "code",
   "execution_count": 64,
   "metadata": {},
   "outputs": [
    {
     "data": {
      "text/plain": [
       "<AxesSubplot:>"
      ]
     },
     "execution_count": 64,
     "metadata": {},
     "output_type": "execute_result"
    },
    {
     "data": {
      "image/png": "[encoded data removed]",
      "text/plain": [
       "<Figure size 432x288 with 2 Axes>"
      ]
     },
     "metadata": {
      "needs_background": "light"
     },
     "output_type": "display_data"
    }
   ],
   "source": [
    "sns.heatmap(df2[[\"Profit\", \"budget\", \"revenue\", \"vote_count\", \"weighted_rating\"]].corr(), \n",
    "            cmap = 'YlGnBu')"
   ]
  },
  {
   "cell_type": "markdown",
   "metadata": {},
   "source": [
    "#### Converting Profit into a binary variable"
   ]
  },
  {
   "cell_type": "code",
   "execution_count": 65,
   "metadata": {},
   "outputs": [
    {
     "data": {
      "text/html": [
       "<div>\n",
       "<style scoped>\n",
       "    .dataframe tbody tr th:only-of-type {\n",
       "        vertical-align: middle;\n",
       "    }\n",
       "\n",
       "    .dataframe tbody tr th {\n",
       "        vertical-align: top;\n",
       "    }\n",
       "\n",
       "    .dataframe thead th {\n",
       "        text-align: right;\n",
       "    }\n",
       "</style>\n",
       "<table border=\"1\" class=\"dataframe\">\n",
       "  <thead>\n",
       "    <tr style=\"text-align: right;\">\n",
       "      <th></th>\n",
       "      <th>adult</th>\n",
       "      <th>budget</th>\n",
       "      <th>original_language</th>\n",
       "      <th>original_title</th>\n",
       "      <th>popularity</th>\n",
       "      <th>release_date</th>\n",
       "      <th>revenue</th>\n",
       "      <th>runtime</th>\n",
       "      <th>status</th>\n",
       "      <th>title</th>\n",
       "      <th>vote_average</th>\n",
       "      <th>vote_count</th>\n",
       "      <th>production_country</th>\n",
       "      <th>production_company</th>\n",
       "      <th>genres</th>\n",
       "      <th>Profit</th>\n",
       "      <th>weighted_rating</th>\n",
       "    </tr>\n",
       "  </thead>\n",
       "  <tbody>\n",
       "    <tr>\n",
       "      <th>0</th>\n",
       "      <td>False</td>\n",
       "      <td>0.078947</td>\n",
       "      <td>en</td>\n",
       "      <td>Toy Story</td>\n",
       "      <td>21.946943</td>\n",
       "      <td>10/30/1995</td>\n",
       "      <td>0.983037</td>\n",
       "      <td>81.0</td>\n",
       "      <td>Released</td>\n",
       "      <td>Toy Story</td>\n",
       "      <td>7.7</td>\n",
       "      <td>5415.0</td>\n",
       "      <td>USA</td>\n",
       "      <td>Pixar Animation Studios</td>\n",
       "      <td>Animation</td>\n",
       "      <td>0.904090</td>\n",
       "      <td>7.545556</td>\n",
       "    </tr>\n",
       "    <tr>\n",
       "      <th>1</th>\n",
       "      <td>False</td>\n",
       "      <td>0.171053</td>\n",
       "      <td>en</td>\n",
       "      <td>Jumanji</td>\n",
       "      <td>17.015539</td>\n",
       "      <td>12/15/1995</td>\n",
       "      <td>0.691572</td>\n",
       "      <td>104.0</td>\n",
       "      <td>Released</td>\n",
       "      <td>Jumanji</td>\n",
       "      <td>6.9</td>\n",
       "      <td>2413.0</td>\n",
       "      <td>USA</td>\n",
       "      <td>Tri Star Pictures</td>\n",
       "      <td>Adventure</td>\n",
       "      <td>0.520519</td>\n",
       "      <td>6.704671</td>\n",
       "    </tr>\n",
       "    <tr>\n",
       "      <th>3</th>\n",
       "      <td>False</td>\n",
       "      <td>0.042105</td>\n",
       "      <td>en</td>\n",
       "      <td>Waiting to Exhale</td>\n",
       "      <td>3.859495</td>\n",
       "      <td>12/22/1995</td>\n",
       "      <td>0.214348</td>\n",
       "      <td>127.0</td>\n",
       "      <td>Released</td>\n",
       "      <td>Waiting to Exhale</td>\n",
       "      <td>6.1</td>\n",
       "      <td>34.0</td>\n",
       "      <td>USA</td>\n",
       "      <td>Twentieth Century Fox Film Corporation</td>\n",
       "      <td>Comedy</td>\n",
       "      <td>0.172243</td>\n",
       "      <td>5.654162</td>\n",
       "    </tr>\n",
       "    <tr>\n",
       "      <th>4</th>\n",
       "      <td>False</td>\n",
       "      <td>0.000000</td>\n",
       "      <td>en</td>\n",
       "      <td>Father of the Bride Part II</td>\n",
       "      <td>8.387519</td>\n",
       "      <td>2/10/1995</td>\n",
       "      <td>0.201523</td>\n",
       "      <td>106.0</td>\n",
       "      <td>Released</td>\n",
       "      <td>Father of the Bride Part II</td>\n",
       "      <td>5.7</td>\n",
       "      <td>173.0</td>\n",
       "      <td>USA</td>\n",
       "      <td>Sandollar Productions</td>\n",
       "      <td>Comedy</td>\n",
       "      <td>0.201523</td>\n",
       "      <td>5.641615</td>\n",
       "    </tr>\n",
       "    <tr>\n",
       "      <th>5</th>\n",
       "      <td>False</td>\n",
       "      <td>0.157895</td>\n",
       "      <td>en</td>\n",
       "      <td>Heat</td>\n",
       "      <td>17.924927</td>\n",
       "      <td>12/15/1995</td>\n",
       "      <td>0.493255</td>\n",
       "      <td>170.0</td>\n",
       "      <td>Released</td>\n",
       "      <td>Heat</td>\n",
       "      <td>7.7</td>\n",
       "      <td>1886.0</td>\n",
       "      <td>USA</td>\n",
       "      <td>Regency Enterprises</td>\n",
       "      <td>Action</td>\n",
       "      <td>0.335360</td>\n",
       "      <td>7.310729</td>\n",
       "    </tr>\n",
       "    <tr>\n",
       "      <th>...</th>\n",
       "      <td>...</td>\n",
       "      <td>...</td>\n",
       "      <td>...</td>\n",
       "      <td>...</td>\n",
       "      <td>...</td>\n",
       "      <td>...</td>\n",
       "      <td>...</td>\n",
       "      <td>...</td>\n",
       "      <td>...</td>\n",
       "      <td>...</td>\n",
       "      <td>...</td>\n",
       "      <td>...</td>\n",
       "      <td>...</td>\n",
       "      <td>...</td>\n",
       "      <td>...</td>\n",
       "      <td>...</td>\n",
       "      <td>...</td>\n",
       "    </tr>\n",
       "    <tr>\n",
       "      <th>45244</th>\n",
       "      <td>False</td>\n",
       "      <td>0.031579</td>\n",
       "      <td>ta</td>\n",
       "      <td>சிவாஜி</td>\n",
       "      <td>1.323587</td>\n",
       "      <td>6/14/2007</td>\n",
       "      <td>0.050000</td>\n",
       "      <td>185.0</td>\n",
       "      <td>Released</td>\n",
       "      <td>Sivaji: The Boss</td>\n",
       "      <td>6.9</td>\n",
       "      <td>25.0</td>\n",
       "      <td>India</td>\n",
       "      <td>A V M Productions</td>\n",
       "      <td>Action</td>\n",
       "      <td>0.018421</td>\n",
       "      <td>5.690656</td>\n",
       "    </tr>\n",
       "    <tr>\n",
       "      <th>45259</th>\n",
       "      <td>False</td>\n",
       "      <td>0.000000</td>\n",
       "      <td>sv</td>\n",
       "      <td>Turist</td>\n",
       "      <td>12.165685</td>\n",
       "      <td>8/15/2014</td>\n",
       "      <td>0.003578</td>\n",
       "      <td>118.0</td>\n",
       "      <td>Released</td>\n",
       "      <td>Force Majeure</td>\n",
       "      <td>6.8</td>\n",
       "      <td>255.0</td>\n",
       "      <td>France</td>\n",
       "      <td>Motlys</td>\n",
       "      <td>Comedy</td>\n",
       "      <td>0.003578</td>\n",
       "      <td>6.056669</td>\n",
       "    </tr>\n",
       "    <tr>\n",
       "      <th>45375</th>\n",
       "      <td>False</td>\n",
       "      <td>0.000000</td>\n",
       "      <td>ru</td>\n",
       "      <td>Vladeniye 18</td>\n",
       "      <td>0.217441</td>\n",
       "      <td>3/13/2014</td>\n",
       "      <td>0.000843</td>\n",
       "      <td>90.0</td>\n",
       "      <td>Released</td>\n",
       "      <td>Apartment 18</td>\n",
       "      <td>4.4</td>\n",
       "      <td>4.0</td>\n",
       "      <td>Russia</td>\n",
       "      <td>Lyuksor</td>\n",
       "      <td>Horror</td>\n",
       "      <td>0.000843</td>\n",
       "      <td>5.604332</td>\n",
       "    </tr>\n",
       "    <tr>\n",
       "      <th>45395</th>\n",
       "      <td>False</td>\n",
       "      <td>0.000000</td>\n",
       "      <td>ru</td>\n",
       "      <td>Чудо</td>\n",
       "      <td>0.436028</td>\n",
       "      <td>10/9/2009</td>\n",
       "      <td>0.000133</td>\n",
       "      <td>110.0</td>\n",
       "      <td>Released</td>\n",
       "      <td>The Miracle</td>\n",
       "      <td>6.3</td>\n",
       "      <td>3.0</td>\n",
       "      <td>Russia</td>\n",
       "      <td>Central Partnership</td>\n",
       "      <td>Drama</td>\n",
       "      <td>0.000133</td>\n",
       "      <td>5.624434</td>\n",
       "    </tr>\n",
       "    <tr>\n",
       "      <th>45403</th>\n",
       "      <td>False</td>\n",
       "      <td>0.002105</td>\n",
       "      <td>en</td>\n",
       "      <td>Dikari</td>\n",
       "      <td>0.903061</td>\n",
       "      <td>11/23/2006</td>\n",
       "      <td>0.003496</td>\n",
       "      <td>100.0</td>\n",
       "      <td>Released</td>\n",
       "      <td>Savages</td>\n",
       "      <td>5.8</td>\n",
       "      <td>6.0</td>\n",
       "      <td>NaN</td>\n",
       "      <td>NaN</td>\n",
       "      <td>Comedy</td>\n",
       "      <td>0.001391</td>\n",
       "      <td>5.621093</td>\n",
       "    </tr>\n",
       "  </tbody>\n",
       "</table>\n",
       "<p>5783 rows × 17 columns</p>\n",
       "</div>"
      ],
      "text/plain": [
       "       adult    budget original_language               original_title  \\\n",
       "0      False  0.078947                en                    Toy Story   \n",
       "1      False  0.171053                en                      Jumanji   \n",
       "3      False  0.042105                en            Waiting to Exhale   \n",
       "4      False  0.000000                en  Father of the Bride Part II   \n",
       "5      False  0.157895                en                         Heat   \n",
       "...      ...       ...               ...                          ...   \n",
       "45244  False  0.031579                ta                       சிவாஜி   \n",
       "45259  False  0.000000                sv                       Turist   \n",
       "45375  False  0.000000                ru                 Vladeniye 18   \n",
       "45395  False  0.000000                ru                         Чудо   \n",
       "45403  False  0.002105                en                       Dikari   \n",
       "\n",
       "       popularity release_date   revenue  runtime    status  \\\n",
       "0       21.946943   10/30/1995  0.983037     81.0  Released   \n",
       "1       17.015539   12/15/1995  0.691572    104.0  Released   \n",
       "3        3.859495   12/22/1995  0.214348    127.0  Released   \n",
       "4        8.387519    2/10/1995  0.201523    106.0  Released   \n",
       "5       17.924927   12/15/1995  0.493255    170.0  Released   \n",
       "...           ...          ...       ...      ...       ...   \n",
       "45244    1.323587    6/14/2007  0.050000    185.0  Released   \n",
       "45259   12.165685    8/15/2014  0.003578    118.0  Released   \n",
       "45375    0.217441    3/13/2014  0.000843     90.0  Released   \n",
       "45395    0.436028    10/9/2009  0.000133    110.0  Released   \n",
       "45403    0.903061   11/23/2006  0.003496    100.0  Released   \n",
       "\n",
       "                             title  vote_average  vote_count  \\\n",
       "0                        Toy Story           7.7      5415.0   \n",
       "1                          Jumanji           6.9      2413.0   \n",
       "3                Waiting to Exhale           6.1        34.0   \n",
       "4      Father of the Bride Part II           5.7       173.0   \n",
       "5                             Heat           7.7      1886.0   \n",
       "...                            ...           ...         ...   \n",
       "45244             Sivaji: The Boss           6.9        25.0   \n",
       "45259                Force Majeure           6.8       255.0   \n",
       "45375                 Apartment 18           4.4         4.0   \n",
       "45395                  The Miracle           6.3         3.0   \n",
       "45403                      Savages           5.8         6.0   \n",
       "\n",
       "      production_country                      production_company     genres  \\\n",
       "0                    USA                 Pixar Animation Studios  Animation   \n",
       "1                    USA                       Tri Star Pictures  Adventure   \n",
       "3                    USA  Twentieth Century Fox Film Corporation     Comedy   \n",
       "4                    USA                   Sandollar Productions     Comedy   \n",
       "5                    USA                     Regency Enterprises     Action   \n",
       "...                  ...                                     ...        ...   \n",
       "45244              India                       A V M Productions     Action   \n",
       "45259             France                                  Motlys     Comedy   \n",
       "45375             Russia                                 Lyuksor     Horror   \n",
       "45395             Russia                     Central Partnership      Drama   \n",
       "45403                NaN                                     NaN     Comedy   \n",
       "\n",
       "         Profit  weighted_rating  \n",
       "0      0.904090         7.545556  \n",
       "1      0.520519         6.704671  \n",
       "3      0.172243         5.654162  \n",
       "4      0.201523         5.641615  \n",
       "5      0.335360         7.310729  \n",
       "...         ...              ...  \n",
       "45244  0.018421         5.690656  \n",
       "45259  0.003578         6.056669  \n",
       "45375  0.000843         5.604332  \n",
       "45395  0.000133         5.624434  \n",
       "45403  0.001391         5.621093  \n",
       "\n",
       "[5783 rows x 17 columns]"
      ]
     },
     "execution_count": 65,
     "metadata": {},
     "output_type": "execute_result"
    }
   ],
   "source": [
    "df2[df2['Profit'] > 0 ]"
   ]
  },
  {
   "cell_type": "code",
   "execution_count": 66,
   "metadata": {},
   "outputs": [
    {
     "data": {
      "text/html": [
       "<div>\n",
       "<style scoped>\n",
       "    .dataframe tbody tr th:only-of-type {\n",
       "        vertical-align: middle;\n",
       "    }\n",
       "\n",
       "    .dataframe tbody tr th {\n",
       "        vertical-align: top;\n",
       "    }\n",
       "\n",
       "    .dataframe thead th {\n",
       "        text-align: right;\n",
       "    }\n",
       "</style>\n",
       "<table border=\"1\" class=\"dataframe\">\n",
       "  <thead>\n",
       "    <tr style=\"text-align: right;\">\n",
       "      <th></th>\n",
       "      <th>adult</th>\n",
       "      <th>budget</th>\n",
       "      <th>original_language</th>\n",
       "      <th>original_title</th>\n",
       "      <th>popularity</th>\n",
       "      <th>release_date</th>\n",
       "      <th>revenue</th>\n",
       "      <th>runtime</th>\n",
       "      <th>status</th>\n",
       "      <th>title</th>\n",
       "      <th>vote_average</th>\n",
       "      <th>vote_count</th>\n",
       "      <th>production_country</th>\n",
       "      <th>production_company</th>\n",
       "      <th>genres</th>\n",
       "      <th>Profit</th>\n",
       "      <th>weighted_rating</th>\n",
       "    </tr>\n",
       "  </thead>\n",
       "  <tbody>\n",
       "    <tr>\n",
       "      <th>2</th>\n",
       "      <td>False</td>\n",
       "      <td>0.000000</td>\n",
       "      <td>en</td>\n",
       "      <td>Grumpier Old Men</td>\n",
       "      <td>11.712900</td>\n",
       "      <td>12/22/1995</td>\n",
       "      <td>0.000000</td>\n",
       "      <td>101.0</td>\n",
       "      <td>Released</td>\n",
       "      <td>Grumpier Old Men</td>\n",
       "      <td>6.5</td>\n",
       "      <td>92.0</td>\n",
       "      <td>USA</td>\n",
       "      <td>Warner Bros</td>\n",
       "      <td>Romance</td>\n",
       "      <td>0.000000</td>\n",
       "      <td>5.773818</td>\n",
       "    </tr>\n",
       "    <tr>\n",
       "      <th>6</th>\n",
       "      <td>False</td>\n",
       "      <td>0.152632</td>\n",
       "      <td>en</td>\n",
       "      <td>Sabrina</td>\n",
       "      <td>6.677277</td>\n",
       "      <td>12/15/1995</td>\n",
       "      <td>0.000000</td>\n",
       "      <td>127.0</td>\n",
       "      <td>Released</td>\n",
       "      <td>Sabrina</td>\n",
       "      <td>6.2</td>\n",
       "      <td>141.0</td>\n",
       "      <td>USA</td>\n",
       "      <td>Paramount Pictures</td>\n",
       "      <td>Comedy</td>\n",
       "      <td>-0.152632</td>\n",
       "      <td>5.761635</td>\n",
       "    </tr>\n",
       "    <tr>\n",
       "      <th>7</th>\n",
       "      <td>False</td>\n",
       "      <td>0.000000</td>\n",
       "      <td>en</td>\n",
       "      <td>Tom and Huck</td>\n",
       "      <td>2.561161</td>\n",
       "      <td>12/22/1995</td>\n",
       "      <td>0.000000</td>\n",
       "      <td>97.0</td>\n",
       "      <td>Released</td>\n",
       "      <td>Tom and Huck</td>\n",
       "      <td>5.4</td>\n",
       "      <td>45.0</td>\n",
       "      <td>USA</td>\n",
       "      <td>Walt Disney Pictures</td>\n",
       "      <td>Action</td>\n",
       "      <td>0.000000</td>\n",
       "      <td>5.597296</td>\n",
       "    </tr>\n",
       "    <tr>\n",
       "      <th>11</th>\n",
       "      <td>False</td>\n",
       "      <td>0.000000</td>\n",
       "      <td>en</td>\n",
       "      <td>Dracula: Dead and Loving It</td>\n",
       "      <td>5.430331</td>\n",
       "      <td>12/22/1995</td>\n",
       "      <td>0.000000</td>\n",
       "      <td>88.0</td>\n",
       "      <td>Released</td>\n",
       "      <td>Dracula: Dead and Loving It</td>\n",
       "      <td>5.7</td>\n",
       "      <td>210.0</td>\n",
       "      <td>USA</td>\n",
       "      <td>Columbia Pictures</td>\n",
       "      <td>Comedy</td>\n",
       "      <td>0.000000</td>\n",
       "      <td>5.644964</td>\n",
       "    </tr>\n",
       "    <tr>\n",
       "      <th>13</th>\n",
       "      <td>False</td>\n",
       "      <td>0.115789</td>\n",
       "      <td>en</td>\n",
       "      <td>Nixon</td>\n",
       "      <td>5.092000</td>\n",
       "      <td>12/22/1995</td>\n",
       "      <td>0.036005</td>\n",
       "      <td>192.0</td>\n",
       "      <td>Released</td>\n",
       "      <td>Nixon</td>\n",
       "      <td>7.1</td>\n",
       "      <td>72.0</td>\n",
       "      <td>USA</td>\n",
       "      <td>Hollywood Pictures</td>\n",
       "      <td>History</td>\n",
       "      <td>-0.079785</td>\n",
       "      <td>5.831562</td>\n",
       "    </tr>\n",
       "    <tr>\n",
       "      <th>...</th>\n",
       "      <td>...</td>\n",
       "      <td>...</td>\n",
       "      <td>...</td>\n",
       "      <td>...</td>\n",
       "      <td>...</td>\n",
       "      <td>...</td>\n",
       "      <td>...</td>\n",
       "      <td>...</td>\n",
       "      <td>...</td>\n",
       "      <td>...</td>\n",
       "      <td>...</td>\n",
       "      <td>...</td>\n",
       "      <td>...</td>\n",
       "      <td>...</td>\n",
       "      <td>...</td>\n",
       "      <td>...</td>\n",
       "      <td>...</td>\n",
       "    </tr>\n",
       "    <tr>\n",
       "      <th>45455</th>\n",
       "      <td>False</td>\n",
       "      <td>0.000000</td>\n",
       "      <td>fa</td>\n",
       "      <td>رگ خواب</td>\n",
       "      <td>0.072051</td>\n",
       "      <td>NaN</td>\n",
       "      <td>0.000000</td>\n",
       "      <td>90.0</td>\n",
       "      <td>Released</td>\n",
       "      <td>Subdue</td>\n",
       "      <td>4.0</td>\n",
       "      <td>1.0</td>\n",
       "      <td>Iran</td>\n",
       "      <td>NaN</td>\n",
       "      <td>Drama</td>\n",
       "      <td>0.000000</td>\n",
       "      <td>5.610784</td>\n",
       "    </tr>\n",
       "    <tr>\n",
       "      <th>45456</th>\n",
       "      <td>False</td>\n",
       "      <td>0.000000</td>\n",
       "      <td>tl</td>\n",
       "      <td>Siglo ng Pagluluwal</td>\n",
       "      <td>0.178241</td>\n",
       "      <td>11/17/2011</td>\n",
       "      <td>0.000000</td>\n",
       "      <td>360.0</td>\n",
       "      <td>Released</td>\n",
       "      <td>Century of Birthing</td>\n",
       "      <td>9.0</td>\n",
       "      <td>3.0</td>\n",
       "      <td>Philippines</td>\n",
       "      <td>Sine Olivia</td>\n",
       "      <td>Drama</td>\n",
       "      <td>0.000000</td>\n",
       "      <td>5.649091</td>\n",
       "    </tr>\n",
       "    <tr>\n",
       "      <th>45457</th>\n",
       "      <td>False</td>\n",
       "      <td>0.000000</td>\n",
       "      <td>en</td>\n",
       "      <td>Betrayal</td>\n",
       "      <td>0.903007</td>\n",
       "      <td>8/1/2003</td>\n",
       "      <td>0.000000</td>\n",
       "      <td>90.0</td>\n",
       "      <td>Released</td>\n",
       "      <td>Betrayal</td>\n",
       "      <td>3.8</td>\n",
       "      <td>6.0</td>\n",
       "      <td>USA</td>\n",
       "      <td>American World Pictures</td>\n",
       "      <td>Action</td>\n",
       "      <td>0.000000</td>\n",
       "      <td>5.589347</td>\n",
       "    </tr>\n",
       "    <tr>\n",
       "      <th>45458</th>\n",
       "      <td>False</td>\n",
       "      <td>0.000000</td>\n",
       "      <td>en</td>\n",
       "      <td>Satana likuyushchiy</td>\n",
       "      <td>0.003503</td>\n",
       "      <td>10/21/1917</td>\n",
       "      <td>0.000000</td>\n",
       "      <td>87.0</td>\n",
       "      <td>Released</td>\n",
       "      <td>Satan Triumphant</td>\n",
       "      <td>0.0</td>\n",
       "      <td>0.0</td>\n",
       "      <td>Russia</td>\n",
       "      <td>Yermoliev</td>\n",
       "      <td></td>\n",
       "      <td>0.000000</td>\n",
       "      <td>5.605292</td>\n",
       "    </tr>\n",
       "    <tr>\n",
       "      <th>45459</th>\n",
       "      <td>False</td>\n",
       "      <td>0.000000</td>\n",
       "      <td>en</td>\n",
       "      <td>Queerama</td>\n",
       "      <td>0.163015</td>\n",
       "      <td>6/9/2017</td>\n",
       "      <td>0.000000</td>\n",
       "      <td>75.0</td>\n",
       "      <td>Released</td>\n",
       "      <td>Queerama</td>\n",
       "      <td>0.0</td>\n",
       "      <td>0.0</td>\n",
       "      <td>United Kingdom</td>\n",
       "      <td>NaN</td>\n",
       "      <td></td>\n",
       "      <td>0.000000</td>\n",
       "      <td>5.605292</td>\n",
       "    </tr>\n",
       "  </tbody>\n",
       "</table>\n",
       "<p>39677 rows × 17 columns</p>\n",
       "</div>"
      ],
      "text/plain": [
       "       adult    budget original_language               original_title  \\\n",
       "2      False  0.000000                en             Grumpier Old Men   \n",
       "6      False  0.152632                en                      Sabrina   \n",
       "7      False  0.000000                en                 Tom and Huck   \n",
       "11     False  0.000000                en  Dracula: Dead and Loving It   \n",
       "13     False  0.115789                en                        Nixon   \n",
       "...      ...       ...               ...                          ...   \n",
       "45455  False  0.000000                fa                      رگ خواب   \n",
       "45456  False  0.000000                tl          Siglo ng Pagluluwal   \n",
       "45457  False  0.000000                en                     Betrayal   \n",
       "45458  False  0.000000                en          Satana likuyushchiy   \n",
       "45459  False  0.000000                en                     Queerama   \n",
       "\n",
       "       popularity release_date   revenue  runtime    status  \\\n",
       "2       11.712900   12/22/1995  0.000000    101.0  Released   \n",
       "6        6.677277   12/15/1995  0.000000    127.0  Released   \n",
       "7        2.561161   12/22/1995  0.000000     97.0  Released   \n",
       "11       5.430331   12/22/1995  0.000000     88.0  Released   \n",
       "13       5.092000   12/22/1995  0.036005    192.0  Released   \n",
       "...           ...          ...       ...      ...       ...   \n",
       "45455    0.072051          NaN  0.000000     90.0  Released   \n",
       "45456    0.178241   11/17/2011  0.000000    360.0  Released   \n",
       "45457    0.903007     8/1/2003  0.000000     90.0  Released   \n",
       "45458    0.003503   10/21/1917  0.000000     87.0  Released   \n",
       "45459    0.163015     6/9/2017  0.000000     75.0  Released   \n",
       "\n",
       "                             title  vote_average  vote_count  \\\n",
       "2                 Grumpier Old Men           6.5        92.0   \n",
       "6                          Sabrina           6.2       141.0   \n",
       "7                     Tom and Huck           5.4        45.0   \n",
       "11     Dracula: Dead and Loving It           5.7       210.0   \n",
       "13                           Nixon           7.1        72.0   \n",
       "...                            ...           ...         ...   \n",
       "45455                       Subdue           4.0         1.0   \n",
       "45456          Century of Birthing           9.0         3.0   \n",
       "45457                     Betrayal           3.8         6.0   \n",
       "45458             Satan Triumphant           0.0         0.0   \n",
       "45459                     Queerama           0.0         0.0   \n",
       "\n",
       "      production_country       production_company   genres    Profit  \\\n",
       "2                    USA              Warner Bros  Romance  0.000000   \n",
       "6                    USA       Paramount Pictures   Comedy -0.152632   \n",
       "7                    USA     Walt Disney Pictures   Action  0.000000   \n",
       "11                   USA        Columbia Pictures   Comedy  0.000000   \n",
       "13                   USA       Hollywood Pictures  History -0.079785   \n",
       "...                  ...                      ...      ...       ...   \n",
       "45455               Iran                      NaN    Drama  0.000000   \n",
       "45456        Philippines              Sine Olivia    Drama  0.000000   \n",
       "45457                USA  American World Pictures   Action  0.000000   \n",
       "45458             Russia                Yermoliev           0.000000   \n",
       "45459     United Kingdom                      NaN           0.000000   \n",
       "\n",
       "       weighted_rating  \n",
       "2             5.773818  \n",
       "6             5.761635  \n",
       "7             5.597296  \n",
       "11            5.644964  \n",
       "13            5.831562  \n",
       "...                ...  \n",
       "45455         5.610784  \n",
       "45456         5.649091  \n",
       "45457         5.589347  \n",
       "45458         5.605292  \n",
       "45459         5.605292  \n",
       "\n",
       "[39677 rows x 17 columns]"
      ]
     },
     "execution_count": 66,
     "metadata": {},
     "output_type": "execute_result"
    }
   ],
   "source": [
    "df2[df2['Profit'] <= 0 ]"
   ]
  },
  {
   "cell_type": "code",
   "execution_count": 67,
   "metadata": {},
   "outputs": [],
   "source": [
    "df2['Profit1'] = df2.Profit.apply(lambda x: 1.0 if x > 0 else 0.0 )"
   ]
  },
  {
   "cell_type": "code",
   "execution_count": 68,
   "metadata": {},
   "outputs": [
    {
     "data": {
      "text/html": [
       "<div>\n",
       "<style scoped>\n",
       "    .dataframe tbody tr th:only-of-type {\n",
       "        vertical-align: middle;\n",
       "    }\n",
       "\n",
       "    .dataframe tbody tr th {\n",
       "        vertical-align: top;\n",
       "    }\n",
       "\n",
       "    .dataframe thead th {\n",
       "        text-align: right;\n",
       "    }\n",
       "</style>\n",
       "<table border=\"1\" class=\"dataframe\">\n",
       "  <thead>\n",
       "    <tr style=\"text-align: right;\">\n",
       "      <th></th>\n",
       "      <th>adult</th>\n",
       "      <th>budget</th>\n",
       "      <th>original_language</th>\n",
       "      <th>original_title</th>\n",
       "      <th>popularity</th>\n",
       "      <th>release_date</th>\n",
       "      <th>revenue</th>\n",
       "      <th>runtime</th>\n",
       "      <th>status</th>\n",
       "      <th>title</th>\n",
       "      <th>vote_average</th>\n",
       "      <th>vote_count</th>\n",
       "      <th>production_country</th>\n",
       "      <th>production_company</th>\n",
       "      <th>genres</th>\n",
       "      <th>Profit</th>\n",
       "      <th>weighted_rating</th>\n",
       "      <th>Profit1</th>\n",
       "    </tr>\n",
       "  </thead>\n",
       "  <tbody>\n",
       "    <tr>\n",
       "      <th>0</th>\n",
       "      <td>False</td>\n",
       "      <td>0.078947</td>\n",
       "      <td>en</td>\n",
       "      <td>Toy Story</td>\n",
       "      <td>21.946943</td>\n",
       "      <td>10/30/1995</td>\n",
       "      <td>0.983037</td>\n",
       "      <td>81.0</td>\n",
       "      <td>Released</td>\n",
       "      <td>Toy Story</td>\n",
       "      <td>7.7</td>\n",
       "      <td>5415.0</td>\n",
       "      <td>USA</td>\n",
       "      <td>Pixar Animation Studios</td>\n",
       "      <td>Animation</td>\n",
       "      <td>0.904090</td>\n",
       "      <td>7.545556</td>\n",
       "      <td>1.0</td>\n",
       "    </tr>\n",
       "    <tr>\n",
       "      <th>1</th>\n",
       "      <td>False</td>\n",
       "      <td>0.171053</td>\n",
       "      <td>en</td>\n",
       "      <td>Jumanji</td>\n",
       "      <td>17.015539</td>\n",
       "      <td>12/15/1995</td>\n",
       "      <td>0.691572</td>\n",
       "      <td>104.0</td>\n",
       "      <td>Released</td>\n",
       "      <td>Jumanji</td>\n",
       "      <td>6.9</td>\n",
       "      <td>2413.0</td>\n",
       "      <td>USA</td>\n",
       "      <td>Tri Star Pictures</td>\n",
       "      <td>Adventure</td>\n",
       "      <td>0.520519</td>\n",
       "      <td>6.704671</td>\n",
       "      <td>1.0</td>\n",
       "    </tr>\n",
       "    <tr>\n",
       "      <th>2</th>\n",
       "      <td>False</td>\n",
       "      <td>0.000000</td>\n",
       "      <td>en</td>\n",
       "      <td>Grumpier Old Men</td>\n",
       "      <td>11.712900</td>\n",
       "      <td>12/22/1995</td>\n",
       "      <td>0.000000</td>\n",
       "      <td>101.0</td>\n",
       "      <td>Released</td>\n",
       "      <td>Grumpier Old Men</td>\n",
       "      <td>6.5</td>\n",
       "      <td>92.0</td>\n",
       "      <td>USA</td>\n",
       "      <td>Warner Bros</td>\n",
       "      <td>Romance</td>\n",
       "      <td>0.000000</td>\n",
       "      <td>5.773818</td>\n",
       "      <td>0.0</td>\n",
       "    </tr>\n",
       "    <tr>\n",
       "      <th>3</th>\n",
       "      <td>False</td>\n",
       "      <td>0.042105</td>\n",
       "      <td>en</td>\n",
       "      <td>Waiting to Exhale</td>\n",
       "      <td>3.859495</td>\n",
       "      <td>12/22/1995</td>\n",
       "      <td>0.214348</td>\n",
       "      <td>127.0</td>\n",
       "      <td>Released</td>\n",
       "      <td>Waiting to Exhale</td>\n",
       "      <td>6.1</td>\n",
       "      <td>34.0</td>\n",
       "      <td>USA</td>\n",
       "      <td>Twentieth Century Fox Film Corporation</td>\n",
       "      <td>Comedy</td>\n",
       "      <td>0.172243</td>\n",
       "      <td>5.654162</td>\n",
       "      <td>1.0</td>\n",
       "    </tr>\n",
       "    <tr>\n",
       "      <th>4</th>\n",
       "      <td>False</td>\n",
       "      <td>0.000000</td>\n",
       "      <td>en</td>\n",
       "      <td>Father of the Bride Part II</td>\n",
       "      <td>8.387519</td>\n",
       "      <td>2/10/1995</td>\n",
       "      <td>0.201523</td>\n",
       "      <td>106.0</td>\n",
       "      <td>Released</td>\n",
       "      <td>Father of the Bride Part II</td>\n",
       "      <td>5.7</td>\n",
       "      <td>173.0</td>\n",
       "      <td>USA</td>\n",
       "      <td>Sandollar Productions</td>\n",
       "      <td>Comedy</td>\n",
       "      <td>0.201523</td>\n",
       "      <td>5.641615</td>\n",
       "      <td>1.0</td>\n",
       "    </tr>\n",
       "  </tbody>\n",
       "</table>\n",
       "</div>"
      ],
      "text/plain": [
       "   adult    budget original_language               original_title  popularity  \\\n",
       "0  False  0.078947                en                    Toy Story   21.946943   \n",
       "1  False  0.171053                en                      Jumanji   17.015539   \n",
       "2  False  0.000000                en             Grumpier Old Men   11.712900   \n",
       "3  False  0.042105                en            Waiting to Exhale    3.859495   \n",
       "4  False  0.000000                en  Father of the Bride Part II    8.387519   \n",
       "\n",
       "  release_date   revenue  runtime    status                        title  \\\n",
       "0   10/30/1995  0.983037     81.0  Released                    Toy Story   \n",
       "1   12/15/1995  0.691572    104.0  Released                      Jumanji   \n",
       "2   12/22/1995  0.000000    101.0  Released             Grumpier Old Men   \n",
       "3   12/22/1995  0.214348    127.0  Released            Waiting to Exhale   \n",
       "4    2/10/1995  0.201523    106.0  Released  Father of the Bride Part II   \n",
       "\n",
       "   vote_average  vote_count production_country  \\\n",
       "0           7.7      5415.0                USA   \n",
       "1           6.9      2413.0                USA   \n",
       "2           6.5        92.0                USA   \n",
       "3           6.1        34.0                USA   \n",
       "4           5.7       173.0                USA   \n",
       "\n",
       "                       production_company     genres    Profit  \\\n",
       "0                 Pixar Animation Studios  Animation  0.904090   \n",
       "1                       Tri Star Pictures  Adventure  0.520519   \n",
       "2                             Warner Bros    Romance  0.000000   \n",
       "3  Twentieth Century Fox Film Corporation     Comedy  0.172243   \n",
       "4                   Sandollar Productions     Comedy  0.201523   \n",
       "\n",
       "   weighted_rating  Profit1  \n",
       "0         7.545556      1.0  \n",
       "1         6.704671      1.0  \n",
       "2         5.773818      0.0  \n",
       "3         5.654162      1.0  \n",
       "4         5.641615      1.0  "
      ]
     },
     "execution_count": 68,
     "metadata": {},
     "output_type": "execute_result"
    }
   ],
   "source": [
    "df2.head()"
   ]
  },
  {
   "cell_type": "markdown",
   "metadata": {},
   "source": [
    "#### Dropping unnecessary columns to avoid confusing our decision tree"
   ]
  },
  {
   "cell_type": "code",
   "execution_count": 69,
   "metadata": {},
   "outputs": [],
   "source": [
    "df2.drop(columns=['genres', 'production_country', 'production_company', 'original_title', 'title', 'release_date'], inplace=True)"
   ]
  },
  {
   "cell_type": "markdown",
   "metadata": {},
   "source": [
    "#### Removing NaN rows from the dataset to avoid errors"
   ]
  },
  {
   "cell_type": "code",
   "execution_count": 70,
   "metadata": {},
   "outputs": [],
   "source": [
    "df2.dropna(how='any',subset=['status', 'original_language', 'adult', 'budget',\\\n",
    "                            'original_language', 'popularity', 'revenue', 'runtime',\\\n",
    "                           'vote_average','vote_count'],inplace=True)"
   ]
  },
  {
   "cell_type": "code",
   "execution_count": 71,
   "metadata": {},
   "outputs": [
    {
     "data": {
      "text/plain": [
       "adult                False\n",
       "budget               False\n",
       "original_language    False\n",
       "popularity           False\n",
       "revenue              False\n",
       "runtime              False\n",
       "status               False\n",
       "vote_average         False\n",
       "vote_count           False\n",
       "Profit               False\n",
       "weighted_rating      False\n",
       "Profit1              False\n",
       "dtype: bool"
      ]
     },
     "execution_count": 71,
     "metadata": {},
     "output_type": "execute_result"
    }
   ],
   "source": [
    "df2.isna().any()"
   ]
  },
  {
   "cell_type": "code",
   "execution_count": 72,
   "metadata": {
    "scrolled": true
   },
   "outputs": [
    {
     "data": {
      "text/html": [
       "<div>\n",
       "<style scoped>\n",
       "    .dataframe tbody tr th:only-of-type {\n",
       "        vertical-align: middle;\n",
       "    }\n",
       "\n",
       "    .dataframe tbody tr th {\n",
       "        vertical-align: top;\n",
       "    }\n",
       "\n",
       "    .dataframe thead th {\n",
       "        text-align: right;\n",
       "    }\n",
       "</style>\n",
       "<table border=\"1\" class=\"dataframe\">\n",
       "  <thead>\n",
       "    <tr style=\"text-align: right;\">\n",
       "      <th></th>\n",
       "      <th>adult</th>\n",
       "      <th>budget</th>\n",
       "      <th>original_language</th>\n",
       "      <th>popularity</th>\n",
       "      <th>revenue</th>\n",
       "      <th>runtime</th>\n",
       "      <th>status</th>\n",
       "      <th>vote_average</th>\n",
       "      <th>vote_count</th>\n",
       "      <th>Profit</th>\n",
       "      <th>weighted_rating</th>\n",
       "      <th>Profit1</th>\n",
       "    </tr>\n",
       "  </thead>\n",
       "  <tbody>\n",
       "    <tr>\n",
       "      <th>0</th>\n",
       "      <td>False</td>\n",
       "      <td>0.078947</td>\n",
       "      <td>en</td>\n",
       "      <td>21.946943</td>\n",
       "      <td>0.983037</td>\n",
       "      <td>81.0</td>\n",
       "      <td>Released</td>\n",
       "      <td>7.7</td>\n",
       "      <td>5415.0</td>\n",
       "      <td>0.904090</td>\n",
       "      <td>7.545556</td>\n",
       "      <td>1.0</td>\n",
       "    </tr>\n",
       "    <tr>\n",
       "      <th>1</th>\n",
       "      <td>False</td>\n",
       "      <td>0.171053</td>\n",
       "      <td>en</td>\n",
       "      <td>17.015539</td>\n",
       "      <td>0.691572</td>\n",
       "      <td>104.0</td>\n",
       "      <td>Released</td>\n",
       "      <td>6.9</td>\n",
       "      <td>2413.0</td>\n",
       "      <td>0.520519</td>\n",
       "      <td>6.704671</td>\n",
       "      <td>1.0</td>\n",
       "    </tr>\n",
       "    <tr>\n",
       "      <th>2</th>\n",
       "      <td>False</td>\n",
       "      <td>0.000000</td>\n",
       "      <td>en</td>\n",
       "      <td>11.712900</td>\n",
       "      <td>0.000000</td>\n",
       "      <td>101.0</td>\n",
       "      <td>Released</td>\n",
       "      <td>6.5</td>\n",
       "      <td>92.0</td>\n",
       "      <td>0.000000</td>\n",
       "      <td>5.773818</td>\n",
       "      <td>0.0</td>\n",
       "    </tr>\n",
       "    <tr>\n",
       "      <th>3</th>\n",
       "      <td>False</td>\n",
       "      <td>0.042105</td>\n",
       "      <td>en</td>\n",
       "      <td>3.859495</td>\n",
       "      <td>0.214348</td>\n",
       "      <td>127.0</td>\n",
       "      <td>Released</td>\n",
       "      <td>6.1</td>\n",
       "      <td>34.0</td>\n",
       "      <td>0.172243</td>\n",
       "      <td>5.654162</td>\n",
       "      <td>1.0</td>\n",
       "    </tr>\n",
       "    <tr>\n",
       "      <th>4</th>\n",
       "      <td>False</td>\n",
       "      <td>0.000000</td>\n",
       "      <td>en</td>\n",
       "      <td>8.387519</td>\n",
       "      <td>0.201523</td>\n",
       "      <td>106.0</td>\n",
       "      <td>Released</td>\n",
       "      <td>5.7</td>\n",
       "      <td>173.0</td>\n",
       "      <td>0.201523</td>\n",
       "      <td>5.641615</td>\n",
       "      <td>1.0</td>\n",
       "    </tr>\n",
       "  </tbody>\n",
       "</table>\n",
       "</div>"
      ],
      "text/plain": [
       "   adult    budget original_language  popularity   revenue  runtime    status  \\\n",
       "0  False  0.078947                en   21.946943  0.983037     81.0  Released   \n",
       "1  False  0.171053                en   17.015539  0.691572    104.0  Released   \n",
       "2  False  0.000000                en   11.712900  0.000000    101.0  Released   \n",
       "3  False  0.042105                en    3.859495  0.214348    127.0  Released   \n",
       "4  False  0.000000                en    8.387519  0.201523    106.0  Released   \n",
       "\n",
       "   vote_average  vote_count    Profit  weighted_rating  Profit1  \n",
       "0           7.7      5415.0  0.904090         7.545556      1.0  \n",
       "1           6.9      2413.0  0.520519         6.704671      1.0  \n",
       "2           6.5        92.0  0.000000         5.773818      0.0  \n",
       "3           6.1        34.0  0.172243         5.654162      1.0  \n",
       "4           5.7       173.0  0.201523         5.641615      1.0  "
      ]
     },
     "execution_count": 72,
     "metadata": {},
     "output_type": "execute_result"
    }
   ],
   "source": [
    "df2.head()"
   ]
  },
  {
   "cell_type": "markdown",
   "metadata": {},
   "source": [
    "#### Making dummy variables for all categorical variables except Profit"
   ]
  },
  {
   "cell_type": "code",
   "execution_count": 73,
   "metadata": {},
   "outputs": [],
   "source": [
    "df2 = pd.get_dummies(df2, columns=['adult', 'original_language','status'], dummy_na=True)"
   ]
  },
  {
   "cell_type": "markdown",
   "metadata": {},
   "source": [
    "#### Train the decision tree"
   ]
  },
  {
   "cell_type": "code",
   "execution_count": 74,
   "metadata": {},
   "outputs": [],
   "source": [
    "X = df2.drop('Profit1',axis=1)"
   ]
  },
  {
   "cell_type": "code",
   "execution_count": 75,
   "metadata": {},
   "outputs": [],
   "source": [
    "Y = df2.Profit1"
   ]
  },
  {
   "cell_type": "code",
   "execution_count": 76,
   "metadata": {},
   "outputs": [],
   "source": [
    "dt = tree.DecisionTreeClassifier(max_depth=2)"
   ]
  },
  {
   "cell_type": "markdown",
   "metadata": {},
   "source": [
    "#### Building our Decision Tree"
   ]
  },
  {
   "cell_type": "code",
   "execution_count": 77,
   "metadata": {},
   "outputs": [
    {
     "data": {
      "text/plain": [
       "DecisionTreeClassifier(max_depth=2)"
      ]
     },
     "execution_count": 77,
     "metadata": {},
     "output_type": "execute_result"
    }
   ],
   "source": [
    "dt.fit(X,Y)"
   ]
  },
  {
   "cell_type": "code",
   "execution_count": 78,
   "metadata": {},
   "outputs": [
    {
     "data": {
      "image/png": "[encoded data removed]",
      "text/plain": [
       "<IPython.core.display.Image object>"
      ]
     },
     "execution_count": 78,
     "metadata": {},
     "output_type": "execute_result"
    }
   ],
   "source": [
    "# This code will visualize a decision tree dt, trained with the attributes in X and the class labels in Y\n",
    "dt_feature_names = list(X.columns)\n",
    "dt_target_names = [str(s) for s in Y.unique()]\n",
    "tree.export_graphviz(dt, out_file='tree.dot', \n",
    "    feature_names=dt_feature_names, class_names=dt_target_names,\n",
    "    filled=True)  \n",
    "graph = pydotplus.graph_from_dot_file('tree.dot')\n",
    "Image(graph.create_png())"
   ]
  },
  {
   "cell_type": "markdown",
   "metadata": {},
   "source": [
    "### Takeaways"
   ]
  },
  {
   "cell_type": "markdown",
   "metadata": {},
   "source": [
    "Looking at the tree, the question 'Profit <= 0' splits the data into two branches based on 0. If the movie was not profitable (i.e., 'Profit <= 0' is True), then the question 'original_language_is <= 0.5' splits the data into two branches based on 0.5. Since original_language is a dummy variable, if this condition is true then the original language is not affecting whether or not the movie is profitable. "
   ]
  },
  {
   "cell_type": "markdown",
   "metadata": {},
   "source": [
    "# Building Machine Learning Models"
   ]
  },
  {
   "cell_type": "code",
   "execution_count": 91,
   "metadata": {},
   "outputs": [
    {
     "data": {
      "text/plain": [
       "((45115, 108), (45115,))"
      ]
     },
     "execution_count": 91,
     "metadata": {},
     "output_type": "execute_result"
    }
   ],
   "source": [
    "from sklearn.model_selection import train_test_split\n",
    "X = df2.drop('Profit1',axis=1)\n",
    "Y = df2['Profit1']\n",
    "X.shape,Y.shape"
   ]
  },
  {
   "cell_type": "markdown",
   "metadata": {},
   "source": [
    "#### Split the data into 70% training and 30% test"
   ]
  },
  {
   "cell_type": "code",
   "execution_count": 95,
   "metadata": {},
   "outputs": [
    {
     "data": {
      "text/plain": [
       "[         budget  popularity   revenue  runtime  vote_average  vote_count  \\\n",
       " 37735  0.000000    0.219358  0.000000     94.0           4.0         2.0   \n",
       " 31     0.077632   12.297305  0.444316    129.0           7.4      2470.0   \n",
       " 36376  0.000000    0.397274  0.000000    100.0           7.0         2.0   \n",
       " 1803   0.126316    7.349812  0.204594    123.0           6.5       338.0   \n",
       " 27594  0.000000    1.028416  0.000000     90.0           1.4         4.0   \n",
       " ...         ...         ...       ...      ...           ...         ...   \n",
       " 30529  0.000000    0.008267  0.000000     90.0           6.2         5.0   \n",
       " 21299  0.000000    4.772990  0.000000    112.0           5.5        15.0   \n",
       " 42896  0.255263   72.884078  0.611527    122.0           5.7      2677.0   \n",
       " 43870  0.000000    0.691680  0.000000     90.0           4.4         5.0   \n",
       " 2741   0.000000   14.950187  0.000000     90.0           7.1       114.0   \n",
       " \n",
       "          Profit  weighted_rating  adult_False  adult_True  ...  \\\n",
       " 37735  0.000000         5.607098            1           0  ...   \n",
       " 31     0.366684         7.133804            1           0  ...   \n",
       " 36376  0.000000         5.627693            1           0  ...   \n",
       " 1803   0.078278         6.004918            1           0  ...   \n",
       " 27594  0.000000         5.570164            1           0  ...   \n",
       " ...         ...              ...          ...         ...  ...   \n",
       " 30529  0.000000         5.626141            1           0  ...   \n",
       " 21299  0.000000         5.614004            1           0  ...   \n",
       " 42896  0.356264         5.688593            1           0  ...   \n",
       " 43870  0.000000         5.601595            1           0  ...   \n",
       " 2741   0.000000         5.928601            1           0  ...   \n",
       " \n",
       "        original_language_zh  original_language_zu  original_language_nan  \\\n",
       " 37735                     0                     0                      0   \n",
       " 31                        0                     0                      0   \n",
       " 36376                     0                     0                      0   \n",
       " 1803                      0                     0                      0   \n",
       " 27594                     0                     0                      0   \n",
       " ...                     ...                   ...                    ...   \n",
       " 30529                     0                     0                      0   \n",
       " 21299                     0                     0                      0   \n",
       " 42896                     0                     0                      0   \n",
       " 43870                     0                     0                      0   \n",
       " 2741                      0                     0                      0   \n",
       " \n",
       "        status_Canceled  status_In Production  status_Planned  \\\n",
       " 37735                0                     0               0   \n",
       " 31                   0                     0               0   \n",
       " 36376                0                     0               0   \n",
       " 1803                 0                     0               0   \n",
       " 27594                0                     0               0   \n",
       " ...                ...                   ...             ...   \n",
       " 30529                0                     0               0   \n",
       " 21299                0                     0               0   \n",
       " 42896                0                     0               0   \n",
       " 43870                0                     0               0   \n",
       " 2741                 0                     0               0   \n",
       " \n",
       "        status_Post Production  status_Released  status_Rumored  status_nan  \n",
       " 37735                       0                1               0           0  \n",
       " 31                          0                1               0           0  \n",
       " 36376                       0                1               0           0  \n",
       " 1803                        0                1               0           0  \n",
       " 27594                       0                1               0           0  \n",
       " ...                       ...              ...             ...         ...  \n",
       " 30529                       0                1               0           0  \n",
       " 21299                       0                1               0           0  \n",
       " 42896                       0                1               0           0  \n",
       " 43870                       0                1               0           0  \n",
       " 2741                        0                1               0           0  \n",
       " \n",
       " [31580 rows x 108 columns],\n",
       "        budget  popularity  revenue  runtime  vote_average  vote_count  Profit  \\\n",
       " 39630  0.0000    0.823333      0.0    103.0           6.1         6.0  0.0000   \n",
       " 20059  0.0000    0.151184      0.0     84.0           4.3         3.0  0.0000   \n",
       " 19034  0.0025    0.510589      0.0     96.0           5.9        13.0 -0.0025   \n",
       " 14939  0.0000    1.849910      0.0     90.0           6.6        12.0  0.0000   \n",
       " 13681  0.0000    1.216183      0.0    101.0           5.9         6.0  0.0000   \n",
       " ...       ...         ...      ...      ...           ...         ...     ...   \n",
       " 20055  0.0000    0.142424      0.0     90.0           7.7         3.0  0.0000   \n",
       " 14087  0.0000    1.206291      0.0     88.0           5.3         9.0  0.0000   \n",
       " 3726   0.0000    0.875307      0.0    101.0           5.2         5.0  0.0000   \n",
       " 30093  0.0000    0.001180      0.0     84.0           0.0         0.0  0.0000   \n",
       " 39417  0.0000    0.564334      0.0     87.0           0.0         0.0  0.0000   \n",
       " \n",
       "        weighted_rating  adult_False  adult_True  ...  original_language_zh  \\\n",
       " 39630         5.625855            1           0  ...                     0   \n",
       " 20059         5.606169            1           0  ...                     0   \n",
       " 19034         5.627013            1           0  ...                     0   \n",
       " 14939         5.646760            1           0  ...                     0   \n",
       " 13681         5.622680            1           0  ...                     0   \n",
       " ...                ...          ...         ...  ...                   ...   \n",
       " 20055         5.637219            1           0  ...                     0   \n",
       " 14087         5.611040            1           0  ...                     0   \n",
       " 3726          5.612504            1           0  ...                     0   \n",
       " 30093         5.605292            1           0  ...                     0   \n",
       " 39417         5.605292            1           0  ...                     0   \n",
       " \n",
       "        original_language_zu  original_language_nan  status_Canceled  \\\n",
       " 39630                     0                      0                0   \n",
       " 20059                     0                      0                0   \n",
       " 19034                     0                      0                0   \n",
       " 14939                     0                      0                0   \n",
       " 13681                     0                      0                0   \n",
       " ...                     ...                    ...              ...   \n",
       " 20055                     0                      0                0   \n",
       " 14087                     0                      0                0   \n",
       " 3726                      0                      0                0   \n",
       " 30093                     0                      0                0   \n",
       " 39417                     0                      0                0   \n",
       " \n",
       "        status_In Production  status_Planned  status_Post Production  \\\n",
       " 39630                     0               0                       0   \n",
       " 20059                     0               0                       0   \n",
       " 19034                     0               0                       0   \n",
       " 14939                     0               0                       0   \n",
       " 13681                     0               0                       0   \n",
       " ...                     ...             ...                     ...   \n",
       " 20055                     0               0                       0   \n",
       " 14087                     0               0                       0   \n",
       " 3726                      0               0                       0   \n",
       " 30093                     0               0                       0   \n",
       " 39417                     0               0                       0   \n",
       " \n",
       "        status_Released  status_Rumored  status_nan  \n",
       " 39630                1               0           0  \n",
       " 20059                1               0           0  \n",
       " 19034                1               0           0  \n",
       " 14939                1               0           0  \n",
       " 13681                1               0           0  \n",
       " ...                ...             ...         ...  \n",
       " 20055                1               0           0  \n",
       " 14087                1               0           0  \n",
       " 3726                 1               0           0  \n",
       " 30093                1               0           0  \n",
       " 39417                1               0           0  \n",
       " \n",
       " [13535 rows x 108 columns],\n",
       " 37735    0.0\n",
       " 31       1.0\n",
       " 36376    0.0\n",
       " 1803     1.0\n",
       " 27594    0.0\n",
       "         ... \n",
       " 30529    0.0\n",
       " 21299    0.0\n",
       " 42896    1.0\n",
       " 43870    0.0\n",
       " 2741     0.0\n",
       " Name: Profit1, Length: 31580, dtype: float64,\n",
       " 39630    0.0\n",
       " 20059    0.0\n",
       " 19034    0.0\n",
       " 14939    0.0\n",
       " 13681    0.0\n",
       "         ... \n",
       " 20055    0.0\n",
       " 14087    0.0\n",
       " 3726     0.0\n",
       " 30093    0.0\n",
       " 39417    0.0\n",
       " Name: Profit1, Length: 13535, dtype: float64]"
      ]
     },
     "execution_count": 95,
     "metadata": {},
     "output_type": "execute_result"
    }
   ],
   "source": [
    "train_test_split(X,Y,test_size=0.3,random_state = 0)"
   ]
  },
  {
   "cell_type": "code",
   "execution_count": 96,
   "metadata": {},
   "outputs": [],
   "source": [
    "X_train, X_test, Y_train, Y_test = \\\n",
    "train_test_split(X,Y,test_size=0.3,random_state = 0)"
   ]
  },
  {
   "cell_type": "code",
   "execution_count": 97,
   "metadata": {},
   "outputs": [
    {
     "data": {
      "text/plain": [
       "0.6999889172115704"
      ]
     },
     "execution_count": 97,
     "metadata": {},
     "output_type": "execute_result"
    }
   ],
   "source": [
    "len(X_train)/len(X)"
   ]
  },
  {
   "cell_type": "code",
   "execution_count": 98,
   "metadata": {},
   "outputs": [
    {
     "data": {
      "text/plain": [
       "0.3000110827884296"
      ]
     },
     "execution_count": 98,
     "metadata": {},
     "output_type": "execute_result"
    }
   ],
   "source": [
    "len(X_test)/len(X)"
   ]
  },
  {
   "cell_type": "markdown",
   "metadata": {},
   "source": [
    "#### This should equal to the length of data frame as we don't want to leave anything out"
   ]
  },
  {
   "cell_type": "code",
   "execution_count": 99,
   "metadata": {},
   "outputs": [
    {
     "data": {
      "text/plain": [
       "True"
      ]
     },
     "execution_count": 99,
     "metadata": {},
     "output_type": "execute_result"
    }
   ],
   "source": [
    "(len(X_train) + len(X_test)) == len(X)"
   ]
  },
  {
   "cell_type": "markdown",
   "metadata": {},
   "source": [
    "### Random forest Classifier"
   ]
  },
  {
   "cell_type": "code",
   "execution_count": 100,
   "metadata": {},
   "outputs": [],
   "source": [
    "from sklearn.ensemble import RandomForestClassifier"
   ]
  },
  {
   "cell_type": "code",
   "execution_count": 101,
   "metadata": {},
   "outputs": [
    {
     "data": {
      "text/plain": [
       "RandomForestClassifier(random_state=0)"
      ]
     },
     "execution_count": 101,
     "metadata": {},
     "output_type": "execute_result"
    }
   ],
   "source": [
    "cl = RandomForestClassifier(random_state = 0)\n",
    "cl.fit(X_train,Y_train)"
   ]
  },
  {
   "cell_type": "code",
   "execution_count": 102,
   "metadata": {},
   "outputs": [
    {
     "data": {
      "text/plain": [
       "31580"
      ]
     },
     "execution_count": 102,
     "metadata": {},
     "output_type": "execute_result"
    }
   ],
   "source": [
    "len(X_train)"
   ]
  },
  {
   "cell_type": "code",
   "execution_count": 103,
   "metadata": {},
   "outputs": [
    {
     "data": {
      "text/plain": [
       "13535"
      ]
     },
     "execution_count": 103,
     "metadata": {},
     "output_type": "execute_result"
    }
   ],
   "source": [
    "len(X_test)"
   ]
  },
  {
   "cell_type": "code",
   "execution_count": 104,
   "metadata": {},
   "outputs": [
    {
     "data": {
      "text/plain": [
       "31580"
      ]
     },
     "execution_count": 104,
     "metadata": {},
     "output_type": "execute_result"
    }
   ],
   "source": [
    "len(Y_train)"
   ]
  },
  {
   "cell_type": "markdown",
   "metadata": {},
   "source": [
    "#### Predict on the dataset"
   ]
  },
  {
   "cell_type": "code",
   "execution_count": 105,
   "metadata": {},
   "outputs": [
    {
     "data": {
      "text/plain": [
       "array([0., 0., 0., ..., 0., 0., 0.])"
      ]
     },
     "execution_count": 105,
     "metadata": {},
     "output_type": "execute_result"
    }
   ],
   "source": [
    "cl.predict(X_test)"
   ]
  },
  {
   "cell_type": "code",
   "execution_count": 106,
   "metadata": {},
   "outputs": [
    {
     "data": {
      "text/plain": [
       "0.9985223494643517"
      ]
     },
     "execution_count": 106,
     "metadata": {},
     "output_type": "execute_result"
    }
   ],
   "source": [
    "(cl.predict(X_test) == Y_test).mean()"
   ]
  },
  {
   "cell_type": "code",
   "execution_count": 107,
   "metadata": {},
   "outputs": [],
   "source": [
    "y_pred = cl.predict(X_test)"
   ]
  },
  {
   "cell_type": "code",
   "execution_count": 108,
   "metadata": {},
   "outputs": [
    {
     "data": {
      "text/plain": [
       "array([0., 0., 0., 0., 0., 0., 0., 0., 0., 0.])"
      ]
     },
     "execution_count": 108,
     "metadata": {},
     "output_type": "execute_result"
    }
   ],
   "source": [
    "y_pred[:10]"
   ]
  },
  {
   "cell_type": "code",
   "execution_count": 109,
   "metadata": {},
   "outputs": [],
   "source": [
    "y_pred_proba = cl.predict_proba(X_test)[:,1]"
   ]
  },
  {
   "cell_type": "code",
   "execution_count": 110,
   "metadata": {},
   "outputs": [
    {
     "data": {
      "text/plain": [
       "array([0.00000000e+00, 2.03174660e-04, 0.00000000e+00, 6.54020776e-04,\n",
       "       7.80759195e-04, 0.00000000e+00, 2.22765824e-04, 4.84094053e-05,\n",
       "       2.00000000e-02, 6.00000000e-02, 7.61794343e-04, 1.85080774e-04,\n",
       "       0.00000000e+00, 7.22222041e-04, 9.39455318e-04, 4.84094053e-05,\n",
       "       1.39520350e-04, 9.20000000e-01, 0.00000000e+00, 3.62671283e-04])"
      ]
     },
     "execution_count": 110,
     "metadata": {},
     "output_type": "execute_result"
    }
   ],
   "source": [
    "y_pred_proba[:20]"
   ]
  },
  {
   "cell_type": "markdown",
   "metadata": {},
   "source": [
    "#### Confusion Matrix"
   ]
  },
  {
   "cell_type": "code",
   "execution_count": 111,
   "metadata": {},
   "outputs": [],
   "source": [
    "from sklearn.metrics import confusion_matrix"
   ]
  },
  {
   "cell_type": "code",
   "execution_count": 112,
   "metadata": {},
   "outputs": [],
   "source": [
    "import sklearn.metrics as met"
   ]
  },
  {
   "cell_type": "code",
   "execution_count": 113,
   "metadata": {},
   "outputs": [
    {
     "data": {
      "text/plain": [
       "array([[11783,     0],\n",
       "       [   20,  1732]], dtype=int64)"
      ]
     },
     "execution_count": 113,
     "metadata": {},
     "output_type": "execute_result"
    }
   ],
   "source": [
    "confusion_matrix(Y_test,y_pred)"
   ]
  },
  {
   "cell_type": "markdown",
   "metadata": {},
   "source": [
    "#### Accuracy"
   ]
  },
  {
   "cell_type": "code",
   "execution_count": 114,
   "metadata": {},
   "outputs": [
    {
     "data": {
      "text/plain": [
       "0.9985223494643517"
      ]
     },
     "execution_count": 114,
     "metadata": {},
     "output_type": "execute_result"
    }
   ],
   "source": [
    "(y_pred == Y_test).mean()"
   ]
  },
  {
   "cell_type": "code",
   "execution_count": 115,
   "metadata": {},
   "outputs": [
    {
     "data": {
      "text/plain": [
       "0.9985223494643517"
      ]
     },
     "execution_count": 115,
     "metadata": {},
     "output_type": "execute_result"
    }
   ],
   "source": [
    "met.accuracy_score(Y_test, y_pred)"
   ]
  },
  {
   "cell_type": "markdown",
   "metadata": {},
   "source": [
    "#### Precision Score"
   ]
  },
  {
   "cell_type": "code",
   "execution_count": 116,
   "metadata": {},
   "outputs": [
    {
     "data": {
      "text/plain": [
       "1.0"
      ]
     },
     "execution_count": 116,
     "metadata": {},
     "output_type": "execute_result"
    }
   ],
   "source": [
    "met.precision_score(Y_test,y_pred)"
   ]
  },
  {
   "cell_type": "markdown",
   "metadata": {},
   "source": [
    "#### AUC score"
   ]
  },
  {
   "cell_type": "code",
   "execution_count": 117,
   "metadata": {},
   "outputs": [
    {
     "data": {
      "text/plain": [
       "0.9960642450988711"
      ]
     },
     "execution_count": 117,
     "metadata": {},
     "output_type": "execute_result"
    }
   ],
   "source": [
    "met.roc_auc_score(Y_test,y_pred_proba)"
   ]
  },
  {
   "cell_type": "markdown",
   "metadata": {},
   "source": [
    "#### Decision Regression Tree"
   ]
  },
  {
   "cell_type": "code",
   "execution_count": 119,
   "metadata": {},
   "outputs": [],
   "source": [
    "import sklearn.tree"
   ]
  },
  {
   "cell_type": "code",
   "execution_count": 124,
   "metadata": {},
   "outputs": [],
   "source": [
    "dt = sklearn.tree.DecisionTreeRegressor(max_depth = 2)"
   ]
  },
  {
   "cell_type": "code",
   "execution_count": 125,
   "metadata": {},
   "outputs": [
    {
     "data": {
      "text/plain": [
       "DecisionTreeRegressor(max_depth=2)"
      ]
     },
     "execution_count": 125,
     "metadata": {},
     "output_type": "execute_result"
    }
   ],
   "source": [
    "dt.fit(X,Y)"
   ]
  },
  {
   "cell_type": "code",
   "execution_count": 126,
   "metadata": {},
   "outputs": [
    {
     "data": {
      "text/plain": [
       "0.1280283719383797"
      ]
     },
     "execution_count": 126,
     "metadata": {},
     "output_type": "execute_result"
    }
   ],
   "source": [
    "Y.mean()"
   ]
  },
  {
   "cell_type": "code",
   "execution_count": 128,
   "metadata": {},
   "outputs": [
    {
     "data": {
      "image/png": "[encoded data removed]",
      "text/plain": [
       "<IPython.core.display.Image object>"
      ]
     },
     "execution_count": 128,
     "metadata": {},
     "output_type": "execute_result"
    }
   ],
   "source": [
    "import sklearn.tree as tree\n",
    "from IPython.display import Image  \n",
    "import pydotplus\n",
    "\n",
    "dt_feature_names = list(X.columns)\n",
    "dt_target_names = np.array(Y.unique(),dtype=np.string_) \n",
    "tree.export_graphviz(dt, out_file='tree.dot', \n",
    "    feature_names=dt_feature_names, class_names=dt_target_names,\n",
    "    filled=True)  \n",
    "graph = pydotplus.graph_from_dot_file('tree.dot')\n",
    "Image(graph.create_png())"
   ]
  },
  {
   "cell_type": "markdown",
   "metadata": {},
   "source": [
    "### Clustering\n"
   ]
  },
  {
   "cell_type": "code",
   "execution_count": 110,
   "metadata": {},
   "outputs": [],
   "source": [
    "from sklearn.cluster import KMeans"
   ]
  },
  {
   "cell_type": "markdown",
   "metadata": {},
   "source": [
    "#### Fit K-Means clustering for k=3\n"
   ]
  },
  {
   "cell_type": "code",
   "execution_count": 111,
   "metadata": {},
   "outputs": [
    {
     "data": {
      "text/plain": [
       "KMeans(n_clusters=3)"
      ]
     },
     "execution_count": 111,
     "metadata": {},
     "output_type": "execute_result"
    }
   ],
   "source": [
    "kmeans = KMeans(n_clusters=3)\n",
    "kmeans.fit(df2)"
   ]
  },
  {
   "cell_type": "markdown",
   "metadata": {},
   "source": [
    "#### As a result of clustering, we have the clustering label. Let's put these labels back into the original numeric data frame."
   ]
  },
  {
   "cell_type": "code",
   "execution_count": 112,
   "metadata": {},
   "outputs": [
    {
     "data": {
      "text/plain": [
       "45115"
      ]
     },
     "execution_count": 112,
     "metadata": {},
     "output_type": "execute_result"
    }
   ],
   "source": [
    "len(kmeans.labels_)"
   ]
  },
  {
   "cell_type": "markdown",
   "metadata": {},
   "source": [
    "### Getting summary information on the clusters' characteristics"
   ]
  },
  {
   "cell_type": "code",
   "execution_count": 113,
   "metadata": {},
   "outputs": [],
   "source": [
    "df2['cluster'] = kmeans.labels_"
   ]
  },
  {
   "cell_type": "code",
   "execution_count": 114,
   "metadata": {},
   "outputs": [
    {
     "data": {
      "text/html": [
       "<div>\n",
       "<style scoped>\n",
       "    .dataframe tbody tr th:only-of-type {\n",
       "        vertical-align: middle;\n",
       "    }\n",
       "\n",
       "    .dataframe tbody tr th {\n",
       "        vertical-align: top;\n",
       "    }\n",
       "\n",
       "    .dataframe thead th {\n",
       "        text-align: right;\n",
       "    }\n",
       "</style>\n",
       "<table border=\"1\" class=\"dataframe\">\n",
       "  <thead>\n",
       "    <tr style=\"text-align: right;\">\n",
       "      <th></th>\n",
       "      <th>budget</th>\n",
       "      <th>popularity</th>\n",
       "      <th>revenue</th>\n",
       "      <th>runtime</th>\n",
       "      <th>vote_average</th>\n",
       "      <th>vote_count</th>\n",
       "      <th>Profit</th>\n",
       "      <th>weighted_rating</th>\n",
       "      <th>Profit1</th>\n",
       "      <th>adult_False</th>\n",
       "      <th>...</th>\n",
       "      <th>original_language_zu</th>\n",
       "      <th>original_language_nan</th>\n",
       "      <th>status_Canceled</th>\n",
       "      <th>status_In Production</th>\n",
       "      <th>status_Planned</th>\n",
       "      <th>status_Post Production</th>\n",
       "      <th>status_Released</th>\n",
       "      <th>status_Rumored</th>\n",
       "      <th>status_nan</th>\n",
       "      <th>cluster</th>\n",
       "    </tr>\n",
       "  </thead>\n",
       "  <tbody>\n",
       "    <tr>\n",
       "      <th>0</th>\n",
       "      <td>0.078947</td>\n",
       "      <td>21.946943</td>\n",
       "      <td>0.983037</td>\n",
       "      <td>81.0</td>\n",
       "      <td>7.7</td>\n",
       "      <td>5415.0</td>\n",
       "      <td>0.904090</td>\n",
       "      <td>7.545556</td>\n",
       "      <td>1.0</td>\n",
       "      <td>1</td>\n",
       "      <td>...</td>\n",
       "      <td>0</td>\n",
       "      <td>0</td>\n",
       "      <td>0</td>\n",
       "      <td>0</td>\n",
       "      <td>0</td>\n",
       "      <td>0</td>\n",
       "      <td>1</td>\n",
       "      <td>0</td>\n",
       "      <td>0</td>\n",
       "      <td>1</td>\n",
       "    </tr>\n",
       "    <tr>\n",
       "      <th>1</th>\n",
       "      <td>0.171053</td>\n",
       "      <td>17.015539</td>\n",
       "      <td>0.691572</td>\n",
       "      <td>104.0</td>\n",
       "      <td>6.9</td>\n",
       "      <td>2413.0</td>\n",
       "      <td>0.520519</td>\n",
       "      <td>6.704671</td>\n",
       "      <td>1.0</td>\n",
       "      <td>1</td>\n",
       "      <td>...</td>\n",
       "      <td>0</td>\n",
       "      <td>0</td>\n",
       "      <td>0</td>\n",
       "      <td>0</td>\n",
       "      <td>0</td>\n",
       "      <td>0</td>\n",
       "      <td>1</td>\n",
       "      <td>0</td>\n",
       "      <td>0</td>\n",
       "      <td>2</td>\n",
       "    </tr>\n",
       "    <tr>\n",
       "      <th>2</th>\n",
       "      <td>0.000000</td>\n",
       "      <td>11.712900</td>\n",
       "      <td>0.000000</td>\n",
       "      <td>101.0</td>\n",
       "      <td>6.5</td>\n",
       "      <td>92.0</td>\n",
       "      <td>0.000000</td>\n",
       "      <td>5.773818</td>\n",
       "      <td>0.0</td>\n",
       "      <td>1</td>\n",
       "      <td>...</td>\n",
       "      <td>0</td>\n",
       "      <td>0</td>\n",
       "      <td>0</td>\n",
       "      <td>0</td>\n",
       "      <td>0</td>\n",
       "      <td>0</td>\n",
       "      <td>1</td>\n",
       "      <td>0</td>\n",
       "      <td>0</td>\n",
       "      <td>0</td>\n",
       "    </tr>\n",
       "    <tr>\n",
       "      <th>3</th>\n",
       "      <td>0.042105</td>\n",
       "      <td>3.859495</td>\n",
       "      <td>0.214348</td>\n",
       "      <td>127.0</td>\n",
       "      <td>6.1</td>\n",
       "      <td>34.0</td>\n",
       "      <td>0.172243</td>\n",
       "      <td>5.654162</td>\n",
       "      <td>1.0</td>\n",
       "      <td>1</td>\n",
       "      <td>...</td>\n",
       "      <td>0</td>\n",
       "      <td>0</td>\n",
       "      <td>0</td>\n",
       "      <td>0</td>\n",
       "      <td>0</td>\n",
       "      <td>0</td>\n",
       "      <td>1</td>\n",
       "      <td>0</td>\n",
       "      <td>0</td>\n",
       "      <td>0</td>\n",
       "    </tr>\n",
       "    <tr>\n",
       "      <th>4</th>\n",
       "      <td>0.000000</td>\n",
       "      <td>8.387519</td>\n",
       "      <td>0.201523</td>\n",
       "      <td>106.0</td>\n",
       "      <td>5.7</td>\n",
       "      <td>173.0</td>\n",
       "      <td>0.201523</td>\n",
       "      <td>5.641615</td>\n",
       "      <td>1.0</td>\n",
       "      <td>1</td>\n",
       "      <td>...</td>\n",
       "      <td>0</td>\n",
       "      <td>0</td>\n",
       "      <td>0</td>\n",
       "      <td>0</td>\n",
       "      <td>0</td>\n",
       "      <td>0</td>\n",
       "      <td>1</td>\n",
       "      <td>0</td>\n",
       "      <td>0</td>\n",
       "      <td>0</td>\n",
       "    </tr>\n",
       "  </tbody>\n",
       "</table>\n",
       "<p>5 rows × 110 columns</p>\n",
       "</div>"
      ],
      "text/plain": [
       "     budget  popularity   revenue  runtime  vote_average  vote_count  \\\n",
       "0  0.078947   21.946943  0.983037     81.0           7.7      5415.0   \n",
       "1  0.171053   17.015539  0.691572    104.0           6.9      2413.0   \n",
       "2  0.000000   11.712900  0.000000    101.0           6.5        92.0   \n",
       "3  0.042105    3.859495  0.214348    127.0           6.1        34.0   \n",
       "4  0.000000    8.387519  0.201523    106.0           5.7       173.0   \n",
       "\n",
       "     Profit  weighted_rating  Profit1  adult_False  ...  original_language_zu  \\\n",
       "0  0.904090         7.545556      1.0            1  ...                     0   \n",
       "1  0.520519         6.704671      1.0            1  ...                     0   \n",
       "2  0.000000         5.773818      0.0            1  ...                     0   \n",
       "3  0.172243         5.654162      1.0            1  ...                     0   \n",
       "4  0.201523         5.641615      1.0            1  ...                     0   \n",
       "\n",
       "   original_language_nan  status_Canceled  status_In Production  \\\n",
       "0                      0                0                     0   \n",
       "1                      0                0                     0   \n",
       "2                      0                0                     0   \n",
       "3                      0                0                     0   \n",
       "4                      0                0                     0   \n",
       "\n",
       "   status_Planned  status_Post Production  status_Released  status_Rumored  \\\n",
       "0               0                       0                1               0   \n",
       "1               0                       0                1               0   \n",
       "2               0                       0                1               0   \n",
       "3               0                       0                1               0   \n",
       "4               0                       0                1               0   \n",
       "\n",
       "   status_nan  cluster  \n",
       "0           0        1  \n",
       "1           0        2  \n",
       "2           0        0  \n",
       "3           0        0  \n",
       "4           0        0  \n",
       "\n",
       "[5 rows x 110 columns]"
      ]
     },
     "execution_count": 114,
     "metadata": {},
     "output_type": "execute_result"
    }
   ],
   "source": [
    "df2.head()"
   ]
  },
  {
   "cell_type": "code",
   "execution_count": 115,
   "metadata": {},
   "outputs": [
    {
     "data": {
      "text/plain": [
       "<Figure size 864x504 with 0 Axes>"
      ]
     },
     "execution_count": 115,
     "metadata": {},
     "output_type": "execute_result"
    },
    {
     "data": {
      "image/png": "[encoded data removed]",
      "text/plain": [
       "<Figure size 864x504 with 1 Axes>"
      ]
     },
     "metadata": {
      "needs_background": "light"
     },
     "output_type": "display_data"
    }
   ],
   "source": [
    "plt.figure(figsize=(12,7))\n",
    "axis = sns.barplot(x=np.arange(0,3,1),y=df2.groupby(['cluster']).count()['budget'].values)\n",
    "x=axis.set_xlabel(\"Cluster Number\")\n",
    "x=axis.set_ylabel(\"Number of movies\")"
   ]
  },
  {
   "cell_type": "markdown",
   "metadata": {},
   "source": [
    "#### We clearly see that one cluster is the largest and one cluster has the fewest number of movie"
   ]
  },
  {
   "cell_type": "code",
   "execution_count": 116,
   "metadata": {},
   "outputs": [
    {
     "data": {
      "text/html": [
       "<div>\n",
       "<style scoped>\n",
       "    .dataframe tbody tr th:only-of-type {\n",
       "        vertical-align: middle;\n",
       "    }\n",
       "\n",
       "    .dataframe tbody tr th {\n",
       "        vertical-align: top;\n",
       "    }\n",
       "\n",
       "    .dataframe thead th {\n",
       "        text-align: right;\n",
       "    }\n",
       "</style>\n",
       "<table border=\"1\" class=\"dataframe\">\n",
       "  <thead>\n",
       "    <tr style=\"text-align: right;\">\n",
       "      <th></th>\n",
       "      <th>budget</th>\n",
       "      <th>popularity</th>\n",
       "      <th>revenue</th>\n",
       "      <th>runtime</th>\n",
       "      <th>vote_average</th>\n",
       "      <th>vote_count</th>\n",
       "      <th>Profit</th>\n",
       "      <th>weighted_rating</th>\n",
       "      <th>Profit1</th>\n",
       "      <th>adult_False</th>\n",
       "      <th>...</th>\n",
       "      <th>original_language_zh</th>\n",
       "      <th>original_language_zu</th>\n",
       "      <th>original_language_nan</th>\n",
       "      <th>status_Canceled</th>\n",
       "      <th>status_In Production</th>\n",
       "      <th>status_Planned</th>\n",
       "      <th>status_Post Production</th>\n",
       "      <th>status_Released</th>\n",
       "      <th>status_Rumored</th>\n",
       "      <th>status_nan</th>\n",
       "    </tr>\n",
       "    <tr>\n",
       "      <th>cluster</th>\n",
       "      <th></th>\n",
       "      <th></th>\n",
       "      <th></th>\n",
       "      <th></th>\n",
       "      <th></th>\n",
       "      <th></th>\n",
       "      <th></th>\n",
       "      <th></th>\n",
       "      <th></th>\n",
       "      <th></th>\n",
       "      <th></th>\n",
       "      <th></th>\n",
       "      <th></th>\n",
       "      <th></th>\n",
       "      <th></th>\n",
       "      <th></th>\n",
       "      <th></th>\n",
       "      <th></th>\n",
       "      <th></th>\n",
       "      <th></th>\n",
       "      <th></th>\n",
       "    </tr>\n",
       "  </thead>\n",
       "  <tbody>\n",
       "    <tr>\n",
       "      <th>0</th>\n",
       "      <td>0.006451</td>\n",
       "      <td>2.510285</td>\n",
       "      <td>0.010748</td>\n",
       "      <td>93.557052</td>\n",
       "      <td>5.599872</td>\n",
       "      <td>45.558489</td>\n",
       "      <td>0.004297</td>\n",
       "      <td>5.661627</td>\n",
       "      <td>0.103880</td>\n",
       "      <td>0.999795</td>\n",
       "      <td>...</td>\n",
       "      <td>0.009311</td>\n",
       "      <td>0.000023</td>\n",
       "      <td>0.0</td>\n",
       "      <td>0.000046</td>\n",
       "      <td>0.000411</td>\n",
       "      <td>0.000342</td>\n",
       "      <td>0.002236</td>\n",
       "      <td>0.991739</td>\n",
       "      <td>0.005226</td>\n",
       "      <td>0.0</td>\n",
       "    </tr>\n",
       "    <tr>\n",
       "      <th>1</th>\n",
       "      <td>0.299835</td>\n",
       "      <td>36.515962</td>\n",
       "      <td>1.538087</td>\n",
       "      <td>127.492754</td>\n",
       "      <td>7.291787</td>\n",
       "      <td>5624.811594</td>\n",
       "      <td>1.238251</td>\n",
       "      <td>7.165625</td>\n",
       "      <td>1.000000</td>\n",
       "      <td>1.000000</td>\n",
       "      <td>...</td>\n",
       "      <td>0.000000</td>\n",
       "      <td>0.000000</td>\n",
       "      <td>0.0</td>\n",
       "      <td>0.000000</td>\n",
       "      <td>0.000000</td>\n",
       "      <td>0.000000</td>\n",
       "      <td>0.000000</td>\n",
       "      <td>1.000000</td>\n",
       "      <td>0.000000</td>\n",
       "      <td>0.0</td>\n",
       "    </tr>\n",
       "    <tr>\n",
       "      <th>2</th>\n",
       "      <td>0.147628</td>\n",
       "      <td>13.947426</td>\n",
       "      <td>0.506999</td>\n",
       "      <td>112.851103</td>\n",
       "      <td>6.637592</td>\n",
       "      <td>1685.854779</td>\n",
       "      <td>0.359371</td>\n",
       "      <td>6.413647</td>\n",
       "      <td>0.934743</td>\n",
       "      <td>1.000000</td>\n",
       "      <td>...</td>\n",
       "      <td>0.000919</td>\n",
       "      <td>0.000000</td>\n",
       "      <td>0.0</td>\n",
       "      <td>0.000000</td>\n",
       "      <td>0.000000</td>\n",
       "      <td>0.000000</td>\n",
       "      <td>0.000000</td>\n",
       "      <td>1.000000</td>\n",
       "      <td>0.000000</td>\n",
       "      <td>0.0</td>\n",
       "    </tr>\n",
       "  </tbody>\n",
       "</table>\n",
       "<p>3 rows × 109 columns</p>\n",
       "</div>"
      ],
      "text/plain": [
       "           budget  popularity   revenue     runtime  vote_average  \\\n",
       "cluster                                                             \n",
       "0        0.006451    2.510285  0.010748   93.557052      5.599872   \n",
       "1        0.299835   36.515962  1.538087  127.492754      7.291787   \n",
       "2        0.147628   13.947426  0.506999  112.851103      6.637592   \n",
       "\n",
       "          vote_count    Profit  weighted_rating   Profit1  adult_False  ...  \\\n",
       "cluster                                                                 ...   \n",
       "0          45.558489  0.004297         5.661627  0.103880     0.999795  ...   \n",
       "1        5624.811594  1.238251         7.165625  1.000000     1.000000  ...   \n",
       "2        1685.854779  0.359371         6.413647  0.934743     1.000000  ...   \n",
       "\n",
       "         original_language_zh  original_language_zu  original_language_nan  \\\n",
       "cluster                                                                      \n",
       "0                    0.009311              0.000023                    0.0   \n",
       "1                    0.000000              0.000000                    0.0   \n",
       "2                    0.000919              0.000000                    0.0   \n",
       "\n",
       "         status_Canceled  status_In Production  status_Planned  \\\n",
       "cluster                                                          \n",
       "0               0.000046              0.000411        0.000342   \n",
       "1               0.000000              0.000000        0.000000   \n",
       "2               0.000000              0.000000        0.000000   \n",
       "\n",
       "         status_Post Production  status_Released  status_Rumored  status_nan  \n",
       "cluster                                                                       \n",
       "0                      0.002236         0.991739        0.005226         0.0  \n",
       "1                      0.000000         1.000000        0.000000         0.0  \n",
       "2                      0.000000         1.000000        0.000000         0.0  \n",
       "\n",
       "[3 rows x 109 columns]"
      ]
     },
     "execution_count": 116,
     "metadata": {},
     "output_type": "execute_result"
    }
   ],
   "source": [
    "df2.groupby(['cluster']).mean()"
   ]
  },
  {
   "cell_type": "code",
   "execution_count": 117,
   "metadata": {},
   "outputs": [
    {
     "data": {
      "text/plain": [
       "<seaborn.axisgrid.FacetGrid at 0x1ffe4506490>"
      ]
     },
     "execution_count": 117,
     "metadata": {},
     "output_type": "execute_result"
    },
    {
     "data": {
      "image/png": "[encoded data removed]",
      "text/plain": [
       "<Figure size 360x360 with 1 Axes>"
      ]
     },
     "metadata": {
      "needs_background": "light"
     },
     "output_type": "display_data"
    }
   ],
   "source": [
    "sns.catplot(x='cluster',y='budget',data=df2, kind='bar')"
   ]
  },
  {
   "cell_type": "code",
   "execution_count": 118,
   "metadata": {},
   "outputs": [],
   "source": [
    "size = list(df2.groupby(['cluster']).count()['budget'].values)"
   ]
  },
  {
   "cell_type": "code",
   "execution_count": 119,
   "metadata": {},
   "outputs": [
    {
     "data": {
      "text/html": [
       "<div>\n",
       "<style scoped>\n",
       "    .dataframe tbody tr th:only-of-type {\n",
       "        vertical-align: middle;\n",
       "    }\n",
       "\n",
       "    .dataframe tbody tr th {\n",
       "        vertical-align: top;\n",
       "    }\n",
       "\n",
       "    .dataframe thead th {\n",
       "        text-align: right;\n",
       "    }\n",
       "</style>\n",
       "<table border=\"1\" class=\"dataframe\">\n",
       "  <thead>\n",
       "    <tr style=\"text-align: right;\">\n",
       "      <th></th>\n",
       "      <th>budget</th>\n",
       "      <th>popularity</th>\n",
       "      <th>revenue</th>\n",
       "      <th>runtime</th>\n",
       "      <th>vote_average</th>\n",
       "      <th>vote_count</th>\n",
       "      <th>Profit</th>\n",
       "      <th>weighted_rating</th>\n",
       "      <th>Profit1</th>\n",
       "      <th>adult_False</th>\n",
       "      <th>...</th>\n",
       "      <th>original_language_zu</th>\n",
       "      <th>original_language_nan</th>\n",
       "      <th>status_Canceled</th>\n",
       "      <th>status_In Production</th>\n",
       "      <th>status_Planned</th>\n",
       "      <th>status_Post Production</th>\n",
       "      <th>status_Released</th>\n",
       "      <th>status_Rumored</th>\n",
       "      <th>status_nan</th>\n",
       "      <th>cluster</th>\n",
       "    </tr>\n",
       "  </thead>\n",
       "  <tbody>\n",
       "    <tr>\n",
       "      <th>19109</th>\n",
       "      <td>0.131579</td>\n",
       "      <td>19.638605</td>\n",
       "      <td>1.445706</td>\n",
       "      <td>106.0</td>\n",
       "      <td>6.3</td>\n",
       "      <td>4811.0</td>\n",
       "      <td>1.314127</td>\n",
       "      <td>6.243595</td>\n",
       "      <td>1.0</td>\n",
       "      <td>1</td>\n",
       "      <td>...</td>\n",
       "      <td>0</td>\n",
       "      <td>0</td>\n",
       "      <td>0</td>\n",
       "      <td>0</td>\n",
       "      <td>0</td>\n",
       "      <td>0</td>\n",
       "      <td>1</td>\n",
       "      <td>0</td>\n",
       "      <td>0</td>\n",
       "      <td>1</td>\n",
       "    </tr>\n",
       "    <tr>\n",
       "      <th>36247</th>\n",
       "      <td>0.394737</td>\n",
       "      <td>26.024868</td>\n",
       "      <td>2.694169</td>\n",
       "      <td>108.0</td>\n",
       "      <td>7.7</td>\n",
       "      <td>4961.0</td>\n",
       "      <td>2.299432</td>\n",
       "      <td>7.532562</td>\n",
       "      <td>1.0</td>\n",
       "      <td>1</td>\n",
       "      <td>...</td>\n",
       "      <td>0</td>\n",
       "      <td>0</td>\n",
       "      <td>0</td>\n",
       "      <td>0</td>\n",
       "      <td>0</td>\n",
       "      <td>0</td>\n",
       "      <td>1</td>\n",
       "      <td>0</td>\n",
       "      <td>0</td>\n",
       "      <td>1</td>\n",
       "    </tr>\n",
       "    <tr>\n",
       "      <th>14416</th>\n",
       "      <td>0.526316</td>\n",
       "      <td>16.698628</td>\n",
       "      <td>2.025404</td>\n",
       "      <td>158.0</td>\n",
       "      <td>5.6</td>\n",
       "      <td>4994.0</td>\n",
       "      <td>1.499088</td>\n",
       "      <td>5.601456</td>\n",
       "      <td>1.0</td>\n",
       "      <td>1</td>\n",
       "      <td>...</td>\n",
       "      <td>0</td>\n",
       "      <td>0</td>\n",
       "      <td>0</td>\n",
       "      <td>0</td>\n",
       "      <td>0</td>\n",
       "      <td>0</td>\n",
       "      <td>1</td>\n",
       "      <td>0</td>\n",
       "      <td>0</td>\n",
       "      <td>1</td>\n",
       "    </tr>\n",
       "    <tr>\n",
       "      <th>16974</th>\n",
       "      <td>0.394737</td>\n",
       "      <td>29.158489</td>\n",
       "      <td>1.182438</td>\n",
       "      <td>115.0</td>\n",
       "      <td>6.6</td>\n",
       "      <td>6678.0</td>\n",
       "      <td>0.787702</td>\n",
       "      <td>6.540096</td>\n",
       "      <td>1.0</td>\n",
       "      <td>1</td>\n",
       "      <td>...</td>\n",
       "      <td>0</td>\n",
       "      <td>0</td>\n",
       "      <td>0</td>\n",
       "      <td>0</td>\n",
       "      <td>0</td>\n",
       "      <td>0</td>\n",
       "      <td>1</td>\n",
       "      <td>0</td>\n",
       "      <td>0</td>\n",
       "      <td>1</td>\n",
       "    </tr>\n",
       "    <tr>\n",
       "      <th>30311</th>\n",
       "      <td>0.460526</td>\n",
       "      <td>23.985587</td>\n",
       "      <td>2.256872</td>\n",
       "      <td>94.0</td>\n",
       "      <td>7.9</td>\n",
       "      <td>6737.0</td>\n",
       "      <td>1.796345</td>\n",
       "      <td>7.761922</td>\n",
       "      <td>1.0</td>\n",
       "      <td>1</td>\n",
       "      <td>...</td>\n",
       "      <td>0</td>\n",
       "      <td>0</td>\n",
       "      <td>0</td>\n",
       "      <td>0</td>\n",
       "      <td>0</td>\n",
       "      <td>0</td>\n",
       "      <td>1</td>\n",
       "      <td>0</td>\n",
       "      <td>0</td>\n",
       "      <td>1</td>\n",
       "    </tr>\n",
       "  </tbody>\n",
       "</table>\n",
       "<p>5 rows × 110 columns</p>\n",
       "</div>"
      ],
      "text/plain": [
       "         budget  popularity   revenue  runtime  vote_average  vote_count  \\\n",
       "19109  0.131579   19.638605  1.445706    106.0           6.3      4811.0   \n",
       "36247  0.394737   26.024868  2.694169    108.0           7.7      4961.0   \n",
       "14416  0.526316   16.698628  2.025404    158.0           5.6      4994.0   \n",
       "16974  0.394737   29.158489  1.182438    115.0           6.6      6678.0   \n",
       "30311  0.460526   23.985587  2.256872     94.0           7.9      6737.0   \n",
       "\n",
       "         Profit  weighted_rating  Profit1  adult_False  ...  \\\n",
       "19109  1.314127         6.243595      1.0            1  ...   \n",
       "36247  2.299432         7.532562      1.0            1  ...   \n",
       "14416  1.499088         5.601456      1.0            1  ...   \n",
       "16974  0.787702         6.540096      1.0            1  ...   \n",
       "30311  1.796345         7.761922      1.0            1  ...   \n",
       "\n",
       "       original_language_zu  original_language_nan  status_Canceled  \\\n",
       "19109                     0                      0                0   \n",
       "36247                     0                      0                0   \n",
       "14416                     0                      0                0   \n",
       "16974                     0                      0                0   \n",
       "30311                     0                      0                0   \n",
       "\n",
       "       status_In Production  status_Planned  status_Post Production  \\\n",
       "19109                     0               0                       0   \n",
       "36247                     0               0                       0   \n",
       "14416                     0               0                       0   \n",
       "16974                     0               0                       0   \n",
       "30311                     0               0                       0   \n",
       "\n",
       "       status_Released  status_Rumored  status_nan  cluster  \n",
       "19109                1               0           0        1  \n",
       "36247                1               0           0        1  \n",
       "14416                1               0           0        1  \n",
       "16974                1               0           0        1  \n",
       "30311                1               0           0        1  \n",
       "\n",
       "[5 rows x 110 columns]"
      ]
     },
     "execution_count": 119,
     "metadata": {},
     "output_type": "execute_result"
    }
   ],
   "source": [
    "df2[df2['cluster']==size.index(sorted(size)[0])].sample(5)"
   ]
  },
  {
   "cell_type": "markdown",
   "metadata": {},
   "source": [
    "#### This cluster represents the movies that recieved least number of votes and also has the smallest runtime, revenue and popularity score."
   ]
  },
  {
   "cell_type": "markdown",
   "metadata": {},
   "source": [
    "### Regression for Prediction"
   ]
  },
  {
   "cell_type": "code",
   "execution_count": 120,
   "metadata": {},
   "outputs": [],
   "source": [
    "from sklearn.model_selection import train_test_split"
   ]
  },
  {
   "cell_type": "code",
   "execution_count": 121,
   "metadata": {},
   "outputs": [],
   "source": [
    "X_train, X_test, Y_train, Y_test = train_test_split(X,Y,\n",
    "                            test_size=0.3,random_state=0)"
   ]
  },
  {
   "cell_type": "code",
   "execution_count": 122,
   "metadata": {},
   "outputs": [],
   "source": [
    "from sklearn import linear_model\n",
    "regLasso = linear_model.Lasso()"
   ]
  },
  {
   "cell_type": "code",
   "execution_count": 123,
   "metadata": {},
   "outputs": [
    {
     "data": {
      "text/plain": [
       "Lasso()"
      ]
     },
     "execution_count": 123,
     "metadata": {},
     "output_type": "execute_result"
    }
   ],
   "source": [
    "regLasso.fit(X_train,Y_train)"
   ]
  },
  {
   "cell_type": "code",
   "execution_count": 124,
   "metadata": {},
   "outputs": [],
   "source": [
    "y_pred = regLasso.predict(X_test)"
   ]
  },
  {
   "cell_type": "code",
   "execution_count": 125,
   "metadata": {},
   "outputs": [
    {
     "data": {
      "text/plain": [
       "array([-0.00411986, -0.00476933, -0.00260441, ..., -0.00433635,\n",
       "       -0.00541881, -0.00541881])"
      ]
     },
     "execution_count": 125,
     "metadata": {},
     "output_type": "execute_result"
    }
   ],
   "source": [
    "y_pred"
   ]
  },
  {
   "cell_type": "markdown",
   "metadata": {},
   "source": [
    "### Mean absolute error / Mean Absolute Deviation (MAD)"
   ]
  },
  {
   "cell_type": "markdown",
   "metadata": {},
   "source": [
    "#### The average of the absolute values of the errors"
   ]
  },
  {
   "cell_type": "code",
   "execution_count": 126,
   "metadata": {},
   "outputs": [
    {
     "data": {
      "text/plain": [
       "array([-0.00411986, -0.00476933, -0.00260441, ..., -0.00433635,\n",
       "       -0.00541881, -0.00541881])"
      ]
     },
     "execution_count": 126,
     "metadata": {},
     "output_type": "execute_result"
    }
   ],
   "source": [
    "y_pred"
   ]
  },
  {
   "cell_type": "markdown",
   "metadata": {},
   "source": [
    "#### Mean absolute error / MAD"
   ]
  },
  {
   "cell_type": "code",
   "execution_count": 127,
   "metadata": {},
   "outputs": [
    {
     "data": {
      "text/plain": [
       "0.021955542209303507"
      ]
     },
     "execution_count": 127,
     "metadata": {},
     "output_type": "execute_result"
    }
   ],
   "source": [
    "(y_pred - Y_test).abs().mean()"
   ]
  },
  {
   "cell_type": "markdown",
   "metadata": {},
   "source": [
    "#### Mean squared error / MSE"
   ]
  },
  {
   "cell_type": "markdown",
   "metadata": {},
   "source": [
    "#### The average of the errors squared"
   ]
  },
  {
   "cell_type": "code",
   "execution_count": 128,
   "metadata": {},
   "outputs": [
    {
     "data": {
      "text/plain": [
       "0.006761653275323037"
      ]
     },
     "execution_count": 128,
     "metadata": {},
     "output_type": "execute_result"
    }
   ],
   "source": [
    "((y_pred - Y_test)**2).mean()"
   ]
  }
 ],
 "metadata": {
  "kernelspec": {
   "display_name": "Python 3",
   "language": "python",
   "name": "python3"
  },
  "language_info": {
   "codemirror_mode": {
    "name": "ipython",
    "version": 3
   },
   "file_extension": ".py",
   "mimetype": "text/x-python",
   "name": "python",
   "nbconvert_exporter": "python",
   "pygments_lexer": "ipython3",
   "version": "3.8.5"
  }
 },
 "nbformat": 4,
 "nbformat_minor": 4
}
