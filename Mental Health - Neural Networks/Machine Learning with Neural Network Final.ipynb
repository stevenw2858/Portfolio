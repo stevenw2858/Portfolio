{
 "cells": [
  {
   "cell_type": "markdown",
   "metadata": {},
   "source": [
    "# <div class=\"alert alert-block alert-info\"> Using Artificial Neural Network for Mental Health </div>"
   ]
  },
  {
   "cell_type": "markdown",
   "metadata": {},
   "source": [
    "### Synopsis"
   ]
  },
  {
   "cell_type": "markdown",
   "metadata": {},
   "source": [
    "The dataset \"MentalHealthSurvey\" is a survey conducted from 2014 that contains responses towards mental health and its effect in the tech industry. This dataset was obtained from Kaggle.com. There are roughly 27 columns and 1250 rows. For our project, we wanted to work on two hypotheses: \n",
    "1. Based on survey responses, has the given subject sought treatment in the past?\n",
    "2. Based on survey responses, if the subject has a health condition, does he feel that it interferes with his/her work?"
   ]
  },
  {
   "cell_type": "code",
   "execution_count": 1,
   "metadata": {},
   "outputs": [],
   "source": [
    "import numpy as np\n",
    "import pandas as pd\n",
    "import matplotlib.pyplot as plt\n",
    "from sklearn.preprocessing import StandardScaler\n",
    "from sklearn.model_selection import train_test_split\n",
    "import tensorflow as tf #!pip install if don't have\n",
    "import warnings\n",
    "warnings.filterwarnings('ignore')\n",
    "from sklearn.metrics import accuracy_score\n",
    "from sklearn.model_selection import cross_val_predict\n",
    "from sklearn.model_selection import cross_val_score\n",
    "import scipy.io as scio\n",
    "from collections import Counter\n",
    "import seaborn as sns"
   ]
  },
  {
   "cell_type": "code",
   "execution_count": 2,
   "metadata": {},
   "outputs": [],
   "source": [
    "data = pd.read_csv(\"mentalhealthsurvey.csv\")"
   ]
  },
  {
   "cell_type": "code",
   "execution_count": 3,
   "metadata": {},
   "outputs": [
    {
     "data": {
      "text/html": [
       "<div>\n",
       "<style scoped>\n",
       "    .dataframe tbody tr th:only-of-type {\n",
       "        vertical-align: middle;\n",
       "    }\n",
       "\n",
       "    .dataframe tbody tr th {\n",
       "        vertical-align: top;\n",
       "    }\n",
       "\n",
       "    .dataframe thead th {\n",
       "        text-align: right;\n",
       "    }\n",
       "</style>\n",
       "<table border=\"1\" class=\"dataframe\">\n",
       "  <thead>\n",
       "    <tr style=\"text-align: right;\">\n",
       "      <th></th>\n",
       "      <th>Timestamp</th>\n",
       "      <th>Age</th>\n",
       "      <th>Gender</th>\n",
       "      <th>Country</th>\n",
       "      <th>state</th>\n",
       "      <th>self_employed</th>\n",
       "      <th>family_history</th>\n",
       "      <th>treatment</th>\n",
       "      <th>work_interfere</th>\n",
       "      <th>no_employees</th>\n",
       "      <th>...</th>\n",
       "      <th>leave</th>\n",
       "      <th>mental_health_consequence</th>\n",
       "      <th>phys_health_consequence</th>\n",
       "      <th>coworkers</th>\n",
       "      <th>supervisor</th>\n",
       "      <th>mental_health_interview</th>\n",
       "      <th>phys_health_interview</th>\n",
       "      <th>mental_vs_physical</th>\n",
       "      <th>obs_consequence</th>\n",
       "      <th>comments</th>\n",
       "    </tr>\n",
       "  </thead>\n",
       "  <tbody>\n",
       "    <tr>\n",
       "      <th>0</th>\n",
       "      <td>2014-08-27 11:29:31</td>\n",
       "      <td>37</td>\n",
       "      <td>Female</td>\n",
       "      <td>United States</td>\n",
       "      <td>IL</td>\n",
       "      <td>NaN</td>\n",
       "      <td>No</td>\n",
       "      <td>Yes</td>\n",
       "      <td>Often</td>\n",
       "      <td>6-25</td>\n",
       "      <td>...</td>\n",
       "      <td>Somewhat easy</td>\n",
       "      <td>No</td>\n",
       "      <td>No</td>\n",
       "      <td>Some of them</td>\n",
       "      <td>Yes</td>\n",
       "      <td>No</td>\n",
       "      <td>Maybe</td>\n",
       "      <td>Yes</td>\n",
       "      <td>No</td>\n",
       "      <td>NaN</td>\n",
       "    </tr>\n",
       "    <tr>\n",
       "      <th>1</th>\n",
       "      <td>2014-08-27 11:29:37</td>\n",
       "      <td>44</td>\n",
       "      <td>M</td>\n",
       "      <td>United States</td>\n",
       "      <td>IN</td>\n",
       "      <td>NaN</td>\n",
       "      <td>No</td>\n",
       "      <td>No</td>\n",
       "      <td>Rarely</td>\n",
       "      <td>More than 1000</td>\n",
       "      <td>...</td>\n",
       "      <td>Don't know</td>\n",
       "      <td>Maybe</td>\n",
       "      <td>No</td>\n",
       "      <td>No</td>\n",
       "      <td>No</td>\n",
       "      <td>No</td>\n",
       "      <td>No</td>\n",
       "      <td>Don't know</td>\n",
       "      <td>No</td>\n",
       "      <td>NaN</td>\n",
       "    </tr>\n",
       "    <tr>\n",
       "      <th>2</th>\n",
       "      <td>2014-08-27 11:29:44</td>\n",
       "      <td>32</td>\n",
       "      <td>Male</td>\n",
       "      <td>Canada</td>\n",
       "      <td>NaN</td>\n",
       "      <td>NaN</td>\n",
       "      <td>No</td>\n",
       "      <td>No</td>\n",
       "      <td>Rarely</td>\n",
       "      <td>6-25</td>\n",
       "      <td>...</td>\n",
       "      <td>Somewhat difficult</td>\n",
       "      <td>No</td>\n",
       "      <td>No</td>\n",
       "      <td>Yes</td>\n",
       "      <td>Yes</td>\n",
       "      <td>Yes</td>\n",
       "      <td>Yes</td>\n",
       "      <td>No</td>\n",
       "      <td>No</td>\n",
       "      <td>NaN</td>\n",
       "    </tr>\n",
       "    <tr>\n",
       "      <th>3</th>\n",
       "      <td>2014-08-27 11:29:46</td>\n",
       "      <td>31</td>\n",
       "      <td>Male</td>\n",
       "      <td>United Kingdom</td>\n",
       "      <td>NaN</td>\n",
       "      <td>NaN</td>\n",
       "      <td>Yes</td>\n",
       "      <td>Yes</td>\n",
       "      <td>Often</td>\n",
       "      <td>26-100</td>\n",
       "      <td>...</td>\n",
       "      <td>Somewhat difficult</td>\n",
       "      <td>Yes</td>\n",
       "      <td>Yes</td>\n",
       "      <td>Some of them</td>\n",
       "      <td>No</td>\n",
       "      <td>Maybe</td>\n",
       "      <td>Maybe</td>\n",
       "      <td>No</td>\n",
       "      <td>Yes</td>\n",
       "      <td>NaN</td>\n",
       "    </tr>\n",
       "    <tr>\n",
       "      <th>4</th>\n",
       "      <td>2014-08-27 11:30:22</td>\n",
       "      <td>31</td>\n",
       "      <td>Male</td>\n",
       "      <td>United States</td>\n",
       "      <td>TX</td>\n",
       "      <td>NaN</td>\n",
       "      <td>No</td>\n",
       "      <td>No</td>\n",
       "      <td>Never</td>\n",
       "      <td>100-500</td>\n",
       "      <td>...</td>\n",
       "      <td>Don't know</td>\n",
       "      <td>No</td>\n",
       "      <td>No</td>\n",
       "      <td>Some of them</td>\n",
       "      <td>Yes</td>\n",
       "      <td>Yes</td>\n",
       "      <td>Yes</td>\n",
       "      <td>Don't know</td>\n",
       "      <td>No</td>\n",
       "      <td>NaN</td>\n",
       "    </tr>\n",
       "  </tbody>\n",
       "</table>\n",
       "<p>5 rows × 27 columns</p>\n",
       "</div>"
      ],
      "text/plain": [
       "             Timestamp  Age  Gender         Country state self_employed  \\\n",
       "0  2014-08-27 11:29:31   37  Female   United States    IL           NaN   \n",
       "1  2014-08-27 11:29:37   44       M   United States    IN           NaN   \n",
       "2  2014-08-27 11:29:44   32    Male          Canada   NaN           NaN   \n",
       "3  2014-08-27 11:29:46   31    Male  United Kingdom   NaN           NaN   \n",
       "4  2014-08-27 11:30:22   31    Male   United States    TX           NaN   \n",
       "\n",
       "  family_history treatment work_interfere    no_employees  ...  \\\n",
       "0             No       Yes          Often            6-25  ...   \n",
       "1             No        No         Rarely  More than 1000  ...   \n",
       "2             No        No         Rarely            6-25  ...   \n",
       "3            Yes       Yes          Often          26-100  ...   \n",
       "4             No        No          Never         100-500  ...   \n",
       "\n",
       "                leave mental_health_consequence phys_health_consequence  \\\n",
       "0       Somewhat easy                        No                      No   \n",
       "1          Don't know                     Maybe                      No   \n",
       "2  Somewhat difficult                        No                      No   \n",
       "3  Somewhat difficult                       Yes                     Yes   \n",
       "4          Don't know                        No                      No   \n",
       "\n",
       "      coworkers supervisor mental_health_interview phys_health_interview  \\\n",
       "0  Some of them        Yes                      No                 Maybe   \n",
       "1            No         No                      No                    No   \n",
       "2           Yes        Yes                     Yes                   Yes   \n",
       "3  Some of them         No                   Maybe                 Maybe   \n",
       "4  Some of them        Yes                     Yes                   Yes   \n",
       "\n",
       "  mental_vs_physical obs_consequence comments  \n",
       "0                Yes              No      NaN  \n",
       "1         Don't know              No      NaN  \n",
       "2                 No              No      NaN  \n",
       "3                 No             Yes      NaN  \n",
       "4         Don't know              No      NaN  \n",
       "\n",
       "[5 rows x 27 columns]"
      ]
     },
     "execution_count": 3,
     "metadata": {},
     "output_type": "execute_result"
    }
   ],
   "source": [
    "data.head()"
   ]
  },
  {
   "cell_type": "code",
   "execution_count": 4,
   "metadata": {
    "scrolled": true
   },
   "outputs": [
    {
     "name": "stdout",
     "output_type": "stream",
     "text": [
      "(1259, 27)\n"
     ]
    }
   ],
   "source": [
    "print (data.shape)"
   ]
  },
  {
   "cell_type": "markdown",
   "metadata": {},
   "source": [
    "### Variable Descriptions\n",
    "\n",
    "**Timestamp**\n",
    "\n",
    "**Age**\n",
    "\n",
    "**Gender**\n",
    "\n",
    "**Country**\n",
    "\n",
    "**state:** If you live in the United States, which state or territory do you live in?\n",
    "\n",
    "**self_employed:** Are you self-employed?\n",
    "\n",
    "**family_history:** Do you have a family history of mental illness?\n",
    "\n",
    "**treatment:** Have you sought treatment for a mental health condition?\n",
    "\n",
    "**work_interfere:** If you have a mental health condition, do you feel that it interferes with your work?\n",
    "\n",
    "**no_employees:** How many employees does your company or organization have?\n",
    "\n",
    "**remote_work:** Do you work remotely (outside of an office) at least 50% of the time?\n",
    "\n",
    "**tech_company:** Is your employer primarily a tech company/organization?\n",
    "\n",
    "**benefits:** Does your employer provide mental health benefits?\n",
    "\n",
    "**care_options:** Do you know the options for mental health care your employer provides?\n",
    "\n",
    "**wellness_program:** Has your employer ever discussed mental health as part of an employee wellness program?\n",
    "\n",
    "**seek_help:** Does your employer provide resources to learn more about mental health issues and how to seek help?\n",
    "\n",
    "**anonymity:** Is your anonymity protected if you choose to take advantage of mental health or substance abuse treatment resources?\n",
    "\n",
    "**leave:** How easy is it for you to take medical leave for a mental health condition?\n",
    "\n",
    "**mentalhealthconsequence:** Do you think that discussing a mental health issue with your employer would have negative consequences?\n",
    "\n",
    "**physhealthconsequence:** Do you think that discussing a physical health issue with your employer would have negative consequences?\n",
    "\n",
    "**coworkers:** Would you be willing to discuss a mental health issue with your coworkers?\n",
    "\n",
    "**supervisor:** Would you be willing to discuss a mental health issue with your direct supervisor(s)?\n",
    "\n",
    "**mentalhealthinterview:** Would you bring up a mental health issue with a potential employer in an interview?\n",
    "\n",
    "**physhealthinterview:** Would you bring up a physical health issue with a potential employer in an interview?\n",
    "\n",
    "**mentalvsphysical:** Do you feel that your employer takes mental health as seriously as physical health?\n",
    "\n",
    "**obs_consequence:** Have you heard of or observed negative consequences for coworkers with mental health conditions in your workplace?\n",
    "\n",
    "**comments:** Any additional notes or comments"
   ]
  },
  {
   "cell_type": "markdown",
   "metadata": {},
   "source": [
    "# Data Visualization"
   ]
  },
  {
   "cell_type": "markdown",
   "metadata": {},
   "source": [
    "To get a better understanding of the data, we visualized few variables. These variables are chosen based on uniqueness, frequency and other factors that pertained to mental health. We will use the information gathered from these visuals/graphs to chose the variables when training our model."
   ]
  },
  {
   "cell_type": "markdown",
   "metadata": {},
   "source": [
    "## Responses by Country"
   ]
  },
  {
   "cell_type": "markdown",
   "metadata": {},
   "source": [
    "Most of the responses of the survey were from the USA. Mental health can be defined and is measured differently in various countries due to cultural and industrial differences. About 60% of the responses were from respondents working in the US. Hence, we will focus most on an analysis of survey responses in the US."
   ]
  },
  {
   "cell_type": "code",
   "execution_count": 5,
   "metadata": {},
   "outputs": [
    {
     "data": {
      "image/png": "[encoded data removed]",
      "text/plain": [
       "<Figure size 576x432 with 1 Axes>"
      ]
     },
     "metadata": {
      "needs_background": "light"
     },
     "output_type": "display_data"
    }
   ],
   "source": [
    "country_count = Counter(data['Country'].dropna().tolist()).most_common(10)\n",
    "country_idx = [country[0] for country in country_count]\n",
    "country_val = [country[1] for country in country_count]\n",
    "fig,ax = plt.subplots(figsize=(8,6))\n",
    "sns.barplot(x = country_idx,y=country_val ,ax =ax)\n",
    "plt.title('Top ten country')\n",
    "plt.xlabel('Country')\n",
    "plt.ylabel('Count')\n",
    "ticks = plt.setp(ax.get_xticklabels(),rotation=90)"
   ]
  },
  {
   "cell_type": "markdown",
   "metadata": {},
   "source": [
    "##  State"
   ]
  },
  {
   "cell_type": "markdown",
   "metadata": {},
   "source": [
    "To further explore the responses, we looked at where the responses were coming from based on the states. It makes sense that most responses are from California as a the tech sector is the largest in California. As we can be seen that US contributed the most with 750 respondents and California contributed with 138 respndents."
   ]
  },
  {
   "cell_type": "code",
   "execution_count": 6,
   "metadata": {},
   "outputs": [
    {
     "data": {
      "image/png": "[encoded data removed]",
      "text/plain": [
       "<Figure size 720x360 with 1 Axes>"
      ]
     },
     "metadata": {
      "needs_background": "light"
     },
     "output_type": "display_data"
    }
   ],
   "source": [
    "usa = data.loc[data['Country'] == 'United States']\n",
    "top_10_statesUS = usa['state'].value_counts()[:10].to_frame()\n",
    "plt.figure(figsize=(10,5))\n",
    "sns.barplot(top_10_statesUS['state'],top_10_statesUS.index,palette=\"PuBuGn_d\")\n",
    "plt.title('Top 10 US states contributing',fontsize=18,fontweight=\"bold\")\n",
    "plt.xlabel('')\n",
    "plt.show()"
   ]
  },
  {
   "cell_type": "markdown",
   "metadata": {},
   "source": [
    "## Employer and Resources"
   ]
  },
  {
   "cell_type": "markdown",
   "metadata": {},
   "source": [
    "Next, we created a few charts to see which variables might be useful in determining our dependent variable. We wanted to make sure there is a good enough variability of the responses that could be used to train and test our data. The pie charts listed below are all related to work factors that may contribute to mental health status."
   ]
  },
  {
   "cell_type": "markdown",
   "metadata": {},
   "source": [
    "#### Workplace and Mental Health:\n",
    "<ul>\n",
    "<li>Does Employer provide mental health benefits?</li>\n",
    "<li>Does mental health affect work?</li>\n",
    "<li>Does remote work contribute to mental health?</li>\n",
    "<li>Are you willing to discuss mental health with coworkers?</li>\n",
    "<li>Are you willing to discuss mental health with supervisors?</li>\n",
    "</ul>"
   ]
  },
  {
   "cell_type": "code",
   "execution_count": 7,
   "metadata": {},
   "outputs": [
    {
     "data": {
      "image/png": "[encoded data removed]",
      "text/plain": [
       "<Figure size 720x432 with 1 Axes>"
      ]
     },
     "metadata": {},
     "output_type": "display_data"
    }
   ],
   "source": [
    "plt.figure(figsize = (10,6))\n",
    "value = data['benefits'].value_counts()\n",
    "plt.pie(value, autopct = '%0.02f', labels = ['Yes', 'Don\\'t know', 'No'], startangle = 90, shadow = True)\n",
    "plt.title('Does employer provide mental health benefits?')\n",
    "plt.show()"
   ]
  },
  {
   "cell_type": "code",
   "execution_count": 8,
   "metadata": {},
   "outputs": [
    {
     "data": {
      "image/png": "[encoded data removed]",
      "text/plain": [
       "<Figure size 720x432 with 1 Axes>"
      ]
     },
     "metadata": {},
     "output_type": "display_data"
    }
   ],
   "source": [
    "plt.figure(figsize = (10,6))\n",
    "v = data['work_interfere'].value_counts()\n",
    "label = ['Sometimes', 'Never', 'Rarely', 'Often']\n",
    "plt.pie(v, labels = label, autopct = '%0.02f', radius = 1,shadow= True, startangle = 90)\n",
    "plt.title('mental health condition interferes with work?')\n",
    "plt.show()"
   ]
  },
  {
   "cell_type": "code",
   "execution_count": 9,
   "metadata": {},
   "outputs": [
    {
     "data": {
      "image/png": "[encoded data removed]",
      "text/plain": [
       "<Figure size 720x432 with 1 Axes>"
      ]
     },
     "metadata": {},
     "output_type": "display_data"
    }
   ],
   "source": [
    "plt.figure(figsize = (10,6))\n",
    "v = data['remote_work'].value_counts()\n",
    "plt.pie(v, autopct = '%0.02f', colors = ['r', 'b'], startangle = 90, labels= ['NO', 'Yes'])\n",
    "plt.title('Does remote work contribute')\n",
    "plt.show()"
   ]
  },
  {
   "cell_type": "markdown",
   "metadata": {},
   "source": [
    "It says mostly about sometimes which is like 47% of the majority. The surveyed people agree that their mental health somewhat \n",
    "affects their productivity at work. It is interesting to find that people face mental trauma and they cantofcourse separate \n",
    "that from their professional life like all the time. Remote work contributes to about 30%. People who are not more prone to \n",
    "work at home are usually bored and filled with anxiety leading to degradation in mental health."
   ]
  },
  {
   "cell_type": "code",
   "execution_count": 10,
   "metadata": {},
   "outputs": [
    {
     "data": {
      "image/png": "[encoded data removed]",
      "text/plain": [
       "<Figure size 720x432 with 1 Axes>"
      ]
     },
     "metadata": {},
     "output_type": "display_data"
    }
   ],
   "source": [
    "plt.figure(figsize = (10,6))\n",
    "v = data['coworkers'].value_counts()\n",
    "plt.pie(v, autopct = '%0.02f', colors = ['r', 'b'], startangle = 90, labels= ['No', 'Yes','Some of them'])\n",
    "plt.title('Willing to discuss the issue with your coworkers')\n",
    "plt.show()"
   ]
  },
  {
   "cell_type": "code",
   "execution_count": 11,
   "metadata": {},
   "outputs": [
    {
     "data": {
      "image/png": "[encoded data removed]",
      "text/plain": [
       "<Figure size 720x432 with 1 Axes>"
      ]
     },
     "metadata": {},
     "output_type": "display_data"
    }
   ],
   "source": [
    "plt.figure(figsize = (10,6))\n",
    "v = data['supervisor'].value_counts()\n",
    "plt.pie(v, autopct = '%0.02f', colors = ['r', 'b'], startangle = 90, labels= ['No', 'Yes','Some of them'])\n",
    "plt.title('Willing to discuss the issue with your supervisor')\n",
    "plt.show()"
   ]
  },
  {
   "cell_type": "markdown",
   "metadata": {},
   "source": [
    "21% of ppl are willing to discuss their issues with coworkers. People feel that sharing about their mental \n",
    "or physical health with employers would help them a bit but they are reluctant to share the same with their\n",
    "coworkers.They would prefer to share with only some of the coworkers. 31% of them feel ok to share it with\n",
    "supervisor keeping in mind that they might get some benefit or help from that."
   ]
  },
  {
   "cell_type": "markdown",
   "metadata": {},
   "source": [
    "## Family History and Treatment"
   ]
  },
  {
   "cell_type": "markdown",
   "metadata": {},
   "source": [
    "The graph below displays whether family history can affect a person seeking treatment. Genetics can be one of the main determinants that cause mental issues. As we mentioned in our objective, treatment will be one of our variables of interest."
   ]
  },
  {
   "cell_type": "code",
   "execution_count": 12,
   "metadata": {},
   "outputs": [
    {
     "data": {
      "text/plain": [
       "<seaborn.axisgrid.FacetGrid at 0x23bd095ac40>"
      ]
     },
     "execution_count": 12,
     "metadata": {},
     "output_type": "execute_result"
    },
    {
     "data": {
      "image/png": "[encoded data removed]",
      "text/plain": [
       "<Figure size 417.875x720 with 2 Axes>"
      ]
     },
     "metadata": {
      "needs_background": "light"
     },
     "output_type": "display_data"
    }
   ],
   "source": [
    "sns.catplot(x='seek_help', hue='treatment', row='family_history', kind='count', data=data, orient = 'horizontal')"
   ]
  },
  {
   "cell_type": "markdown",
   "metadata": {},
   "source": [
    "# Data Cleaning"
   ]
  },
  {
   "cell_type": "markdown",
   "metadata": {},
   "source": [
    "To train our neural network model, we wanted to make the values binary. Our dataset initially had a True/False and str values that we will convert to binary. There were also a lot of null values, specifically within the state, work_interfere, and comments columns. We will first drop the comments column as it will have too many unique values and not useful in training our data. For the rest of the columns that contain NA values, we will fill in those NA values with the responses with the **mode**."
   ]
  },
  {
   "cell_type": "code",
   "execution_count": 13,
   "metadata": {
    "scrolled": true
   },
   "outputs": [
    {
     "data": {
      "text/plain": [
       "Timestamp                       0\n",
       "Age                             0\n",
       "Gender                          0\n",
       "Country                         0\n",
       "state                         515\n",
       "self_employed                  18\n",
       "family_history                  0\n",
       "treatment                       0\n",
       "work_interfere                264\n",
       "no_employees                    0\n",
       "remote_work                     0\n",
       "tech_company                    0\n",
       "benefits                        0\n",
       "care_options                    0\n",
       "wellness_program                0\n",
       "seek_help                       0\n",
       "anonymity                       0\n",
       "leave                           0\n",
       "mental_health_consequence       0\n",
       "phys_health_consequence         0\n",
       "coworkers                       0\n",
       "supervisor                      0\n",
       "mental_health_interview         0\n",
       "phys_health_interview           0\n",
       "mental_vs_physical              0\n",
       "obs_consequence                 0\n",
       "comments                     1095\n",
       "dtype: int64"
      ]
     },
     "execution_count": 13,
     "metadata": {},
     "output_type": "execute_result"
    }
   ],
   "source": [
    "#check for missing values\n",
    "data.isna().sum()"
   ]
  },
  {
   "cell_type": "code",
   "execution_count": 14,
   "metadata": {},
   "outputs": [],
   "source": [
    "data = data.drop('comments',axis=1)"
   ]
  },
  {
   "cell_type": "code",
   "execution_count": 15,
   "metadata": {},
   "outputs": [
    {
     "data": {
      "text/plain": [
       "array([nan, 'Yes', 'No'], dtype=object)"
      ]
     },
     "execution_count": 15,
     "metadata": {},
     "output_type": "execute_result"
    }
   ],
   "source": [
    "data['self_employed'].unique()"
   ]
  },
  {
   "cell_type": "code",
   "execution_count": 16,
   "metadata": {},
   "outputs": [
    {
     "data": {
      "text/plain": [
       "0    No\n",
       "dtype: object"
      ]
     },
     "execution_count": 16,
     "metadata": {},
     "output_type": "execute_result"
    }
   ],
   "source": [
    "data['self_employed'].mode()"
   ]
  },
  {
   "cell_type": "code",
   "execution_count": 17,
   "metadata": {},
   "outputs": [],
   "source": [
    "data['self_employed']=data['self_employed'].fillna('No')"
   ]
  },
  {
   "cell_type": "code",
   "execution_count": 18,
   "metadata": {},
   "outputs": [
    {
     "data": {
      "text/plain": [
       "array(['Often', 'Rarely', 'Never', 'Sometimes', nan], dtype=object)"
      ]
     },
     "execution_count": 18,
     "metadata": {},
     "output_type": "execute_result"
    }
   ],
   "source": [
    "data['work_interfere'].unique()"
   ]
  },
  {
   "cell_type": "code",
   "execution_count": 19,
   "metadata": {},
   "outputs": [
    {
     "data": {
      "text/plain": [
       "0    Sometimes\n",
       "dtype: object"
      ]
     },
     "execution_count": 19,
     "metadata": {},
     "output_type": "execute_result"
    }
   ],
   "source": [
    "data['work_interfere'].mode()"
   ]
  },
  {
   "cell_type": "code",
   "execution_count": 20,
   "metadata": {},
   "outputs": [],
   "source": [
    "data['work_interfere']=data['work_interfere'].fillna('Sometimes')"
   ]
  },
  {
   "cell_type": "code",
   "execution_count": 21,
   "metadata": {},
   "outputs": [],
   "source": [
    "#data.timestamp convert to yr mnth day ? Dropping for now\n",
    "data = data.drop('Timestamp',axis=1)"
   ]
  },
  {
   "cell_type": "code",
   "execution_count": 22,
   "metadata": {},
   "outputs": [
    {
     "data": {
      "text/plain": [
       "Age                          53\n",
       "Gender                       49\n",
       "Country                      48\n",
       "state                        45\n",
       "self_employed                 2\n",
       "family_history                2\n",
       "treatment                     2\n",
       "work_interfere                4\n",
       "no_employees                  6\n",
       "remote_work                   2\n",
       "tech_company                  2\n",
       "benefits                      3\n",
       "care_options                  3\n",
       "wellness_program              3\n",
       "seek_help                     3\n",
       "anonymity                     3\n",
       "leave                         5\n",
       "mental_health_consequence     3\n",
       "phys_health_consequence       3\n",
       "coworkers                     3\n",
       "supervisor                    3\n",
       "mental_health_interview       3\n",
       "phys_health_interview         3\n",
       "mental_vs_physical            3\n",
       "obs_consequence               2\n",
       "dtype: int64"
      ]
     },
     "execution_count": 22,
     "metadata": {},
     "output_type": "execute_result"
    }
   ],
   "source": [
    "data.nunique()"
   ]
  },
  {
   "cell_type": "markdown",
   "metadata": {},
   "source": [
    "The Column Gender has a lot of unique values. Let's keep it simple by only defining female as 0, male as 1 and other gender responses as 2."
   ]
  },
  {
   "cell_type": "code",
   "execution_count": 23,
   "metadata": {},
   "outputs": [
    {
     "data": {
      "text/plain": [
       "{'Gender': ['Female',\n",
       "  'M',\n",
       "  'Male',\n",
       "  'male',\n",
       "  'female',\n",
       "  'm',\n",
       "  'Male-ish',\n",
       "  'maile',\n",
       "  'Trans-female',\n",
       "  'Cis Female',\n",
       "  'F',\n",
       "  'something kinda male?',\n",
       "  'Cis Male',\n",
       "  'Woman',\n",
       "  'f',\n",
       "  'Mal',\n",
       "  'Male (CIS)',\n",
       "  'queer/she/they',\n",
       "  'non-binary',\n",
       "  'Femake',\n",
       "  'woman',\n",
       "  'Make',\n",
       "  'Nah',\n",
       "  'All',\n",
       "  'Enby',\n",
       "  'fluid',\n",
       "  'Genderqueer',\n",
       "  'Female ',\n",
       "  'Androgyne',\n",
       "  'Agender',\n",
       "  'cis-female/femme',\n",
       "  'Guy (-ish) ^_^',\n",
       "  'male leaning androgynous',\n",
       "  'Male ',\n",
       "  'Man',\n",
       "  'Trans woman',\n",
       "  'msle',\n",
       "  'Neuter',\n",
       "  'Female (trans)',\n",
       "  'queer',\n",
       "  'Female (cis)',\n",
       "  'Mail',\n",
       "  'cis male',\n",
       "  'A little about you',\n",
       "  'Malr',\n",
       "  'p',\n",
       "  'femail',\n",
       "  'Cis Man',\n",
       "  'ostensibly male, unsure what that really means'],\n",
       " 'Country': ['United States',\n",
       "  'Canada',\n",
       "  'United Kingdom',\n",
       "  'Bulgaria',\n",
       "  'France',\n",
       "  'Portugal',\n",
       "  'Netherlands',\n",
       "  'Switzerland',\n",
       "  'Poland',\n",
       "  'Australia',\n",
       "  'Germany',\n",
       "  'Russia',\n",
       "  'Mexico',\n",
       "  'Brazil',\n",
       "  'Slovenia',\n",
       "  'Costa Rica',\n",
       "  'Austria',\n",
       "  'Ireland',\n",
       "  'India',\n",
       "  'South Africa',\n",
       "  'Italy',\n",
       "  'Sweden',\n",
       "  'Colombia',\n",
       "  'Latvia',\n",
       "  'Romania',\n",
       "  'Belgium',\n",
       "  'New Zealand',\n",
       "  'Zimbabwe',\n",
       "  'Spain',\n",
       "  'Finland',\n",
       "  'Uruguay',\n",
       "  'Israel',\n",
       "  'Bosnia and Herzegovina',\n",
       "  'Hungary',\n",
       "  'Singapore',\n",
       "  'Japan',\n",
       "  'Nigeria',\n",
       "  'Croatia',\n",
       "  'Norway',\n",
       "  'Thailand',\n",
       "  'Denmark',\n",
       "  'Bahamas, The',\n",
       "  'Greece',\n",
       "  'Moldova',\n",
       "  'Georgia',\n",
       "  'China',\n",
       "  'Czech Republic',\n",
       "  'Philippines'],\n",
       " 'state': ['IL',\n",
       "  'IN',\n",
       "  nan,\n",
       "  'TX',\n",
       "  'TN',\n",
       "  'MI',\n",
       "  'OH',\n",
       "  'CA',\n",
       "  'CT',\n",
       "  'MD',\n",
       "  'NY',\n",
       "  'NC',\n",
       "  'MA',\n",
       "  'IA',\n",
       "  'PA',\n",
       "  'WA',\n",
       "  'WI',\n",
       "  'UT',\n",
       "  'NM',\n",
       "  'OR',\n",
       "  'FL',\n",
       "  'MN',\n",
       "  'MO',\n",
       "  'AZ',\n",
       "  'CO',\n",
       "  'GA',\n",
       "  'DC',\n",
       "  'NE',\n",
       "  'WV',\n",
       "  'OK',\n",
       "  'KS',\n",
       "  'VA',\n",
       "  'NH',\n",
       "  'KY',\n",
       "  'AL',\n",
       "  'NV',\n",
       "  'NJ',\n",
       "  'SC',\n",
       "  'VT',\n",
       "  'SD',\n",
       "  'ID',\n",
       "  'MS',\n",
       "  'RI',\n",
       "  'WY',\n",
       "  'LA',\n",
       "  'ME'],\n",
       " 'self_employed': ['No', 'Yes'],\n",
       " 'family_history': ['No', 'Yes'],\n",
       " 'treatment': ['Yes', 'No'],\n",
       " 'work_interfere': ['Often', 'Rarely', 'Never', 'Sometimes'],\n",
       " 'no_employees': ['6-25',\n",
       "  'More than 1000',\n",
       "  '26-100',\n",
       "  '100-500',\n",
       "  '1-5',\n",
       "  '500-1000'],\n",
       " 'remote_work': ['No', 'Yes'],\n",
       " 'tech_company': ['Yes', 'No'],\n",
       " 'benefits': ['Yes', \"Don't know\", 'No'],\n",
       " 'care_options': ['Not sure', 'No', 'Yes'],\n",
       " 'wellness_program': ['No', \"Don't know\", 'Yes'],\n",
       " 'seek_help': ['Yes', \"Don't know\", 'No'],\n",
       " 'anonymity': ['Yes', \"Don't know\", 'No'],\n",
       " 'leave': ['Somewhat easy',\n",
       "  \"Don't know\",\n",
       "  'Somewhat difficult',\n",
       "  'Very difficult',\n",
       "  'Very easy'],\n",
       " 'mental_health_consequence': ['No', 'Maybe', 'Yes'],\n",
       " 'phys_health_consequence': ['No', 'Yes', 'Maybe'],\n",
       " 'coworkers': ['Some of them', 'No', 'Yes'],\n",
       " 'supervisor': ['Yes', 'No', 'Some of them'],\n",
       " 'mental_health_interview': ['No', 'Yes', 'Maybe'],\n",
       " 'phys_health_interview': ['Maybe', 'No', 'Yes'],\n",
       " 'mental_vs_physical': ['Yes', \"Don't know\", 'No'],\n",
       " 'obs_consequence': ['No', 'Yes']}"
      ]
     },
     "execution_count": 23,
     "metadata": {},
     "output_type": "execute_result"
    }
   ],
   "source": [
    "{column: list(data[column].unique()) for column in data.select_dtypes('object').columns}"
   ]
  },
  {
   "cell_type": "code",
   "execution_count": 24,
   "metadata": {},
   "outputs": [],
   "source": [
    "def encode_gender(x):\n",
    "    if x.lower()[0] == 'f':\n",
    "        return 0\n",
    "    elif x.lower()[0] == 'm':\n",
    "        return 1\n",
    "    else:\n",
    "        return 2"
   ]
  },
  {
   "cell_type": "code",
   "execution_count": 25,
   "metadata": {},
   "outputs": [],
   "source": [
    "data['Gender'] = data['Gender'].apply(encode_gender)"
   ]
  },
  {
   "cell_type": "markdown",
   "metadata": {},
   "source": [
    "#### Next, we are left with binary columns (yes/no), columns with string data and columns where there are multiple answer options (Yes/No/Maybe or Yes/No/Some of them etc). We will perform a clean up on these columns."
   ]
  },
  {
   "cell_type": "markdown",
   "metadata": {},
   "source": [
    "Our target variable for hypothesis 1 is treatment. "
   ]
  },
  {
   "cell_type": "code",
   "execution_count": 26,
   "metadata": {},
   "outputs": [],
   "source": [
    "target = 'treatment'\n",
    "\n",
    "binary_features = [\n",
    "    'self_employed',\n",
    "    'family_history',\n",
    "    'remote_work',\n",
    "    'tech_company',\n",
    "    'obs_consequence'\n",
    "]\n",
    "\n",
    "ordinal_features = [\n",
    "    'work_interfere',\n",
    "    'no_employees'\n",
    "]\n",
    "\n",
    "nominal_features = [\n",
    "    'Country',\n",
    "    'state',\n",
    "    'benefits',\n",
    "    'care_options',\n",
    "    'wellness_program',\n",
    "    'seek_help',\n",
    "    'anonymity',\n",
    "    'leave',\n",
    "    'mental_health_consequence',\n",
    "    'phys_health_consequence',\n",
    "    'coworkers',\n",
    "    'supervisor',\n",
    "    'mental_health_interview',\n",
    "    'phys_health_interview',\n",
    "    'mental_vs_physical'\n",
    "]"
   ]
  },
  {
   "cell_type": "code",
   "execution_count": 27,
   "metadata": {},
   "outputs": [],
   "source": [
    "#Defining a function to convert binary_features to 0 and 1\n",
    "def binary_encode(df, cols, pos_values):\n",
    "    df = df.copy()\n",
    "    for col, pos_value in zip(cols, pos_values):\n",
    "        df[col] = df[col].apply(lambda x: 1 if x == pos_value else 0)\n",
    "    return df"
   ]
  },
  {
   "cell_type": "code",
   "execution_count": 28,
   "metadata": {},
   "outputs": [],
   "source": [
    "#Defining a function to convert ordinal_features to 0-3 and 0-5 based on the recorded responses\n",
    "def ordinal_encode(df, cols, orderings):\n",
    "    df = df.copy()\n",
    "    for col, ordering in zip(cols, orderings):\n",
    "        df[col] = df[col].apply(lambda x: ordering.index(x))\n",
    "    return df"
   ]
  },
  {
   "cell_type": "code",
   "execution_count": 29,
   "metadata": {},
   "outputs": [],
   "source": [
    "#Defining a function to converting nominal_features to dummy columns\n",
    "def nominal_encode(df, cols, prefixes):\n",
    "    df = df.copy()\n",
    "    for col, prefix in zip(cols, prefixes):\n",
    "        dummies = pd.get_dummies(df[col], prefix)\n",
    "        df = pd.concat([df, dummies], axis=1)\n",
    "        df = df.drop(col, axis=1)\n",
    "    return df"
   ]
  },
  {
   "cell_type": "code",
   "execution_count": 30,
   "metadata": {},
   "outputs": [],
   "source": [
    "binary_pos_values = ['Yes' for feature in binary_features]"
   ]
  },
  {
   "cell_type": "code",
   "execution_count": 31,
   "metadata": {},
   "outputs": [],
   "source": [
    "ordinal_orderings = [\n",
    "    ['Never', 'Rarely', 'Sometimes', 'Often'],\n",
    "    ['1-5', '6-25', '26-100', '100-500', '500-1000', 'More than 1000']\n",
    "]"
   ]
  },
  {
   "cell_type": "code",
   "execution_count": 32,
   "metadata": {},
   "outputs": [],
   "source": [
    "nominal_prefixes = [\n",
    "    'co',\n",
    "    'st',\n",
    "    're',\n",
    "    'be',\n",
    "    'ca',\n",
    "    'we',\n",
    "    'se',\n",
    "    'an',\n",
    "    'le',\n",
    "    'mc',\n",
    "    'ph',\n",
    "    'cw',\n",
    "    'su',\n",
    "    'mi',\n",
    "    'pi',\n",
    "    'mp'\n",
    "]"
   ]
  },
  {
   "cell_type": "code",
   "execution_count": 33,
   "metadata": {},
   "outputs": [],
   "source": [
    "data = binary_encode(\n",
    "    data,\n",
    "    cols=binary_features,\n",
    "    pos_values=binary_pos_values\n",
    ")"
   ]
  },
  {
   "cell_type": "code",
   "execution_count": 34,
   "metadata": {},
   "outputs": [],
   "source": [
    "data = ordinal_encode(\n",
    "    data,\n",
    "    cols=ordinal_features,\n",
    "    orderings=ordinal_orderings\n",
    ")"
   ]
  },
  {
   "cell_type": "code",
   "execution_count": 35,
   "metadata": {},
   "outputs": [],
   "source": [
    "data = nominal_encode(\n",
    "    data,\n",
    "    cols=nominal_features,\n",
    "    prefixes=nominal_prefixes\n",
    ")\n"
   ]
  },
  {
   "cell_type": "code",
   "execution_count": 36,
   "metadata": {},
   "outputs": [],
   "source": [
    "data = binary_encode(data, cols=['treatment'], pos_values=['Yes'])"
   ]
  },
  {
   "cell_type": "code",
   "execution_count": 37,
   "metadata": {},
   "outputs": [
    {
     "name": "stdout",
     "output_type": "stream",
     "text": [
      "Remaining non-numeric columns: 0\n"
     ]
    }
   ],
   "source": [
    "print(\"Remaining non-numeric columns:\", len(data.select_dtypes('object').columns))"
   ]
  },
  {
   "cell_type": "code",
   "execution_count": 38,
   "metadata": {},
   "outputs": [
    {
     "name": "stdout",
     "output_type": "stream",
     "text": [
      "Remaining missing values: 0\n"
     ]
    }
   ],
   "source": [
    "print(\"Remaining missing values:\", data.isna().sum().sum())"
   ]
  },
  {
   "cell_type": "code",
   "execution_count": 39,
   "metadata": {},
   "outputs": [
    {
     "data": {
      "text/html": [
       "<div>\n",
       "<style scoped>\n",
       "    .dataframe tbody tr th:only-of-type {\n",
       "        vertical-align: middle;\n",
       "    }\n",
       "\n",
       "    .dataframe tbody tr th {\n",
       "        vertical-align: top;\n",
       "    }\n",
       "\n",
       "    .dataframe thead th {\n",
       "        text-align: right;\n",
       "    }\n",
       "</style>\n",
       "<table border=\"1\" class=\"dataframe\">\n",
       "  <thead>\n",
       "    <tr style=\"text-align: right;\">\n",
       "      <th></th>\n",
       "      <th>Age</th>\n",
       "      <th>Gender</th>\n",
       "      <th>self_employed</th>\n",
       "      <th>family_history</th>\n",
       "      <th>treatment</th>\n",
       "      <th>work_interfere</th>\n",
       "      <th>no_employees</th>\n",
       "      <th>remote_work</th>\n",
       "      <th>tech_company</th>\n",
       "      <th>obs_consequence</th>\n",
       "      <th>...</th>\n",
       "      <th>cw_Yes</th>\n",
       "      <th>su_Maybe</th>\n",
       "      <th>su_No</th>\n",
       "      <th>su_Yes</th>\n",
       "      <th>mi_Maybe</th>\n",
       "      <th>mi_No</th>\n",
       "      <th>mi_Yes</th>\n",
       "      <th>pi_Don't know</th>\n",
       "      <th>pi_No</th>\n",
       "      <th>pi_Yes</th>\n",
       "    </tr>\n",
       "  </thead>\n",
       "  <tbody>\n",
       "    <tr>\n",
       "      <th>0</th>\n",
       "      <td>37</td>\n",
       "      <td>0</td>\n",
       "      <td>0</td>\n",
       "      <td>0</td>\n",
       "      <td>1</td>\n",
       "      <td>3</td>\n",
       "      <td>1</td>\n",
       "      <td>0</td>\n",
       "      <td>1</td>\n",
       "      <td>0</td>\n",
       "      <td>...</td>\n",
       "      <td>1</td>\n",
       "      <td>0</td>\n",
       "      <td>1</td>\n",
       "      <td>0</td>\n",
       "      <td>1</td>\n",
       "      <td>0</td>\n",
       "      <td>0</td>\n",
       "      <td>0</td>\n",
       "      <td>0</td>\n",
       "      <td>1</td>\n",
       "    </tr>\n",
       "    <tr>\n",
       "      <th>1</th>\n",
       "      <td>44</td>\n",
       "      <td>1</td>\n",
       "      <td>0</td>\n",
       "      <td>0</td>\n",
       "      <td>0</td>\n",
       "      <td>1</td>\n",
       "      <td>5</td>\n",
       "      <td>0</td>\n",
       "      <td>0</td>\n",
       "      <td>0</td>\n",
       "      <td>...</td>\n",
       "      <td>0</td>\n",
       "      <td>0</td>\n",
       "      <td>1</td>\n",
       "      <td>0</td>\n",
       "      <td>0</td>\n",
       "      <td>1</td>\n",
       "      <td>0</td>\n",
       "      <td>1</td>\n",
       "      <td>0</td>\n",
       "      <td>0</td>\n",
       "    </tr>\n",
       "    <tr>\n",
       "      <th>2</th>\n",
       "      <td>32</td>\n",
       "      <td>1</td>\n",
       "      <td>0</td>\n",
       "      <td>0</td>\n",
       "      <td>0</td>\n",
       "      <td>1</td>\n",
       "      <td>1</td>\n",
       "      <td>0</td>\n",
       "      <td>1</td>\n",
       "      <td>0</td>\n",
       "      <td>...</td>\n",
       "      <td>1</td>\n",
       "      <td>0</td>\n",
       "      <td>0</td>\n",
       "      <td>1</td>\n",
       "      <td>0</td>\n",
       "      <td>0</td>\n",
       "      <td>1</td>\n",
       "      <td>0</td>\n",
       "      <td>1</td>\n",
       "      <td>0</td>\n",
       "    </tr>\n",
       "    <tr>\n",
       "      <th>3</th>\n",
       "      <td>31</td>\n",
       "      <td>1</td>\n",
       "      <td>0</td>\n",
       "      <td>1</td>\n",
       "      <td>1</td>\n",
       "      <td>3</td>\n",
       "      <td>2</td>\n",
       "      <td>0</td>\n",
       "      <td>1</td>\n",
       "      <td>1</td>\n",
       "      <td>...</td>\n",
       "      <td>0</td>\n",
       "      <td>1</td>\n",
       "      <td>0</td>\n",
       "      <td>0</td>\n",
       "      <td>1</td>\n",
       "      <td>0</td>\n",
       "      <td>0</td>\n",
       "      <td>0</td>\n",
       "      <td>1</td>\n",
       "      <td>0</td>\n",
       "    </tr>\n",
       "    <tr>\n",
       "      <th>4</th>\n",
       "      <td>31</td>\n",
       "      <td>1</td>\n",
       "      <td>0</td>\n",
       "      <td>0</td>\n",
       "      <td>0</td>\n",
       "      <td>0</td>\n",
       "      <td>3</td>\n",
       "      <td>1</td>\n",
       "      <td>1</td>\n",
       "      <td>0</td>\n",
       "      <td>...</td>\n",
       "      <td>1</td>\n",
       "      <td>0</td>\n",
       "      <td>0</td>\n",
       "      <td>1</td>\n",
       "      <td>0</td>\n",
       "      <td>0</td>\n",
       "      <td>1</td>\n",
       "      <td>1</td>\n",
       "      <td>0</td>\n",
       "      <td>0</td>\n",
       "    </tr>\n",
       "  </tbody>\n",
       "</table>\n",
       "<p>5 rows × 144 columns</p>\n",
       "</div>"
      ],
      "text/plain": [
       "   Age  Gender  self_employed  family_history  treatment  work_interfere  \\\n",
       "0   37       0              0               0          1               3   \n",
       "1   44       1              0               0          0               1   \n",
       "2   32       1              0               0          0               1   \n",
       "3   31       1              0               1          1               3   \n",
       "4   31       1              0               0          0               0   \n",
       "\n",
       "   no_employees  remote_work  tech_company  obs_consequence  ...  cw_Yes  \\\n",
       "0             1            0             1                0  ...       1   \n",
       "1             5            0             0                0  ...       0   \n",
       "2             1            0             1                0  ...       1   \n",
       "3             2            0             1                1  ...       0   \n",
       "4             3            1             1                0  ...       1   \n",
       "\n",
       "   su_Maybe  su_No  su_Yes  mi_Maybe  mi_No  mi_Yes  pi_Don't know  pi_No  \\\n",
       "0         0      1       0         1      0       0              0      0   \n",
       "1         0      1       0         0      1       0              1      0   \n",
       "2         0      0       1         0      0       1              0      1   \n",
       "3         1      0       0         1      0       0              0      1   \n",
       "4         0      0       1         0      0       1              1      0   \n",
       "\n",
       "   pi_Yes  \n",
       "0       1  \n",
       "1       0  \n",
       "2       0  \n",
       "3       0  \n",
       "4       0  \n",
       "\n",
       "[5 rows x 144 columns]"
      ]
     },
     "execution_count": 39,
     "metadata": {},
     "output_type": "execute_result"
    }
   ],
   "source": [
    "data.head()"
   ]
  },
  {
   "cell_type": "markdown",
   "metadata": {},
   "source": [
    "# Building our ANN Model"
   ]
  },
  {
   "cell_type": "markdown",
   "metadata": {},
   "source": [
    "**HYPOTHESIS 1:** Based on survey responses, has the given subject sought treatment in the past?\n",
    "\n",
    "* 1 if subject have seeked treatment\n",
    "* 0 if subject did not seek treatment"
   ]
  },
  {
   "cell_type": "markdown",
   "metadata": {},
   "source": [
    "This hypothesis is significant because being able to predict those that are most likely to seek treatment can present several advantages to tech companies. First, these companies are able to budget for certain mental health benefits for employees and second, they can target the right employees when offering resources and information on mental health thus improving company efficiency. "
   ]
  },
  {
   "cell_type": "markdown",
   "metadata": {},
   "source": [
    "We will use 'treatment' as our dependent variable when building our ANN model. The data is split 70/30 train & test.  Since our explanatory variables are now all binary and in matrix, the neural network can recognize the inputs. Next we will split the model into 3 different sets:\n",
    "* training set: train model\n",
    "* validation set: check overfitting of model\n",
    "* testing set: see how well model does overall"
   ]
  },
  {
   "cell_type": "code",
   "execution_count": 39,
   "metadata": {},
   "outputs": [],
   "source": [
    "y = data['treatment'].copy()\n",
    "X = data.drop('treatment', axis=1).copy()"
   ]
  },
  {
   "cell_type": "code",
   "execution_count": 40,
   "metadata": {},
   "outputs": [],
   "source": [
    "scaler = StandardScaler()\n",
    "X = scaler.fit_transform(X)"
   ]
  },
  {
   "cell_type": "code",
   "execution_count": 41,
   "metadata": {},
   "outputs": [],
   "source": [
    "X_train, X_test, y_train, y_test = train_test_split(X, y, train_size=0.7)"
   ]
  },
  {
   "cell_type": "markdown",
   "metadata": {},
   "source": [
    "## Model Description\n",
    "\n",
    "To build our Neural Network, we used the Keras model. This model takes an input of 1024 nodes. For this model, we use the <font color=red>relu</font> activation function. \n",
    "Since this is a classification model, where we want to see if the survey respondent seeked treatment or not, the ouput will be 1 or 0. The ouput will use the <font color=blue>Sigmoid</font> activation function.\n",
    "\n",
    "Next, we will compile the model using the **\"adam\"** optimizer. By compiling our model we can use the loss function \"binary_crossentropy\". Lastly we can  analyze our algorithm training by using metrics.\n",
    "\n",
    "After we have put in all information, we can fit the data by defining a new variable **\"history\"**. We use epochs = 50 as how many times we want to repeat the training.\n",
    "\n",
    "\n"
   ]
  },
  {
   "cell_type": "markdown",
   "metadata": {},
   "source": [
    "### Results\n",
    "\n",
    "Through looking at the training trials, we can see the results are pretty consistent. By the end of training, loss very low is or almost equal to zero. \n",
    "\n",
    "Similarly, the accuracy is more or less perfect.\n",
    "\n",
    "Validation loss is at around 1.8. We would like to reduce this but is still pretty low.\n",
    "\n",
    "This means our model has a good feel for the data for testing."
   ]
  },
  {
   "cell_type": "code",
   "execution_count": 42,
   "metadata": {},
   "outputs": [
    {
     "name": "stdout",
     "output_type": "stream",
     "text": [
      "Epoch 1/50\n",
      "11/11 [==============================] - 2s 92ms/step - loss: 0.7048 - accuracy: 0.5790 - auc: 0.5854 - val_loss: 0.6338 - val_accuracy: 0.6836 - val_auc: 0.7738\n",
      "Epoch 2/50\n",
      "11/11 [==============================] - 0s 9ms/step - loss: 0.4461 - accuracy: 0.7830 - auc: 0.8788 - val_loss: 0.6888 - val_accuracy: 0.7062 - val_auc: 0.7595\n",
      "Epoch 3/50\n",
      "11/11 [==============================] - 0s 8ms/step - loss: 0.3584 - accuracy: 0.8413 - auc: 0.9244 - val_loss: 0.7482 - val_accuracy: 0.6893 - val_auc: 0.7422\n",
      "Epoch 4/50\n",
      "11/11 [==============================] - 0s 8ms/step - loss: 0.2656 - accuracy: 0.9065 - auc: 0.9666 - val_loss: 0.7690 - val_accuracy: 0.7288 - val_auc: 0.7559\n",
      "Epoch 5/50\n",
      "11/11 [==============================] - 0s 8ms/step - loss: 0.1858 - accuracy: 0.9472 - auc: 0.9901 - val_loss: 0.8732 - val_accuracy: 0.6949 - val_auc: 0.7344\n",
      "Epoch 6/50\n",
      "11/11 [==============================] - 0s 8ms/step - loss: 0.1437 - accuracy: 0.9696 - auc: 0.9934 - val_loss: 0.9776 - val_accuracy: 0.7006 - val_auc: 0.7399\n",
      "Epoch 7/50\n",
      "11/11 [==============================] - 0s 8ms/step - loss: 0.1030 - accuracy: 0.9774 - auc: 0.9985 - val_loss: 1.0992 - val_accuracy: 0.6667 - val_auc: 0.7245\n",
      "Epoch 8/50\n",
      "11/11 [==============================] - 0s 8ms/step - loss: 0.0545 - accuracy: 0.9939 - auc: 0.9998 - val_loss: 1.1747 - val_accuracy: 0.6836 - val_auc: 0.7356\n",
      "Epoch 9/50\n",
      "11/11 [==============================] - 0s 8ms/step - loss: 0.0313 - accuracy: 1.0000 - auc: 1.0000 - val_loss: 1.3357 - val_accuracy: 0.6554 - val_auc: 0.7306\n",
      "Epoch 10/50\n",
      "11/11 [==============================] - 0s 8ms/step - loss: 0.0205 - accuracy: 1.0000 - auc: 1.0000 - val_loss: 1.5566 - val_accuracy: 0.6893 - val_auc: 0.7228\n",
      "Epoch 11/50\n",
      "11/11 [==============================] - 0s 8ms/step - loss: 0.0116 - accuracy: 1.0000 - auc: 1.0000 - val_loss: 1.6189 - val_accuracy: 0.6497 - val_auc: 0.7234\n",
      "Epoch 12/50\n",
      "11/11 [==============================] - 0s 8ms/step - loss: 0.0078 - accuracy: 1.0000 - auc: 1.0000 - val_loss: 1.6310 - val_accuracy: 0.6554 - val_auc: 0.7261\n",
      "Epoch 13/50\n",
      "11/11 [==============================] - 0s 8ms/step - loss: 0.0072 - accuracy: 1.0000 - auc: 1.0000 - val_loss: 1.6423 - val_accuracy: 0.6723 - val_auc: 0.7263\n",
      "Epoch 14/50\n",
      "11/11 [==============================] - 0s 8ms/step - loss: 0.0071 - accuracy: 1.0000 - auc: 1.0000 - val_loss: 1.6491 - val_accuracy: 0.6780 - val_auc: 0.7242\n",
      "Epoch 15/50\n",
      "11/11 [==============================] - 0s 8ms/step - loss: 0.0064 - accuracy: 1.0000 - auc: 1.0000 - val_loss: 1.6517 - val_accuracy: 0.6723 - val_auc: 0.7236\n",
      "Epoch 16/50\n",
      "11/11 [==============================] - 0s 8ms/step - loss: 0.0065 - accuracy: 1.0000 - auc: 1.0000 - val_loss: 1.6586 - val_accuracy: 0.6723 - val_auc: 0.7245\n",
      "Epoch 17/50\n",
      "11/11 [==============================] - 0s 8ms/step - loss: 0.0066 - accuracy: 1.0000 - auc: 1.0000 - val_loss: 1.6703 - val_accuracy: 0.6780 - val_auc: 0.7247\n",
      "Epoch 18/50\n",
      "11/11 [==============================] - 0s 8ms/step - loss: 0.0060 - accuracy: 1.0000 - auc: 1.0000 - val_loss: 1.6776 - val_accuracy: 0.6780 - val_auc: 0.7245\n",
      "Epoch 19/50\n",
      "11/11 [==============================] - 0s 7ms/step - loss: 0.0058 - accuracy: 1.0000 - auc: 1.0000 - val_loss: 1.6869 - val_accuracy: 0.6780 - val_auc: 0.7249\n",
      "Epoch 20/50\n",
      "11/11 [==============================] - 0s 8ms/step - loss: 0.0053 - accuracy: 1.0000 - auc: 1.0000 - val_loss: 1.6924 - val_accuracy: 0.6780 - val_auc: 0.7256\n",
      "Epoch 21/50\n",
      "11/11 [==============================] - 0s 8ms/step - loss: 0.0054 - accuracy: 1.0000 - auc: 1.0000 - val_loss: 1.7025 - val_accuracy: 0.6780 - val_auc: 0.7267\n",
      "Epoch 22/50\n",
      "11/11 [==============================] - 0s 8ms/step - loss: 0.0057 - accuracy: 1.0000 - auc: 1.0000 - val_loss: 1.7037 - val_accuracy: 0.6780 - val_auc: 0.7269\n",
      "Epoch 23/50\n",
      "11/11 [==============================] - 0s 7ms/step - loss: 0.0051 - accuracy: 1.0000 - auc: 1.0000 - val_loss: 1.7046 - val_accuracy: 0.6780 - val_auc: 0.7270\n",
      "Epoch 24/50\n",
      "11/11 [==============================] - 0s 7ms/step - loss: 0.0054 - accuracy: 1.0000 - auc: 1.0000 - val_loss: 1.7057 - val_accuracy: 0.6780 - val_auc: 0.7270\n",
      "Epoch 25/50\n",
      "11/11 [==============================] - 0s 7ms/step - loss: 0.0055 - accuracy: 1.0000 - auc: 1.0000 - val_loss: 1.7064 - val_accuracy: 0.6780 - val_auc: 0.7266\n",
      "Epoch 26/50\n",
      "11/11 [==============================] - 0s 7ms/step - loss: 0.0053 - accuracy: 1.0000 - auc: 1.0000 - val_loss: 1.7071 - val_accuracy: 0.6780 - val_auc: 0.7267\n",
      "Epoch 27/50\n",
      "11/11 [==============================] - 0s 7ms/step - loss: 0.0048 - accuracy: 1.0000 - auc: 1.0000 - val_loss: 1.7082 - val_accuracy: 0.6780 - val_auc: 0.7265\n",
      "Epoch 28/50\n",
      "11/11 [==============================] - 0s 7ms/step - loss: 0.0058 - accuracy: 1.0000 - auc: 1.0000 - val_loss: 1.7093 - val_accuracy: 0.6780 - val_auc: 0.7264\n",
      "Epoch 29/50\n",
      "11/11 [==============================] - 0s 7ms/step - loss: 0.0045 - accuracy: 1.0000 - auc: 1.0000 - val_loss: 1.7104 - val_accuracy: 0.6780 - val_auc: 0.7262\n",
      "Epoch 30/50\n",
      "11/11 [==============================] - 0s 8ms/step - loss: 0.0050 - accuracy: 1.0000 - auc: 1.0000 - val_loss: 1.7114 - val_accuracy: 0.6780 - val_auc: 0.7263\n",
      "Epoch 31/50\n",
      "11/11 [==============================] - 0s 8ms/step - loss: 0.0049 - accuracy: 1.0000 - auc: 1.0000 - val_loss: 1.7126 - val_accuracy: 0.6780 - val_auc: 0.7263\n",
      "Epoch 32/50\n",
      "11/11 [==============================] - 0s 7ms/step - loss: 0.0053 - accuracy: 1.0000 - auc: 1.0000 - val_loss: 1.7127 - val_accuracy: 0.6780 - val_auc: 0.7263\n",
      "Epoch 33/50\n",
      "11/11 [==============================] - 0s 7ms/step - loss: 0.0049 - accuracy: 1.0000 - auc: 1.0000 - val_loss: 1.7128 - val_accuracy: 0.6780 - val_auc: 0.7263\n",
      "Epoch 34/50\n",
      "11/11 [==============================] - 0s 7ms/step - loss: 0.0051 - accuracy: 1.0000 - auc: 1.0000 - val_loss: 1.7129 - val_accuracy: 0.6780 - val_auc: 0.7263\n",
      "Epoch 35/50\n",
      "11/11 [==============================] - 0s 7ms/step - loss: 0.0053 - accuracy: 1.0000 - auc: 1.0000 - val_loss: 1.7130 - val_accuracy: 0.6780 - val_auc: 0.7263\n",
      "Epoch 36/50\n",
      "11/11 [==============================] - 0s 7ms/step - loss: 0.0050 - accuracy: 1.0000 - auc: 1.0000 - val_loss: 1.7132 - val_accuracy: 0.6780 - val_auc: 0.7263\n",
      "Epoch 37/50\n",
      "11/11 [==============================] - 0s 7ms/step - loss: 0.0055 - accuracy: 1.0000 - auc: 1.0000 - val_loss: 1.7132 - val_accuracy: 0.6780 - val_auc: 0.7263\n",
      "Epoch 38/50\n",
      "11/11 [==============================] - 0s 7ms/step - loss: 0.0057 - accuracy: 1.0000 - auc: 1.0000 - val_loss: 1.7134 - val_accuracy: 0.6780 - val_auc: 0.7263\n",
      "Epoch 39/50\n",
      "11/11 [==============================] - 0s 7ms/step - loss: 0.0048 - accuracy: 1.0000 - auc: 1.0000 - val_loss: 1.7135 - val_accuracy: 0.6780 - val_auc: 0.7263\n",
      "Epoch 40/50\n",
      "11/11 [==============================] - 0s 7ms/step - loss: 0.0047 - accuracy: 1.0000 - auc: 1.0000 - val_loss: 1.7136 - val_accuracy: 0.6780 - val_auc: 0.7263\n",
      "Epoch 41/50\n",
      "11/11 [==============================] - 0s 7ms/step - loss: 0.0047 - accuracy: 1.0000 - auc: 1.0000 - val_loss: 1.7137 - val_accuracy: 0.6780 - val_auc: 0.7265\n",
      "Epoch 42/50\n",
      "11/11 [==============================] - 0s 7ms/step - loss: 0.0053 - accuracy: 1.0000 - auc: 1.0000 - val_loss: 1.7137 - val_accuracy: 0.6780 - val_auc: 0.7265\n",
      "Epoch 43/50\n",
      "11/11 [==============================] - 0s 7ms/step - loss: 0.0050 - accuracy: 1.0000 - auc: 1.0000 - val_loss: 1.7137 - val_accuracy: 0.6780 - val_auc: 0.7265\n",
      "Epoch 44/50\n",
      "11/11 [==============================] - 0s 7ms/step - loss: 0.0055 - accuracy: 1.0000 - auc: 1.0000 - val_loss: 1.7137 - val_accuracy: 0.6780 - val_auc: 0.7265\n",
      "Epoch 45/50\n",
      "11/11 [==============================] - 0s 7ms/step - loss: 0.0046 - accuracy: 1.0000 - auc: 1.0000 - val_loss: 1.7138 - val_accuracy: 0.6780 - val_auc: 0.7265\n",
      "Epoch 46/50\n",
      "11/11 [==============================] - 0s 7ms/step - loss: 0.0056 - accuracy: 1.0000 - auc: 1.0000 - val_loss: 1.7138 - val_accuracy: 0.6780 - val_auc: 0.7265\n",
      "Epoch 47/50\n",
      "11/11 [==============================] - 0s 7ms/step - loss: 0.0054 - accuracy: 1.0000 - auc: 1.0000 - val_loss: 1.7138 - val_accuracy: 0.6780 - val_auc: 0.7265\n",
      "Epoch 48/50\n",
      "11/11 [==============================] - 0s 7ms/step - loss: 0.0051 - accuracy: 1.0000 - auc: 1.0000 - val_loss: 1.7138 - val_accuracy: 0.6780 - val_auc: 0.7265\n",
      "Epoch 49/50\n",
      "11/11 [==============================] - 0s 7ms/step - loss: 0.0046 - accuracy: 1.0000 - auc: 1.0000 - val_loss: 1.7138 - val_accuracy: 0.6780 - val_auc: 0.7265\n",
      "Epoch 50/50\n",
      "11/11 [==============================] - 0s 8ms/step - loss: 0.0052 - accuracy: 1.0000 - auc: 1.0000 - val_loss: 1.7138 - val_accuracy: 0.6780 - val_auc: 0.7265\n"
     ]
    }
   ],
   "source": [
    "inputs = tf.keras.Input(shape=(X.shape[1],))\n",
    "x = tf.keras.layers.Dense(1024, activation='relu')(inputs)\n",
    "x = tf.keras.layers.Dense(1024, activation='relu')(x)\n",
    "outputs = tf.keras.layers.Dense(1, activation='sigmoid')(x)\n",
    "\n",
    "model = tf.keras.Model(inputs, outputs)\n",
    "\n",
    "\n",
    "model.compile(\n",
    "    optimizer='adam',\n",
    "    loss='binary_crossentropy',\n",
    "    metrics=[\n",
    "        'accuracy',\n",
    "        tf.keras.metrics.AUC(name='auc')\n",
    "    ]\n",
    ")\n",
    "\n",
    "batch_size = 64\n",
    "epochs = 50\n",
    "\n",
    "history = model.fit(\n",
    "    X_train,\n",
    "    y_train,\n",
    "    validation_split=0.2, #validation set\n",
    "    batch_size=batch_size,\n",
    "    epochs=epochs,\n",
    "    callbacks=[\n",
    "        tf.keras.callbacks.ReduceLROnPlateau()\n",
    "    ]\n",
    ")"
   ]
  },
  {
   "cell_type": "code",
   "execution_count": 43,
   "metadata": {
    "scrolled": true
   },
   "outputs": [
    {
     "data": {
      "image/png": "[encoded data removed]",
      "text/plain": [
       "<Figure size 864x432 with 1 Axes>"
      ]
     },
     "metadata": {
      "needs_background": "light"
     },
     "output_type": "display_data"
    }
   ],
   "source": [
    "plt.figure(figsize=(12, 6))\n",
    "\n",
    "plt.plot(range(epochs), history.history['accuracy'], label=\"Training Accuracy\")\n",
    "plt.plot(range(epochs), history.history['val_accuracy'], label=\"Validation Accuracy\")\n",
    "\n",
    "plt.xlabel(\"Epoch\")\n",
    "plt.ylabel(\"Accuracy\")\n",
    "\n",
    "plt.legend()\n",
    "plt.title(\"Accuracy Over Time\")\n",
    "\n",
    "plt.show()"
   ]
  },
  {
   "cell_type": "markdown",
   "metadata": {},
   "source": [
    "For Closure, here are the results for our testing set. The loss is kept low at 1.4469. The AUC score is .7515, meaning the model did a pretty good job at predicting True Positive results for our variable of interest."
   ]
  },
  {
   "cell_type": "code",
   "execution_count": 44,
   "metadata": {
    "scrolled": true
   },
   "outputs": [
    {
     "name": "stdout",
     "output_type": "stream",
     "text": [
      "12/12 [==============================] - 0s 1ms/step - loss: 1.3783 - accuracy: 0.6931 - auc: 0.7483\n"
     ]
    },
    {
     "data": {
      "text/plain": [
       "[1.3782597780227661, 0.6931216716766357, 0.7483192086219788]"
      ]
     },
     "execution_count": 44,
     "metadata": {},
     "output_type": "execute_result"
    }
   ],
   "source": [
    "model.evaluate(X_test, y_test)"
   ]
  },
  {
   "cell_type": "markdown",
   "metadata": {},
   "source": [
    "### Alternative Model Comparisons for Hypothesis 1 "
   ]
  },
  {
   "cell_type": "markdown",
   "metadata": {},
   "source": [
    "In Machine Learning, the theorem of \"No Free Lunch\" is a common conception where almost always no model will be the best for any problem. In our case, after building our Neural Network model, it is a good idea to compare it to other models. This way we can gauge how well our data overall can be used for prediction. In our alternative models, we used a K-Means, Random Forest and Decicion Tree Classifier. Below are the results. \n",
    "\n",
    "Models:\n",
    "\n",
    "**KNearestNeighbors**\n",
    "\n",
    "* Training Accuracy:  0.694\n",
    "* Test Accuracy:  0.616\n",
    "\n",
    "**RandomForest**\n",
    "* RandomForest Training Accuracy:  0.780 \n",
    "* Test Accuracy:  0.688\n",
    "\n",
    "**Decition Tree Classifier**\n",
    "* Training Accuracy:  0.545\n",
    "* Test Accuracy:  0.432\n",
    "\n",
    "**Keras**\n",
    "* Test Accuracy: 6746\n",
    "\n",
    "\n",
    "Based on the alternative models, the RandomForest model did perform slightly better on the testing set. One advantage to the Neural Network model is it is highly customizable. In our project, we made many adjustments to determine how many nodes to use in order to build the model. Also, we did add hidden nodes, but removed them in the end as hidden nodes require more computing power and reduced our train/test scores. Overall, the Neural Network performed well for our dataset."
   ]
  },
  {
   "cell_type": "code",
   "execution_count": 45,
   "metadata": {},
   "outputs": [
    {
     "name": "stdout",
     "output_type": "stream",
     "text": [
      "F1-score:  0.5549796721651087\n"
     ]
    }
   ],
   "source": [
    "from sklearn.model_selection import KFold\n",
    "from sklearn.neighbors import KNeighborsClassifier\n",
    "from sklearn.metrics import f1_score\n",
    "kf = KFold(n_splits=10)\n",
    "kf.get_n_splits(X)\n",
    "ypredicted=[]\n",
    "list = []\n",
    "\n",
    "for train_index, test_index in kf.split(X):\n",
    "    X_train, X_test = X[train_index], X[test_index]\n",
    "    y_train, y_test = y[train_index], y[test_index]\n",
    "    \n",
    "    classifier = KNeighborsClassifier(6)\n",
    "    classifier.fit(X_train, y_train)\n",
    "    ypredicted1 = classifier.predict(X_test)\n",
    "    ypredicted.extend(ypredicted1)\n",
    "    list.extend(y_test)\n",
    "print(\"F1-score: \", f1_score(list,ypredicted, average=\"macro\"))"
   ]
  },
  {
   "cell_type": "code",
   "execution_count": 46,
   "metadata": {},
   "outputs": [],
   "source": [
    "from sklearn.metrics import accuracy_score\n",
    "list_accuracy=[]\n",
    "for i in range(3,12,1):\n",
    "    Classifier = KNeighborsClassifier(i, algorithm=\"brute\")\n",
    "    Classifier.fit(X_train, y_train)\n",
    "    ypredicted = Classifier.predict(X_test)\n",
    "    result = accuracy_score(y_test, ypredicted)\n",
    "    list_accuracy.append(result)"
   ]
  },
  {
   "cell_type": "code",
   "execution_count": 47,
   "metadata": {},
   "outputs": [
    {
     "data": {
      "image/png": "[encoded data removed]",
      "text/plain": [
       "<Figure size 432x288 with 1 Axes>"
      ]
     },
     "metadata": {
      "needs_background": "light"
     },
     "output_type": "display_data"
    }
   ],
   "source": [
    "plt.plot(list_accuracy)\n",
    "plt.ylabel('Accuracy ')\n",
    "plt.xlabel('Number of Neighbors (K)')\n",
    "plt.tight_layout() \n",
    "plt.show()"
   ]
  },
  {
   "cell_type": "code",
   "execution_count": 48,
   "metadata": {},
   "outputs": [
    {
     "name": "stdout",
     "output_type": "stream",
     "text": [
      "F1-score:  0.6830018155073482\n"
     ]
    }
   ],
   "source": [
    "from sklearn.tree import DecisionTreeClassifier\n",
    "from sklearn.tree import plot_tree\n",
    "from sklearn.model_selection import train_test_split\n",
    "kf = KFold(n_splits=10)\n",
    "kf.get_n_splits(X)\n",
    "ypredicted=[]\n",
    "list = []\n",
    "\n",
    "for train_index, test_index in kf.split(X):\n",
    "    X_train, X_test = X[train_index], X[test_index]\n",
    "    y_train, y_test = y[train_index], y[test_index]\n",
    "    \n",
    "    classifier =DecisionTreeClassifier(criterion=\"entropy\")\n",
    "    classifier.fit(X_train, y_train)\n",
    "    ypredicted1 = classifier.predict(X_test)\n",
    "    ypredicted.extend(ypredicted1)\n",
    "    list.extend(y_test)\n",
    "print(\"F1-score: \", f1_score(list,ypredicted, average=\"macro\"))"
   ]
  },
  {
   "cell_type": "code",
   "execution_count": 49,
   "metadata": {},
   "outputs": [
    {
     "name": "stdout",
     "output_type": "stream",
     "text": [
      "F1-score:  0.6204928861255858\n"
     ]
    }
   ],
   "source": [
    "from sklearn.ensemble import RandomForestClassifier\n",
    "kf = KFold(n_splits=10)\n",
    "kf.get_n_splits(X)\n",
    "ypredicted=[]\n",
    "list = []\n",
    "\n",
    "for train_index, test_index in kf.split(X):\n",
    "    X_train, X_test = X[train_index], X[test_index]\n",
    "    y_train, y_test = y[train_index], y[test_index]\n",
    "    \n",
    "    classifier =RandomForestClassifier(class_weight= {0: 1, 1: 1}, criterion= 'entropy'\n",
    "                             , max_depth= 5, \n",
    "                             max_features=3,\n",
    "                             max_leaf_nodes= 8, \n",
    "                             min_impurity_decrease= 0.02, \n",
    "                             min_samples_split= 2,\n",
    "                             n_estimators=100)\n",
    "    classifier.fit(X_train, y_train)\n",
    "    ypredicted1 = classifier.predict(X_test)\n",
    "    ypredicted.extend(ypredicted1)\n",
    "    list.extend(y_test)\n",
    "print(\"F1-score: \", f1_score(list,ypredicted, average=\"macro\"))"
   ]
  },
  {
   "cell_type": "code",
   "execution_count": 50,
   "metadata": {},
   "outputs": [
    {
     "name": "stdout",
     "output_type": "stream",
     "text": [
      "F1-score:  0.6317655968453764\n"
     ]
    }
   ],
   "source": [
    "kf = KFold(n_splits=10)\n",
    "kf.get_n_splits(X)\n",
    "ypredicted=[]\n",
    "list = []\n",
    "\n",
    "for train_index, test_index in kf.split(X):\n",
    "    X_train, X_test = X[train_index], X[test_index]\n",
    "    y_train, y_test = y[train_index], y[test_index]\n",
    "    \n",
    "    classifier =RandomForestClassifier(class_weight= {0: 1, 1: 1}, criterion= 'entropy'\n",
    "                             , max_depth= 5, \n",
    "                             max_features=3,\n",
    "                             max_leaf_nodes= 8, \n",
    "                             min_impurity_decrease= 0.02, \n",
    "                             min_samples_split= 2,\n",
    "                             n_estimators=100)\n",
    "    classifier.fit(X_train, y_train)\n",
    "    ypredicted1 = classifier.predict(X_test)\n",
    "    ypredicted.extend(ypredicted1)\n",
    "    list.extend(y_test)\n",
    "print(\"F1-score: \", f1_score(list,ypredicted, average=\"macro\"))"
   ]
  },
  {
   "cell_type": "code",
   "execution_count": 51,
   "metadata": {},
   "outputs": [
    {
     "name": "stdout",
     "output_type": "stream",
     "text": [
      "Training Accuracy:  0.6940035273368607\n",
      "Test Accuracy:  0.616\n"
     ]
    }
   ],
   "source": [
    "from sklearn.neighbors import KNeighborsClassifier\n",
    "\n",
    "knn = KNeighborsClassifier(n_neighbors=27, weights='uniform')\n",
    "knn.fit(X_train, y_train)\n",
    "\n",
    "y_pred_class = knn.predict(X_test)\n",
    "    \n",
    "print(\"Training Accuracy: \",knn.score(X_train,y_train))\n",
    "print(\"Test Accuracy: \",accuracy_score(y_test,y_pred_class,normalize=True))"
   ]
  },
  {
   "cell_type": "code",
   "execution_count": 52,
   "metadata": {},
   "outputs": [
    {
     "name": "stdout",
     "output_type": "stream",
     "text": [
      "Training Accuracy:  0.7795414462081128\n",
      "Test Accuracy:  0.688\n"
     ]
    }
   ],
   "source": [
    "from sklearn.ensemble import RandomForestClassifier\n",
    "\n",
    "forest = RandomForestClassifier(max_depth = None, min_samples_leaf=8, min_samples_split=2, n_estimators = 20, random_state = 1)\n",
    "forest.fit(X_train, y_train)\n",
    "    \n",
    "y_pred_class = forest.predict(X_test)\n",
    "\n",
    "print(\"Training Accuracy: \",forest.score(X_train,y_train))\n",
    "print(\"Test Accuracy: \",accuracy_score(y_test,y_pred_class,normalize=True))"
   ]
  },
  {
   "cell_type": "code",
   "execution_count": 53,
   "metadata": {},
   "outputs": [
    {
     "name": "stdout",
     "output_type": "stream",
     "text": [
      "Training Accuracy:  0.5502645502645502\n",
      "Test Accuracy:  0.44\n"
     ]
    }
   ],
   "source": [
    "from sklearn.tree import DecisionTreeClassifier\n",
    "\n",
    "tree = DecisionTreeClassifier(max_depth=3, min_samples_split=8, max_features=6, criterion='entropy', min_samples_leaf=7)\n",
    "tree.fit(X_train, y_train)\n",
    "\n",
    "y_pred_class = tree.predict(X_test)\n",
    "\n",
    "print(\"Training Accuracy: \",tree.score(X_train,y_train))\n",
    "print(\"Test Accuracy: \",accuracy_score(y_test,y_pred_class,normalize=True))"
   ]
  },
  {
   "cell_type": "markdown",
   "metadata": {},
   "source": [
    "# ANN Model 2"
   ]
  },
  {
   "cell_type": "markdown",
   "metadata": {},
   "source": [
    "**HYPOTHESIS 2:** Based on survey responses, if the subject has a health condition, does he feel that it interferes with his/her work?\n",
    "For subjects with a health condition:\n",
    "* 1 if subject feels it interferece with work\n",
    "* 0 if subject feels does not interfere with work\n",
    "\n",
    "This hypothesis is significant because being able to predict those for whom mental illness is likely to be an intereference gives the tech companies the chance to prevent that and thus, assist their employees in being more productive. This could mean providing the right accomodations sooner rather than later.\n",
    "\n",
    "*Note:* We'll use the same steps as Hypothesis 1 to build our model. The only difference is we will change our dependent variable for prediction"
   ]
  },
  {
   "cell_type": "code",
   "execution_count": 54,
   "metadata": {},
   "outputs": [
    {
     "data": {
      "text/plain": [
       "0        True\n",
       "1        True\n",
       "2        True\n",
       "3        True\n",
       "4       False\n",
       "        ...  \n",
       "1254     True\n",
       "1255     True\n",
       "1256     True\n",
       "1257     True\n",
       "1258     True\n",
       "Name: work_interfere, Length: 1259, dtype: bool"
      ]
     },
     "execution_count": 54,
     "metadata": {},
     "output_type": "execute_result"
    }
   ],
   "source": [
    "#If there is no interference in work then 0 else 1\n",
    "data.work_interfere>0"
   ]
  },
  {
   "cell_type": "code",
   "execution_count": 55,
   "metadata": {},
   "outputs": [],
   "source": [
    "data.work_interfere[data.work_interfere>0]=1"
   ]
  },
  {
   "cell_type": "code",
   "execution_count": 56,
   "metadata": {},
   "outputs": [],
   "source": [
    "y = data['work_interfere'].copy()\n",
    "X = data.drop('work_interfere', axis=1).copy()"
   ]
  },
  {
   "cell_type": "code",
   "execution_count": 57,
   "metadata": {},
   "outputs": [],
   "source": [
    "scaler = StandardScaler()\n",
    "X = scaler.fit_transform(X)"
   ]
  },
  {
   "cell_type": "code",
   "execution_count": 58,
   "metadata": {},
   "outputs": [],
   "source": [
    "X_train, X_test, y_train, y_test = train_test_split(X, y, train_size=0.7)"
   ]
  },
  {
   "cell_type": "code",
   "execution_count": 59,
   "metadata": {},
   "outputs": [
    {
     "name": "stdout",
     "output_type": "stream",
     "text": [
      "Epoch 1/50\n",
      "11/11 [==============================] - 1s 28ms/step - loss: 0.5154 - accuracy: 0.8139 - auc: 0.5832 - val_loss: 0.4588 - val_accuracy: 0.8136 - val_auc: 0.6260\n",
      "Epoch 2/50\n",
      "11/11 [==============================] - 0s 8ms/step - loss: 0.3214 - accuracy: 0.8722 - auc: 0.8734 - val_loss: 0.4696 - val_accuracy: 0.8023 - val_auc: 0.6638\n",
      "Epoch 3/50\n",
      "11/11 [==============================] - 0s 8ms/step - loss: 0.2617 - accuracy: 0.9015 - auc: 0.9266 - val_loss: 0.5618 - val_accuracy: 0.7966 - val_auc: 0.6406\n",
      "Epoch 4/50\n",
      "11/11 [==============================] - 0s 7ms/step - loss: 0.1847 - accuracy: 0.9353 - auc: 0.9697 - val_loss: 0.6711 - val_accuracy: 0.8136 - val_auc: 0.6381\n",
      "Epoch 5/50\n",
      "11/11 [==============================] - 0s 7ms/step - loss: 0.1219 - accuracy: 0.9549 - auc: 0.9916 - val_loss: 0.7462 - val_accuracy: 0.7684 - val_auc: 0.6191\n",
      "Epoch 6/50\n",
      "11/11 [==============================] - 0s 7ms/step - loss: 0.1079 - accuracy: 0.9742 - auc: 0.9936 - val_loss: 0.8425 - val_accuracy: 0.7458 - val_auc: 0.6013\n",
      "Epoch 7/50\n",
      "11/11 [==============================] - 0s 8ms/step - loss: 0.0826 - accuracy: 0.9897 - auc: 0.9971 - val_loss: 1.0607 - val_accuracy: 0.8079 - val_auc: 0.6034\n",
      "Epoch 8/50\n",
      "11/11 [==============================] - 0s 8ms/step - loss: 0.0535 - accuracy: 0.9866 - auc: 0.9991 - val_loss: 1.1516 - val_accuracy: 0.7910 - val_auc: 0.6027\n",
      "Epoch 9/50\n",
      "11/11 [==============================] - 0s 8ms/step - loss: 0.0346 - accuracy: 0.9984 - auc: 0.9997 - val_loss: 1.1805 - val_accuracy: 0.7740 - val_auc: 0.6017\n",
      "Epoch 10/50\n",
      "11/11 [==============================] - 0s 7ms/step - loss: 0.0219 - accuracy: 0.9966 - auc: 0.9997 - val_loss: 1.3721 - val_accuracy: 0.7910 - val_auc: 0.5967\n",
      "Epoch 11/50\n",
      "11/11 [==============================] - 0s 8ms/step - loss: 0.0166 - accuracy: 0.9983 - auc: 1.0000 - val_loss: 1.4516 - val_accuracy: 0.7571 - val_auc: 0.5881\n",
      "Epoch 12/50\n",
      "11/11 [==============================] - 0s 8ms/step - loss: 0.0113 - accuracy: 1.0000 - auc: 1.0000 - val_loss: 1.4679 - val_accuracy: 0.7740 - val_auc: 0.5866\n",
      "Epoch 13/50\n",
      "11/11 [==============================] - 0s 7ms/step - loss: 0.0085 - accuracy: 1.0000 - auc: 1.0000 - val_loss: 1.4870 - val_accuracy: 0.7740 - val_auc: 0.5905\n",
      "Epoch 14/50\n",
      "11/11 [==============================] - 0s 8ms/step - loss: 0.0084 - accuracy: 1.0000 - auc: 1.0000 - val_loss: 1.5006 - val_accuracy: 0.7684 - val_auc: 0.5893\n",
      "Epoch 15/50\n",
      "11/11 [==============================] - 0s 8ms/step - loss: 0.0073 - accuracy: 1.0000 - auc: 1.0000 - val_loss: 1.5116 - val_accuracy: 0.7740 - val_auc: 0.5906\n",
      "Epoch 16/50\n",
      "11/11 [==============================] - 0s 8ms/step - loss: 0.0062 - accuracy: 1.0000 - auc: 1.0000 - val_loss: 1.5229 - val_accuracy: 0.7740 - val_auc: 0.5896\n",
      "Epoch 17/50\n",
      "11/11 [==============================] - 0s 7ms/step - loss: 0.0071 - accuracy: 1.0000 - auc: 1.0000 - val_loss: 1.5351 - val_accuracy: 0.7740 - val_auc: 0.5877\n",
      "Epoch 18/50\n",
      "11/11 [==============================] - 0s 7ms/step - loss: 0.0063 - accuracy: 1.0000 - auc: 1.0000 - val_loss: 1.5461 - val_accuracy: 0.7740 - val_auc: 0.5872\n",
      "Epoch 19/50\n",
      "11/11 [==============================] - 0s 7ms/step - loss: 0.0080 - accuracy: 1.0000 - auc: 1.0000 - val_loss: 1.5533 - val_accuracy: 0.7740 - val_auc: 0.5874\n",
      "Epoch 20/50\n",
      "11/11 [==============================] - 0s 7ms/step - loss: 0.0048 - accuracy: 1.0000 - auc: 1.0000 - val_loss: 1.5649 - val_accuracy: 0.7853 - val_auc: 0.5895\n",
      "Epoch 21/50\n",
      "11/11 [==============================] - 0s 8ms/step - loss: 0.0057 - accuracy: 1.0000 - auc: 1.0000 - val_loss: 1.5735 - val_accuracy: 0.7797 - val_auc: 0.5886\n",
      "Epoch 22/50\n",
      "11/11 [==============================] - 0s 8ms/step - loss: 0.0049 - accuracy: 1.0000 - auc: 1.0000 - val_loss: 1.5743 - val_accuracy: 0.7797 - val_auc: 0.5886\n",
      "Epoch 23/50\n",
      "11/11 [==============================] - 0s 8ms/step - loss: 0.0056 - accuracy: 1.0000 - auc: 1.0000 - val_loss: 1.5750 - val_accuracy: 0.7797 - val_auc: 0.5887\n",
      "Epoch 24/50\n",
      "11/11 [==============================] - 0s 7ms/step - loss: 0.0051 - accuracy: 1.0000 - auc: 1.0000 - val_loss: 1.5759 - val_accuracy: 0.7797 - val_auc: 0.5887\n",
      "Epoch 25/50\n",
      "11/11 [==============================] - 0s 8ms/step - loss: 0.0046 - accuracy: 1.0000 - auc: 1.0000 - val_loss: 1.5765 - val_accuracy: 0.7797 - val_auc: 0.5887\n",
      "Epoch 26/50\n",
      "11/11 [==============================] - 0s 7ms/step - loss: 0.0050 - accuracy: 1.0000 - auc: 1.0000 - val_loss: 1.5773 - val_accuracy: 0.7797 - val_auc: 0.5887\n",
      "Epoch 27/50\n",
      "11/11 [==============================] - 0s 9ms/step - loss: 0.0054 - accuracy: 1.0000 - auc: 1.0000 - val_loss: 1.5784 - val_accuracy: 0.7797 - val_auc: 0.5888\n",
      "Epoch 28/50\n",
      "11/11 [==============================] - 0s 8ms/step - loss: 0.0049 - accuracy: 1.0000 - auc: 1.0000 - val_loss: 1.5791 - val_accuracy: 0.7797 - val_auc: 0.5887\n",
      "Epoch 29/50\n",
      "11/11 [==============================] - 0s 8ms/step - loss: 0.0055 - accuracy: 1.0000 - auc: 1.0000 - val_loss: 1.5799 - val_accuracy: 0.7797 - val_auc: 0.5884\n",
      "Epoch 30/50\n",
      "11/11 [==============================] - 0s 8ms/step - loss: 0.0056 - accuracy: 1.0000 - auc: 1.0000 - val_loss: 1.5811 - val_accuracy: 0.7797 - val_auc: 0.5884\n",
      "Epoch 31/50\n",
      "11/11 [==============================] - 0s 8ms/step - loss: 0.0053 - accuracy: 1.0000 - auc: 1.0000 - val_loss: 1.5821 - val_accuracy: 0.7797 - val_auc: 0.5886\n",
      "Epoch 32/50\n",
      "11/11 [==============================] - 0s 8ms/step - loss: 0.0053 - accuracy: 1.0000 - auc: 1.0000 - val_loss: 1.5822 - val_accuracy: 0.7797 - val_auc: 0.5886\n",
      "Epoch 33/50\n",
      "11/11 [==============================] - 0s 8ms/step - loss: 0.0051 - accuracy: 1.0000 - auc: 1.0000 - val_loss: 1.5822 - val_accuracy: 0.7797 - val_auc: 0.5886\n",
      "Epoch 34/50\n",
      "11/11 [==============================] - 0s 9ms/step - loss: 0.0051 - accuracy: 1.0000 - auc: 1.0000 - val_loss: 1.5824 - val_accuracy: 0.7797 - val_auc: 0.5886\n",
      "Epoch 35/50\n",
      "11/11 [==============================] - 0s 8ms/step - loss: 0.0057 - accuracy: 1.0000 - auc: 1.0000 - val_loss: 1.5825 - val_accuracy: 0.7797 - val_auc: 0.5886\n",
      "Epoch 36/50\n",
      "11/11 [==============================] - 0s 8ms/step - loss: 0.0053 - accuracy: 1.0000 - auc: 1.0000 - val_loss: 1.5825 - val_accuracy: 0.7797 - val_auc: 0.5886\n",
      "Epoch 37/50\n",
      "11/11 [==============================] - 0s 7ms/step - loss: 0.0049 - accuracy: 1.0000 - auc: 1.0000 - val_loss: 1.5826 - val_accuracy: 0.7797 - val_auc: 0.5886\n",
      "Epoch 38/50\n",
      "11/11 [==============================] - 0s 7ms/step - loss: 0.0050 - accuracy: 1.0000 - auc: 1.0000 - val_loss: 1.5827 - val_accuracy: 0.7797 - val_auc: 0.5886\n",
      "Epoch 39/50\n",
      "11/11 [==============================] - 0s 7ms/step - loss: 0.0054 - accuracy: 1.0000 - auc: 1.0000 - val_loss: 1.5829 - val_accuracy: 0.7797 - val_auc: 0.5886\n",
      "Epoch 40/50\n",
      "11/11 [==============================] - 0s 7ms/step - loss: 0.0050 - accuracy: 1.0000 - auc: 1.0000 - val_loss: 1.5830 - val_accuracy: 0.7797 - val_auc: 0.5887\n",
      "Epoch 41/50\n",
      "11/11 [==============================] - 0s 7ms/step - loss: 0.0058 - accuracy: 1.0000 - auc: 1.0000 - val_loss: 1.5831 - val_accuracy: 0.7797 - val_auc: 0.5886\n",
      "Epoch 42/50\n",
      "11/11 [==============================] - 0s 7ms/step - loss: 0.0051 - accuracy: 1.0000 - auc: 1.0000 - val_loss: 1.5831 - val_accuracy: 0.7797 - val_auc: 0.5886\n",
      "Epoch 43/50\n",
      "11/11 [==============================] - 0s 7ms/step - loss: 0.0056 - accuracy: 1.0000 - auc: 1.0000 - val_loss: 1.5831 - val_accuracy: 0.7797 - val_auc: 0.5886\n",
      "Epoch 44/50\n",
      "11/11 [==============================] - 0s 7ms/step - loss: 0.0047 - accuracy: 1.0000 - auc: 1.0000 - val_loss: 1.5831 - val_accuracy: 0.7797 - val_auc: 0.5886\n",
      "Epoch 45/50\n",
      "11/11 [==============================] - 0s 7ms/step - loss: 0.0052 - accuracy: 1.0000 - auc: 1.0000 - val_loss: 1.5831 - val_accuracy: 0.7797 - val_auc: 0.5886\n",
      "Epoch 46/50\n",
      "11/11 [==============================] - 0s 8ms/step - loss: 0.0060 - accuracy: 1.0000 - auc: 1.0000 - val_loss: 1.5831 - val_accuracy: 0.7797 - val_auc: 0.5886\n",
      "Epoch 47/50\n",
      "11/11 [==============================] - 0s 7ms/step - loss: 0.0055 - accuracy: 1.0000 - auc: 1.0000 - val_loss: 1.5831 - val_accuracy: 0.7797 - val_auc: 0.5886\n",
      "Epoch 48/50\n",
      "11/11 [==============================] - 0s 8ms/step - loss: 0.0052 - accuracy: 1.0000 - auc: 1.0000 - val_loss: 1.5832 - val_accuracy: 0.7797 - val_auc: 0.5886\n",
      "Epoch 49/50\n",
      "11/11 [==============================] - 0s 8ms/step - loss: 0.0059 - accuracy: 1.0000 - auc: 1.0000 - val_loss: 1.5832 - val_accuracy: 0.7797 - val_auc: 0.5886\n",
      "Epoch 50/50\n",
      "11/11 [==============================] - 0s 8ms/step - loss: 0.0053 - accuracy: 1.0000 - auc: 1.0000 - val_loss: 1.5832 - val_accuracy: 0.7797 - val_auc: 0.5886\n"
     ]
    }
   ],
   "source": [
    "inputs = tf.keras.Input(shape=(X.shape[1],))\n",
    "x = tf.keras.layers.Dense(1024, activation='relu')(inputs)\n",
    "x = tf.keras.layers.Dense(1024, activation='relu')(x)\n",
    "outputs = tf.keras.layers.Dense(1, activation='sigmoid')(x)\n",
    "\n",
    "model = tf.keras.Model(inputs, outputs)\n",
    "\n",
    "\n",
    "model.compile(\n",
    "    optimizer='adam',\n",
    "    loss='binary_crossentropy',\n",
    "    metrics=[\n",
    "        'accuracy',\n",
    "        tf.keras.metrics.AUC(name='auc')\n",
    "    ]\n",
    ")\n",
    "\n",
    "batch_size = 64\n",
    "epochs = 50\n",
    "\n",
    "history = model.fit(\n",
    "    X_train,\n",
    "    y_train,\n",
    "    validation_split=0.2,\n",
    "    batch_size=batch_size,\n",
    "    epochs=epochs,\n",
    "    callbacks=[\n",
    "        tf.keras.callbacks.ReduceLROnPlateau()\n",
    "    ]\n",
    ")"
   ]
  },
  {
   "cell_type": "markdown",
   "metadata": {},
   "source": [
    "### Hypothesis 2 Model Train and Test Results\n",
    "\n",
    "Similarly to hypothesis 1, the results were quite consistent. We had a small loss (close to zero) with perfect or near perfect accuracy. In this model, as compared to model 1, the validation loss is smaller.\n",
    "\n",
    "However, when we test this model using our testing set, the accuracy was higher but AUC score is lower than model 1. For our data, the proportion of true positive and true negatives are higher, but there is a recall tradeoff. "
   ]
  },
  {
   "cell_type": "code",
   "execution_count": 60,
   "metadata": {},
   "outputs": [
    {
     "data": {
      "image/png": "[encoded data removed]",
      "text/plain": [
       "<Figure size 864x432 with 1 Axes>"
      ]
     },
     "metadata": {
      "needs_background": "light"
     },
     "output_type": "display_data"
    }
   ],
   "source": [
    "plt.figure(figsize=(12, 6))\n",
    "\n",
    "plt.plot(range(epochs), history.history['accuracy'], label=\"Training Accuracy\")\n",
    "plt.plot(range(epochs), history.history['val_accuracy'], label=\"Validation Accuracy\")\n",
    "\n",
    "plt.xlabel(\"Epoch\")\n",
    "plt.ylabel(\"Accuracy\")\n",
    "\n",
    "plt.legend()\n",
    "plt.title(\"Accuracy Over Time\")\n",
    "\n",
    "plt.show()"
   ]
  },
  {
   "cell_type": "code",
   "execution_count": 61,
   "metadata": {
    "scrolled": true
   },
   "outputs": [
    {
     "name": "stdout",
     "output_type": "stream",
     "text": [
      "12/12 [==============================] - 0s 997us/step - loss: 1.2176 - accuracy: 0.8016 - auc: 0.6358\n"
     ]
    },
    {
     "data": {
      "text/plain": [
       "[1.2175520658493042, 0.8015872836112976, 0.6358017921447754]"
      ]
     },
     "execution_count": 61,
     "metadata": {},
     "output_type": "execute_result"
    }
   ],
   "source": [
    "model.evaluate(X_test, y_test)"
   ]
  },
  {
   "cell_type": "markdown",
   "metadata": {},
   "source": [
    "## Conclusion\n",
    "Ultimately, our two hypothesis were able predict employees that will most likely seek treatment and those for whom mental illness is likely to become an interference. The first hypothese predicts with a validation accuracy of 66% and the second, with a validation accuracy of 79%. While there is room for improvement, our models can make significant strides in translating to actionable recommendations for employers. These models can successfully predict our two hypotheses. "
   ]
  },
  {
   "cell_type": "markdown",
   "metadata": {},
   "source": [
    "The ANN model proves sufficient in modeling our mental health data, however, it seems to experience some level of overfitting, indicated by the difference between our training and validation accuracy in both models. A recommendation for future studies would be to address this further, maybe in ways that are outside of the scope of this study."
   ]
  }
 ],
 "metadata": {
  "kernelspec": {
   "display_name": "Python 3",
   "language": "python",
   "name": "python3"
  },
  "language_info": {
   "codemirror_mode": {
    "name": "ipython",
    "version": 3
   },
   "file_extension": ".py",
   "mimetype": "text/x-python",
   "name": "python",
   "nbconvert_exporter": "python",
   "pygments_lexer": "ipython3",
   "version": "3.8.5"
  }
 },
 "nbformat": 4,
 "nbformat_minor": 4
}
